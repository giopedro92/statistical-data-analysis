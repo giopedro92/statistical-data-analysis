{
 "cells": [
  {
   "cell_type": "markdown",
   "id": "f6e93634",
   "metadata": {},
   "source": [
    "# rf601_intminuit\n",
    "Likelihood and minimization: interactive minimization with MINUIT\n",
    "\n",
    "\n",
    "\n",
    "\n",
    "**Author:** Wouter Verkerke  \n",
    "<i><small>This notebook tutorial was automatically generated with <a href= \"https://github.com/root-project/root/blob/master/documentation/doxygen/converttonotebook.py\">ROOTBOOK-izer</a> from the macro found in the ROOT repository  on Saturday, November 16, 2024 at 10:25 AM.</small></i>"
   ]
  },
  {
   "cell_type": "code",
   "execution_count": 1,
   "id": "4c9de7ad",
   "metadata": {
    "collapsed": false,
    "execution": {
     "iopub.execute_input": "2024-11-16T10:25:21.564464Z",
     "iopub.status.busy": "2024-11-16T10:25:21.563997Z",
     "iopub.status.idle": "2024-11-16T10:25:21.593207Z",
     "shell.execute_reply": "2024-11-16T10:25:21.592174Z"
    }
   },
   "outputs": [],
   "source": [
    "%%cpp -d\n",
    "#include \"RooRealVar.h\"\n",
    "#include \"RooDataSet.h\"\n",
    "#include \"RooGaussian.h\"\n",
    "#include \"RooProdPdf.h\"\n",
    "#include \"RooAddPdf.h\"\n",
    "#include \"RooMinimizer.h\"\n",
    "#include \"RooFitResult.h\"\n",
    "#include \"RooPlot.h\"\n",
    "#include \"TCanvas.h\"\n",
    "#include \"TAxis.h\"\n",
    "#include \"TH1.h\"\n",
    "using namespace RooFit;"
   ]
  },
  {
   "cell_type": "markdown",
   "id": "824b9105",
   "metadata": {},
   "source": [
    "Setup pdf and likelihood\n",
    "-----------------------------------------------"
   ]
  },
  {
   "cell_type": "markdown",
   "id": "5f34c8d0",
   "metadata": {},
   "source": [
    "Observable"
   ]
  },
  {
   "cell_type": "code",
   "execution_count": 2,
   "id": "9ff2a6da",
   "metadata": {
    "collapsed": false,
    "execution": {
     "iopub.execute_input": "2024-11-16T10:25:21.597778Z",
     "iopub.status.busy": "2024-11-16T10:25:21.597474Z",
     "iopub.status.idle": "2024-11-16T10:25:22.054836Z",
     "shell.execute_reply": "2024-11-16T10:25:22.053534Z"
    }
   },
   "outputs": [],
   "source": [
    "RooRealVar x(\"x\", \"x\", -20, 20);"
   ]
  },
  {
   "cell_type": "markdown",
   "id": "e239a00e",
   "metadata": {},
   "source": [
    "Model (intentional strong correlations)"
   ]
  },
  {
   "cell_type": "code",
   "execution_count": 3,
   "id": "26c58fe2",
   "metadata": {
    "collapsed": false,
    "execution": {
     "iopub.execute_input": "2024-11-16T10:25:22.059149Z",
     "iopub.status.busy": "2024-11-16T10:25:22.058835Z",
     "iopub.status.idle": "2024-11-16T10:25:22.472358Z",
     "shell.execute_reply": "2024-11-16T10:25:22.471414Z"
    }
   },
   "outputs": [
    {
     "name": "stdout",
     "output_type": "stream",
     "text": [
      "[#0] WARNING:InputArguments -- The parameter 'sigma_g1' with range [-inf, inf] of the RooGaussian 'g1' exceeds the safe range of (0, inf). Advise to limit its range.\n"
     ]
    }
   ],
   "source": [
    "RooRealVar mean(\"mean\", \"mean of g1 and g2\", 0);\n",
    "RooRealVar sigma_g1(\"sigma_g1\", \"width of g1\", 3);\n",
    "RooGaussian g1(\"g1\", \"g1\", x, mean, sigma_g1);\n",
    "\n",
    "RooRealVar sigma_g2(\"sigma_g2\", \"width of g2\", 4, 3.0, 6.0);\n",
    "RooGaussian g2(\"g2\", \"g2\", x, mean, sigma_g2);\n",
    "\n",
    "RooRealVar frac(\"frac\", \"frac\", 0.5, 0.0, 1.0);\n",
    "RooAddPdf model(\"model\", \"model\", RooArgList(g1, g2), frac);"
   ]
  },
  {
   "cell_type": "markdown",
   "id": "e6915920",
   "metadata": {},
   "source": [
    "Generate 1000 events"
   ]
  },
  {
   "cell_type": "code",
   "execution_count": 4,
   "id": "a9315932",
   "metadata": {
    "collapsed": false,
    "execution": {
     "iopub.execute_input": "2024-11-16T10:25:22.476224Z",
     "iopub.status.busy": "2024-11-16T10:25:22.475920Z",
     "iopub.status.idle": "2024-11-16T10:25:22.691482Z",
     "shell.execute_reply": "2024-11-16T10:25:22.690296Z"
    }
   },
   "outputs": [
    {
     "name": "stderr",
     "output_type": "stream",
     "text": [
      "input_line_52:2:2: warning: 'data' shadows a declaration with the same name in the 'std' namespace; use '::data' to reference this declaration\n",
      " std::unique_ptr<RooDataSet> data{model.generate(x, 1000)};\n",
      " ^\n"
     ]
    }
   ],
   "source": [
    "std::unique_ptr<RooDataSet> data{model.generate(x, 1000)};"
   ]
  },
  {
   "cell_type": "markdown",
   "id": "8a90b5f2",
   "metadata": {},
   "source": [
    "Construct unbinned likelihood of model w.r.t. data"
   ]
  },
  {
   "cell_type": "code",
   "execution_count": 5,
   "id": "f0b0347d",
   "metadata": {
    "collapsed": false,
    "execution": {
     "iopub.execute_input": "2024-11-16T10:25:22.699948Z",
     "iopub.status.busy": "2024-11-16T10:25:22.699598Z",
     "iopub.status.idle": "2024-11-16T10:25:22.915858Z",
     "shell.execute_reply": "2024-11-16T10:25:22.914834Z"
    }
   },
   "outputs": [
    {
     "name": "stderr",
     "output_type": "stream",
     "text": [
      "input_line_53:2:51: error: reference to 'data' is ambiguous\n",
      " std::unique_ptr<RooAbsReal> nll{model.createNLL(*data)};\n",
      "                                                  ^\n",
      "input_line_52:2:30: note: candidate found by name lookup is 'data'\n",
      " std::unique_ptr<RooDataSet> data{model.generate(x, 1000)};\n",
      "                             ^\n",
      "/usr/include/c++/9/bits/range_access.h:318:5: note: candidate found by name lookup is 'std::data'\n",
      "    data(initializer_list<_Tp> __il) noexcept\n",
      "    ^\n",
      "/usr/include/c++/9/bits/range_access.h:289:5: note: candidate found by name lookup is 'std::data'\n",
      "    data(_Container& __cont) noexcept(noexcept(__cont.data()))\n",
      "    ^\n",
      "/usr/include/c++/9/bits/range_access.h:299:5: note: candidate found by name lookup is 'std::data'\n",
      "    data(const _Container& __cont) noexcept(noexcept(__cont.data()))\n",
      "    ^\n",
      "/usr/include/c++/9/bits/range_access.h:309:5: note: candidate found by name lookup is 'std::data'\n",
      "    data(_Tp (&__array)[_Nm]) noexcept\n",
      "    ^\n"
     ]
    }
   ],
   "source": [
    "std::unique_ptr<RooAbsReal> nll{model.createNLL(*data)};"
   ]
  },
  {
   "cell_type": "markdown",
   "id": "31ce99ce",
   "metadata": {},
   "source": [
    "Interactive minimization, error analysis\n",
    "-------------------------------------------------------------------------------"
   ]
  },
  {
   "cell_type": "markdown",
   "id": "dac3d967",
   "metadata": {},
   "source": [
    "Create MINUIT interface object"
   ]
  },
  {
   "cell_type": "code",
   "execution_count": 6,
   "id": "d220a521",
   "metadata": {
    "collapsed": false,
    "execution": {
     "iopub.execute_input": "2024-11-16T10:25:22.920213Z",
     "iopub.status.busy": "2024-11-16T10:25:22.919889Z",
     "iopub.status.idle": "2024-11-16T10:25:24.081850Z",
     "shell.execute_reply": "2024-11-16T10:25:24.080912Z"
    }
   },
   "outputs": [
    {
     "name": "stderr",
     "output_type": "stream",
     "text": [
      "[runStaticInitializersOnce]: Failed to materialize symbols: { (main, { _ZN5cling7runtime8internal15DynamicExprInfoC1EPKcPPvb, _ZN12__cling_N5241mE, __orc_init_func.cling-module-312, _ZN12__cling_N52424__dynamic__cling_Un1Qu30E, __cxx_global_var_initcling_module_312_.2, _GLOBAL__sub_I_cling_module_312, _ZN5cling7runtime8internal15DynamicExprInfoC2EPKcPPvb, $.cling-module-312.__inits.0, __cxx_global_var_initcling_module_312_, _ZNK5cling7runtime8internal15LifetimeHandler9getMemoryEv, _ZN12__cling_N52416__cling_Un1Qu323EPv }) }\n",
      "IncrementalExecutor::executeFunction: symbol '_ZN5cling7runtime8internal15LifetimeHandlerC1EPNS1_15DynamicExprInfoEPN5clang11DeclContextEPKcPNS_11InterpreterE' unresolved while linking [cling interface function]!\n",
      "You are probably missing the definition of cling::runtime::internal::LifetimeHandler::LifetimeHandler(cling::runtime::internal::DynamicExprInfo*, clang::DeclContext*, char const*, cling::Interpreter*)\n",
      "Maybe you need to load the corresponding shared library?\n",
      "IncrementalExecutor::executeFunction: symbol '_ZN5cling7runtime8internal15LifetimeHandlerD1Ev' unresolved while linking [cling interface function]!\n",
      "You are probably missing the definition of cling::runtime::internal::LifetimeHandler::~LifetimeHandler()\n",
      "Maybe you need to load the corresponding shared library?\n"
     ]
    }
   ],
   "source": [
    "RooMinimizer m(*nll);"
   ]
  },
  {
   "cell_type": "markdown",
   "id": "587d5bc0",
   "metadata": {},
   "source": [
    "Activate verbose logging of MINUIT parameter space stepping"
   ]
  },
  {
   "cell_type": "code",
   "execution_count": 7,
   "id": "268690b3",
   "metadata": {
    "collapsed": false,
    "execution": {
     "iopub.execute_input": "2024-11-16T10:25:24.085761Z",
     "iopub.status.busy": "2024-11-16T10:25:24.085465Z",
     "iopub.status.idle": "2024-11-16T10:25:24.303449Z",
     "shell.execute_reply": "2024-11-16T10:25:24.302105Z"
    }
   },
   "outputs": [
    {
     "name": "stderr",
     "output_type": "stream",
     "text": [
      "[runStaticInitializersOnce]: Failed to materialize symbols: { (main, { __orc_init_func.cling-module-312 }) }\n",
      "cling JIT session error: Failed to materialize symbols: { (main, { _ZN12__cling_N5241mE }) }\n"
     ]
    }
   ],
   "source": [
    "m.setVerbose(true);"
   ]
  },
  {
   "cell_type": "markdown",
   "id": "52272f21",
   "metadata": {},
   "source": [
    "Call MIGRAD to minimize the likelihood"
   ]
  },
  {
   "cell_type": "code",
   "execution_count": 8,
   "id": "4698e52f",
   "metadata": {
    "collapsed": false,
    "execution": {
     "iopub.execute_input": "2024-11-16T10:25:24.308240Z",
     "iopub.status.busy": "2024-11-16T10:25:24.307819Z",
     "iopub.status.idle": "2024-11-16T10:25:24.525693Z",
     "shell.execute_reply": "2024-11-16T10:25:24.524613Z"
    }
   },
   "outputs": [
    {
     "name": "stderr",
     "output_type": "stream",
     "text": [
      "cling JIT session error: Failed to materialize symbols: { (main, { _ZN12__cling_N5241mE }) }\n"
     ]
    }
   ],
   "source": [
    "m.migrad();"
   ]
  },
  {
   "cell_type": "markdown",
   "id": "961322c7",
   "metadata": {},
   "source": [
    "Print values of all parameters, that reflect values (and error estimates)\n",
    "that are back propagated from MINUIT"
   ]
  },
  {
   "cell_type": "code",
   "execution_count": 9,
   "id": "44ae1d60",
   "metadata": {
    "collapsed": false,
    "execution": {
     "iopub.execute_input": "2024-11-16T10:25:24.529917Z",
     "iopub.status.busy": "2024-11-16T10:25:24.529617Z",
     "iopub.status.idle": "2024-11-16T10:25:24.741298Z",
     "shell.execute_reply": "2024-11-16T10:25:24.740183Z"
    }
   },
   "outputs": [
    {
     "name": "stdout",
     "output_type": "stream",
     "text": [
      "  1) RooRealVar::     frac = 0.5\n",
      "  2) RooRealVar::     mean = 0\n",
      "  3) RooRealVar:: sigma_g1 = 3\n",
      "  4) RooRealVar:: sigma_g2 = 4\n"
     ]
    }
   ],
   "source": [
    "std::unique_ptr<RooArgSet>{model.getParameters(x)}->Print(\"s\");"
   ]
  },
  {
   "cell_type": "markdown",
   "id": "7e0c1742",
   "metadata": {},
   "source": [
    "Disable verbose logging"
   ]
  },
  {
   "cell_type": "code",
   "execution_count": 10,
   "id": "69af4f0e",
   "metadata": {
    "collapsed": false,
    "execution": {
     "iopub.execute_input": "2024-11-16T10:25:24.745920Z",
     "iopub.status.busy": "2024-11-16T10:25:24.745491Z",
     "iopub.status.idle": "2024-11-16T10:25:25.306855Z",
     "shell.execute_reply": "2024-11-16T10:25:25.305570Z"
    }
   },
   "outputs": [
    {
     "name": "stderr",
     "output_type": "stream",
     "text": [
      "cling JIT session error: Failed to materialize symbols: { (main, { _ZN12RooMinimizer10setVerboseEb }) }\n"
     ]
    }
   ],
   "source": [
    "m.setVerbose(false);"
   ]
  },
  {
   "cell_type": "markdown",
   "id": "64c5cb68",
   "metadata": {},
   "source": [
    "Run HESSE to calculate errors from d2L/dp2"
   ]
  },
  {
   "cell_type": "code",
   "execution_count": 11,
   "id": "4bbe10c4",
   "metadata": {
    "collapsed": false,
    "execution": {
     "iopub.execute_input": "2024-11-16T10:25:25.310796Z",
     "iopub.status.busy": "2024-11-16T10:25:25.310267Z",
     "iopub.status.idle": "2024-11-16T10:25:25.526447Z",
     "shell.execute_reply": "2024-11-16T10:25:25.525205Z"
    }
   },
   "outputs": [
    {
     "name": "stderr",
     "output_type": "stream",
     "text": [
      "cling JIT session error: Failed to materialize symbols: { (main, { _ZN12__cling_N5241mE }) }\n"
     ]
    }
   ],
   "source": [
    "m.hesse();"
   ]
  },
  {
   "cell_type": "markdown",
   "id": "56f16e91",
   "metadata": {},
   "source": [
    "Print value (and error) of sigma_g2 parameter, that reflects\n",
    "value and error back propagated from MINUIT"
   ]
  },
  {
   "cell_type": "code",
   "execution_count": 12,
   "id": "d685ce7f",
   "metadata": {
    "collapsed": false,
    "execution": {
     "iopub.execute_input": "2024-11-16T10:25:25.530411Z",
     "iopub.status.busy": "2024-11-16T10:25:25.530072Z",
     "iopub.status.idle": "2024-11-16T10:25:25.745599Z",
     "shell.execute_reply": "2024-11-16T10:25:25.744336Z"
    }
   },
   "outputs": [
    {
     "name": "stdout",
     "output_type": "stream",
     "text": [
      "RooRealVar::sigma_g2 = 4  L(3 - 6) \n"
     ]
    }
   ],
   "source": [
    "sigma_g2.Print();"
   ]
  },
  {
   "cell_type": "markdown",
   "id": "54a2cf16",
   "metadata": {},
   "source": [
    "Run MINOS on sigma_g2 parameter only"
   ]
  },
  {
   "cell_type": "code",
   "execution_count": 13,
   "id": "830b664b",
   "metadata": {
    "collapsed": false,
    "execution": {
     "iopub.execute_input": "2024-11-16T10:25:25.749309Z",
     "iopub.status.busy": "2024-11-16T10:25:25.748985Z",
     "iopub.status.idle": "2024-11-16T10:25:25.967823Z",
     "shell.execute_reply": "2024-11-16T10:25:25.966817Z"
    }
   },
   "outputs": [
    {
     "name": "stderr",
     "output_type": "stream",
     "text": [
      "cling JIT session error: Failed to materialize symbols: { (main, { _ZN12__cling_N5241mE }) }\n"
     ]
    }
   ],
   "source": [
    "m.minos(sigma_g2);"
   ]
  },
  {
   "cell_type": "markdown",
   "id": "bf30109a",
   "metadata": {},
   "source": [
    "Print value (and error) of sigma_g2 parameter, that reflects\n",
    "value and error back propagated from MINUIT"
   ]
  },
  {
   "cell_type": "code",
   "execution_count": 14,
   "id": "d53e2798",
   "metadata": {
    "collapsed": false,
    "execution": {
     "iopub.execute_input": "2024-11-16T10:25:25.971653Z",
     "iopub.status.busy": "2024-11-16T10:25:25.971363Z",
     "iopub.status.idle": "2024-11-16T10:25:26.187597Z",
     "shell.execute_reply": "2024-11-16T10:25:26.185658Z"
    }
   },
   "outputs": [
    {
     "name": "stdout",
     "output_type": "stream",
     "text": [
      "RooRealVar::sigma_g2 = 4  L(3 - 6) \n"
     ]
    }
   ],
   "source": [
    "sigma_g2.Print();"
   ]
  },
  {
   "cell_type": "markdown",
   "id": "522d998c",
   "metadata": {},
   "source": [
    "Saving results, contour plots\n",
    "---------------------------------------------------------"
   ]
  },
  {
   "cell_type": "markdown",
   "id": "7278786d",
   "metadata": {},
   "source": [
    "Save a snapshot of the fit result. This object contains the initial\n",
    "fit parameters, the final fit parameters, the complete correlation\n",
    "matrix, the EDM, the minimized FCN , the last MINUIT status code and\n",
    "the number of times the RooFit function object has indicated evaluation\n",
    "problems (e.g. zero probabilities during likelihood evaluation)"
   ]
  },
  {
   "cell_type": "code",
   "execution_count": 15,
   "id": "bb01e9be",
   "metadata": {
    "collapsed": false,
    "execution": {
     "iopub.execute_input": "2024-11-16T10:25:26.195039Z",
     "iopub.status.busy": "2024-11-16T10:25:26.194642Z",
     "iopub.status.idle": "2024-11-16T10:25:26.432083Z",
     "shell.execute_reply": "2024-11-16T10:25:26.430810Z"
    }
   },
   "outputs": [
    {
     "name": "stderr",
     "output_type": "stream",
     "text": [
      "cling JIT session error: Failed to materialize symbols: { (main, { _ZN12__cling_N5241mE }) }\n",
      "[runStaticInitializersOnce]: Failed to materialize symbols: { (main, { _ZNSt11_Tuple_implILm0EJP12RooFitResultSt14default_deleteIS0_EEE7_M_headERS4_, _ZNSt10unique_ptrI12RooFitResultSt14default_deleteIS0_EE11get_deleterEv, __orc_init_func.cling-module-321, $.cling-module-321.__inits.0, _ZNSt15__uniq_ptr_implI12RooFitResultSt14default_deleteIS0_EEC2EPS0_, _ZNSt15__uniq_ptr_implI12RooFitResultSt14default_deleteIS0_EE6_M_ptrEv, _ZN12__cling_N53316__cling_Un1Qu332EPv, _ZSt3getILm0EJP12RooFitResultSt14default_deleteIS0_EEERNSt13tuple_elementIXT_ESt5tupleIJDpT0_EEE4typeERS8_, _GLOBAL__sub_I_cling_module_321, _ZNSt10_Head_baseILm0EP12RooFitResultLb0EE7_M_headERS2_, _ZNSt10unique_ptrI12RooFitResultSt14default_deleteIS0_EEC1IS2_vEEPS0_, _ZNSt11_Tuple_implILm1EJSt14default_deleteI12RooFitResultEEEC2Ev, _ZSt12__get_helperILm0EP12RooFitResultJSt14default_deleteIS0_EEERT0_RSt11_Tuple_implIXT_EJS4_DpT1_EE, _ZNSt10unique_ptrI12RooFitResultSt14default_deleteIS0_EEC2IS2_vEEPS0_, _ZSt12__get_helperILm1ESt14default_deleteI12RooFitResultEJEERT0_RSt11_Tuple_implIXT_EJS3_DpT1_EE, _ZNSt10_Head_baseILm0EP12RooFitResultLb0EEC2Ev, __cxx_global_var_initcling_module_321_, _ZNSt15__uniq_ptr_implI12RooFitResultSt14default_deleteIS0_EEC1EPS0_, _ZNSt10_Head_baseILm1ESt14default_deleteI12RooFitResultELb1EE7_M_headERS3_, _ZNSt10unique_ptrI12RooFitResultSt14default_deleteIS0_EED2Ev, _ZSt3getILm1EJP12RooFitResultSt14default_deleteIS0_EEERNSt13tuple_elementIXT_ESt5tupleIJDpT0_EEE4typeERS8_, _ZNKSt14default_deleteI12RooFitResultEclEPS0_, _ZNSt11_Tuple_implILm1EJSt14default_deleteI12RooFitResultEEE7_M_headERS3_, _ZNSt10unique_ptrI12RooFitResultSt14default_deleteIS0_EED1Ev, _ZNSt15__uniq_ptr_implI12RooFitResultSt14default_deleteIS0_EE10_M_deleterEv, _ZN12__cling_N5339fitResultE, _ZNSt10_Head_baseILm1ESt14default_deleteI12RooFitResultELb1EEC2Ev, _ZNSt11_Tuple_implILm0EJP12RooFitResultSt14default_deleteIS0_EEEC2Ev, _ZNSt5tupleIJP12RooFitResultSt14default_deleteIS0_EEEC2IS1_S3_TnNSt9enable_ifIXsr6__and_ISt37__is_implicitly_default_constructibleIT_ES7_IT0_EEE5valueEbE4typeELb1EEEv, _ZNSt5tupleIJP12RooFitResultSt14default_deleteIS0_EEEC1IS1_S3_TnNSt9enable_ifIXsr6__and_ISt37__is_implicitly_default_constructibleIT_ES7_IT0_EEE5valueEbE4typeELb1EEEv }) }\n"
     ]
    }
   ],
   "source": [
    "std::unique_ptr<RooFitResult> fitResult{m.save()};"
   ]
  },
  {
   "cell_type": "markdown",
   "id": "26130b1e",
   "metadata": {},
   "source": [
    "Make contour plot of mx vs sx at 1,2,3 sigma"
   ]
  },
  {
   "cell_type": "code",
   "execution_count": 16,
   "id": "08e396e5",
   "metadata": {
    "collapsed": false,
    "execution": {
     "iopub.execute_input": "2024-11-16T10:25:26.437431Z",
     "iopub.status.busy": "2024-11-16T10:25:26.436199Z",
     "iopub.status.idle": "2024-11-16T10:25:26.649914Z",
     "shell.execute_reply": "2024-11-16T10:25:26.648714Z"
    }
   },
   "outputs": [
    {
     "name": "stderr",
     "output_type": "stream",
     "text": [
      "cling JIT session error: Failed to materialize symbols: { (main, { _ZN12__cling_N5241mE }) }\n",
      "[runStaticInitializersOnce]: Failed to materialize symbols: { (main, { _ZN12__cling_N53416__cling_Un1Qu333EPv, __cxx_global_var_initcling_module_322_, __orc_init_func.cling-module-322, _ZN12__cling_N5345frameE, _GLOBAL__sub_I_cling_module_322, $.cling-module-322.__inits.0 }) }\n"
     ]
    }
   ],
   "source": [
    "RooPlot *frame = m.contour(frac, sigma_g2, 1, 2, 3);\n",
    "frame->SetTitle(\"Minuit contour plot\");"
   ]
  },
  {
   "cell_type": "markdown",
   "id": "4e2e8aef",
   "metadata": {},
   "source": [
    "Print the fit result snapshot"
   ]
  },
  {
   "cell_type": "code",
   "execution_count": 17,
   "id": "2041b502",
   "metadata": {
    "collapsed": false,
    "execution": {
     "iopub.execute_input": "2024-11-16T10:25:26.653755Z",
     "iopub.status.busy": "2024-11-16T10:25:26.653461Z",
     "iopub.status.idle": "2024-11-16T10:25:27.309012Z",
     "shell.execute_reply": "2024-11-16T10:25:27.307635Z"
    }
   },
   "outputs": [
    {
     "name": "stderr",
     "output_type": "stream",
     "text": [
      "[runStaticInitializersOnce]: Failed to materialize symbols: { (main, { __orc_init_func.cling-module-321 }) }\n",
      "cling JIT session error: Failed to materialize symbols: { (main, { _ZN12__cling_N5339fitResultE }) }\n"
     ]
    }
   ],
   "source": [
    "fitResult->Print(\"v\");"
   ]
  },
  {
   "cell_type": "markdown",
   "id": "92f91234",
   "metadata": {},
   "source": [
    "Change parameter values, floating\n",
    "-----------------------------------------------------------------"
   ]
  },
  {
   "cell_type": "markdown",
   "id": "df172a4c",
   "metadata": {},
   "source": [
    "At any moment you can manually change the value of a (constant)\n",
    "parameter"
   ]
  },
  {
   "cell_type": "code",
   "execution_count": 18,
   "id": "c21ee474",
   "metadata": {
    "collapsed": false,
    "execution": {
     "iopub.execute_input": "2024-11-16T10:25:27.317501Z",
     "iopub.status.busy": "2024-11-16T10:25:27.317140Z",
     "iopub.status.idle": "2024-11-16T10:25:27.539731Z",
     "shell.execute_reply": "2024-11-16T10:25:27.535341Z"
    }
   },
   "outputs": [],
   "source": [
    "mean = 0.3;"
   ]
  },
  {
   "cell_type": "markdown",
   "id": "a0be93c5",
   "metadata": {},
   "source": [
    "Rerun MIGRAD,HESSE"
   ]
  },
  {
   "cell_type": "code",
   "execution_count": 19,
   "id": "9b7f808d",
   "metadata": {
    "collapsed": false,
    "execution": {
     "iopub.execute_input": "2024-11-16T10:25:27.544216Z",
     "iopub.status.busy": "2024-11-16T10:25:27.543842Z",
     "iopub.status.idle": "2024-11-16T10:25:27.761909Z",
     "shell.execute_reply": "2024-11-16T10:25:27.760929Z"
    }
   },
   "outputs": [
    {
     "name": "stderr",
     "output_type": "stream",
     "text": [
      "cling JIT session error: Failed to materialize symbols: { (main, { _ZN12__cling_N5241mE }) }\n"
     ]
    }
   ],
   "source": [
    "m.migrad();\n",
    "m.hesse();\n",
    "frac.Print();"
   ]
  },
  {
   "cell_type": "markdown",
   "id": "a278fe67",
   "metadata": {},
   "source": [
    "Now fix sigma_g2"
   ]
  },
  {
   "cell_type": "code",
   "execution_count": 20,
   "id": "5f91ebcb",
   "metadata": {
    "collapsed": false,
    "execution": {
     "iopub.execute_input": "2024-11-16T10:25:27.766702Z",
     "iopub.status.busy": "2024-11-16T10:25:27.766417Z",
     "iopub.status.idle": "2024-11-16T10:25:27.986226Z",
     "shell.execute_reply": "2024-11-16T10:25:27.985150Z"
    }
   },
   "outputs": [],
   "source": [
    "sigma_g2.setConstant(true);"
   ]
  },
  {
   "cell_type": "markdown",
   "id": "560b5b1d",
   "metadata": {},
   "source": [
    "Rerun MIGRAD,HESSE"
   ]
  },
  {
   "cell_type": "code",
   "execution_count": 21,
   "id": "061f7d38",
   "metadata": {
    "collapsed": false,
    "execution": {
     "iopub.execute_input": "2024-11-16T10:25:27.990764Z",
     "iopub.status.busy": "2024-11-16T10:25:27.990440Z",
     "iopub.status.idle": "2024-11-16T10:25:28.214532Z",
     "shell.execute_reply": "2024-11-16T10:25:28.213521Z"
    }
   },
   "outputs": [
    {
     "name": "stderr",
     "output_type": "stream",
     "text": [
      "cling JIT session error: Failed to materialize symbols: { (main, { _ZN12__cling_N5241mE }) }\n"
     ]
    }
   ],
   "source": [
    "m.migrad();\n",
    "m.hesse();\n",
    "frac.Print();\n",
    "\n",
    "new TCanvas(\"rf601_intminuit\", \"rf601_intminuit\", 600, 600);\n",
    "gPad->SetLeftMargin(0.15);\n",
    "frame->GetYaxis()->SetTitleOffset(1.4);\n",
    "frame->Draw();"
   ]
  },
  {
   "cell_type": "markdown",
   "id": "30a1255f",
   "metadata": {},
   "source": [
    "Draw all canvases "
   ]
  },
  {
   "cell_type": "code",
   "execution_count": 22,
   "id": "0166ec7e",
   "metadata": {
    "collapsed": false,
    "execution": {
     "iopub.execute_input": "2024-11-16T10:25:28.218460Z",
     "iopub.status.busy": "2024-11-16T10:25:28.218137Z",
     "iopub.status.idle": "2024-11-16T10:25:28.492963Z",
     "shell.execute_reply": "2024-11-16T10:25:28.491912Z"
    }
   },
   "outputs": [],
   "source": [
    "%jsroot on\n",
    "gROOT->GetListOfCanvases()->Draw()"
   ]
  }
 ],
 "metadata": {
  "kernelspec": {
   "display_name": "ROOT C++",
   "language": "c++",
   "name": "root"
  },
  "language_info": {
   "codemirror_mode": "text/x-c++src",
   "file_extension": ".C",
   "mimetype": " text/x-c++src",
   "name": "c++"
  }
 },
 "nbformat": 4,
 "nbformat_minor": 5
}
