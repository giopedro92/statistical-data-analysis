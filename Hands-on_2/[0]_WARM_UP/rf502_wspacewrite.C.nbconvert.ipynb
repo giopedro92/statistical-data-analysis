{
 "cells": [
  {
   "cell_type": "markdown",
   "id": "429d16b4",
   "metadata": {},
   "source": [
    "# rf502_wspacewrite\n",
    "Organisation and simultaneous fits: creating and writing a workspace\n",
    "\n",
    "\n",
    "\n",
    "\n",
    "**Author:** Wouter Verkerke  \n",
    "<i><small>This notebook tutorial was automatically generated with <a href= \"https://github.com/root-project/root/blob/master/documentation/doxygen/converttonotebook.py\">ROOTBOOK-izer</a> from the macro found in the ROOT repository  on Saturday, November 16, 2024 at 10:12 AM.</small></i>"
   ]
  },
  {
   "cell_type": "code",
   "execution_count": 1,
   "id": "60f5a1c0",
   "metadata": {
    "collapsed": false,
    "execution": {
     "iopub.execute_input": "2024-11-16T10:12:21.419989Z",
     "iopub.status.busy": "2024-11-16T10:12:21.419660Z",
     "iopub.status.idle": "2024-11-16T10:12:21.427734Z",
     "shell.execute_reply": "2024-11-16T10:12:21.426912Z"
    }
   },
   "outputs": [],
   "source": [
    "%%cpp -d\n",
    "#include \"RooRealVar.h\"\n",
    "#include \"RooDataSet.h\"\n",
    "#include \"RooGaussian.h\"\n",
    "#include \"RooChebychev.h\"\n",
    "#include \"RooAddPdf.h\"\n",
    "#include \"RooWorkspace.h\"\n",
    "#include \"RooPlot.h\"\n",
    "#include \"TCanvas.h\"\n",
    "#include \"TAxis.h\"\n",
    "#include \"TFile.h\"\n",
    "#include \"TH1.h\"\n",
    "using namespace RooFit;"
   ]
  },
  {
   "cell_type": "markdown",
   "id": "1dae4460",
   "metadata": {},
   "source": [
    "Create model and dataset\n",
    "-----------------------------------------------"
   ]
  },
  {
   "cell_type": "markdown",
   "id": "5b0ce803",
   "metadata": {},
   "source": [
    "Declare observable x"
   ]
  },
  {
   "cell_type": "code",
   "execution_count": 2,
   "id": "c7467b8c",
   "metadata": {
    "collapsed": false,
    "execution": {
     "iopub.execute_input": "2024-11-16T10:12:21.431420Z",
     "iopub.status.busy": "2024-11-16T10:12:21.431132Z",
     "iopub.status.idle": "2024-11-16T10:12:21.856412Z",
     "shell.execute_reply": "2024-11-16T10:12:21.855253Z"
    }
   },
   "outputs": [],
   "source": [
    "RooRealVar x(\"x\", \"x\", 0, 10);"
   ]
  },
  {
   "cell_type": "markdown",
   "id": "d95665da",
   "metadata": {},
   "source": [
    "Create two Gaussian PDFs g1(x,mean1,sigma) anf g2(x,mean2,sigma) and their parameters"
   ]
  },
  {
   "cell_type": "code",
   "execution_count": 3,
   "id": "a13768e0",
   "metadata": {
    "collapsed": false,
    "execution": {
     "iopub.execute_input": "2024-11-16T10:12:21.862419Z",
     "iopub.status.busy": "2024-11-16T10:12:21.862109Z",
     "iopub.status.idle": "2024-11-16T10:12:22.067345Z",
     "shell.execute_reply": "2024-11-16T10:12:22.066319Z"
    }
   },
   "outputs": [
    {
     "name": "stdout",
     "output_type": "stream",
     "text": [
      "[#0] WARNING:InputArguments -- The parameter 'sigma1' with range [-inf, inf] of the RooGaussian 'sig1' exceeds the safe range of (0, inf). Advise to limit its range.\n",
      "[#0] WARNING:InputArguments -- The parameter 'sigma2' with range [-inf, inf] of the RooGaussian 'sig2' exceeds the safe range of (0, inf). Advise to limit its range.\n"
     ]
    }
   ],
   "source": [
    "RooRealVar mean(\"mean\", \"mean of gaussians\", 5, 0, 10);\n",
    "RooRealVar sigma1(\"sigma1\", \"width of gaussians\", 0.5);\n",
    "RooRealVar sigma2(\"sigma2\", \"width of gaussians\", 1);\n",
    "\n",
    "RooGaussian sig1(\"sig1\", \"Signal component 1\", x, mean, sigma1);\n",
    "RooGaussian sig2(\"sig2\", \"Signal component 2\", x, mean, sigma2);"
   ]
  },
  {
   "cell_type": "markdown",
   "id": "6deaa793",
   "metadata": {},
   "source": [
    "Build Chebychev polynomial pdf"
   ]
  },
  {
   "cell_type": "code",
   "execution_count": 4,
   "id": "77af9b22",
   "metadata": {
    "collapsed": false,
    "execution": {
     "iopub.execute_input": "2024-11-16T10:12:22.072206Z",
     "iopub.status.busy": "2024-11-16T10:12:22.071925Z",
     "iopub.status.idle": "2024-11-16T10:12:22.279132Z",
     "shell.execute_reply": "2024-11-16T10:12:22.278024Z"
    }
   },
   "outputs": [],
   "source": [
    "RooRealVar a0(\"a0\", \"a0\", 0.5, 0., 1.);\n",
    "RooRealVar a1(\"a1\", \"a1\", 0.2, 0, 1.);\n",
    "RooChebychev bkg(\"bkg\", \"Background\", x, RooArgSet(a0, a1));"
   ]
  },
  {
   "cell_type": "markdown",
   "id": "b23b03cb",
   "metadata": {},
   "source": [
    "Sum the signal components into a composite signal pdf"
   ]
  },
  {
   "cell_type": "code",
   "execution_count": 5,
   "id": "3b1daaa7",
   "metadata": {
    "collapsed": false,
    "execution": {
     "iopub.execute_input": "2024-11-16T10:12:22.283811Z",
     "iopub.status.busy": "2024-11-16T10:12:22.283496Z",
     "iopub.status.idle": "2024-11-16T10:12:22.491093Z",
     "shell.execute_reply": "2024-11-16T10:12:22.489936Z"
    }
   },
   "outputs": [],
   "source": [
    "RooRealVar sig1frac(\"sig1frac\", \"fraction of component 1 in signal\", 0.8, 0., 1.);\n",
    "RooAddPdf sig(\"sig\", \"Signal\", RooArgList(sig1, sig2), sig1frac);"
   ]
  },
  {
   "cell_type": "markdown",
   "id": "c84f97b3",
   "metadata": {},
   "source": [
    "Sum the composite signal and background"
   ]
  },
  {
   "cell_type": "code",
   "execution_count": 6,
   "id": "8a6d83c2",
   "metadata": {
    "collapsed": false,
    "execution": {
     "iopub.execute_input": "2024-11-16T10:12:22.496897Z",
     "iopub.status.busy": "2024-11-16T10:12:22.496590Z",
     "iopub.status.idle": "2024-11-16T10:12:22.701293Z",
     "shell.execute_reply": "2024-11-16T10:12:22.699968Z"
    }
   },
   "outputs": [],
   "source": [
    "RooRealVar bkgfrac(\"bkgfrac\", \"fraction of background\", 0.5, 0., 1.);\n",
    "RooAddPdf model(\"model\", \"g1+g2+a\", RooArgList(bkg, sig), bkgfrac);"
   ]
  },
  {
   "cell_type": "markdown",
   "id": "7d39c625",
   "metadata": {},
   "source": [
    "Generate a data sample of 1000 events in x from model"
   ]
  },
  {
   "cell_type": "code",
   "execution_count": 7,
   "id": "25ba78c9",
   "metadata": {
    "collapsed": false,
    "execution": {
     "iopub.execute_input": "2024-11-16T10:12:22.706346Z",
     "iopub.status.busy": "2024-11-16T10:12:22.706061Z",
     "iopub.status.idle": "2024-11-16T10:12:22.911397Z",
     "shell.execute_reply": "2024-11-16T10:12:22.910411Z"
    }
   },
   "outputs": [
    {
     "name": "stderr",
     "output_type": "stream",
     "text": [
      "input_line_55:2:2: warning: 'data' shadows a declaration with the same name in the 'std' namespace; use '::data' to reference this declaration\n",
      " std::unique_ptr<RooDataSet> data{model.generate(x, 1000)};\n",
      " ^\n"
     ]
    }
   ],
   "source": [
    "std::unique_ptr<RooDataSet> data{model.generate(x, 1000)};"
   ]
  },
  {
   "cell_type": "markdown",
   "id": "ac92dcd7",
   "metadata": {},
   "source": [
    "Create workspace, import data and model\n",
    "-----------------------------------------------------------------------------"
   ]
  },
  {
   "cell_type": "markdown",
   "id": "e3df9958",
   "metadata": {},
   "source": [
    "Create a new empty workspace"
   ]
  },
  {
   "cell_type": "code",
   "execution_count": 8,
   "id": "c319d4fd",
   "metadata": {
    "collapsed": false,
    "execution": {
     "iopub.execute_input": "2024-11-16T10:12:22.915972Z",
     "iopub.status.busy": "2024-11-16T10:12:22.915678Z",
     "iopub.status.idle": "2024-11-16T10:12:23.120241Z",
     "shell.execute_reply": "2024-11-16T10:12:23.118955Z"
    }
   },
   "outputs": [],
   "source": [
    "RooWorkspace *w = new RooWorkspace(\"w\", \"workspace\");"
   ]
  },
  {
   "cell_type": "markdown",
   "id": "a2612900",
   "metadata": {},
   "source": [
    "Import model and all its components into the workspace"
   ]
  },
  {
   "cell_type": "code",
   "execution_count": 9,
   "id": "aa906a85",
   "metadata": {
    "collapsed": false,
    "execution": {
     "iopub.execute_input": "2024-11-16T10:12:23.124853Z",
     "iopub.status.busy": "2024-11-16T10:12:23.124547Z",
     "iopub.status.idle": "2024-11-16T10:12:23.339471Z",
     "shell.execute_reply": "2024-11-16T10:12:23.338179Z"
    }
   },
   "outputs": [
    {
     "name": "stdout",
     "output_type": "stream",
     "text": [
      "[#1] INFO:ObjectHandling -- RooWorkspace::import(w) importing RooAddPdf::model\n",
      "[#1] INFO:ObjectHandling -- RooWorkspace::import(w) importing RooChebychev::bkg\n",
      "[#1] INFO:ObjectHandling -- RooWorkspace::import(w) importing RooRealVar::x\n",
      "[#1] INFO:ObjectHandling -- RooWorkspace::import(w) importing RooRealVar::a0\n",
      "[#1] INFO:ObjectHandling -- RooWorkspace::import(w) importing RooRealVar::a1\n",
      "[#1] INFO:ObjectHandling -- RooWorkspace::import(w) importing RooRealVar::bkgfrac\n",
      "[#1] INFO:ObjectHandling -- RooWorkspace::import(w) importing RooAddPdf::sig\n",
      "[#1] INFO:ObjectHandling -- RooWorkspace::import(w) importing RooGaussian::sig1\n",
      "[#1] INFO:ObjectHandling -- RooWorkspace::import(w) importing RooRealVar::mean\n",
      "[#1] INFO:ObjectHandling -- RooWorkspace::import(w) importing RooRealVar::sigma1\n",
      "[#1] INFO:ObjectHandling -- RooWorkspace::import(w) importing RooRealVar::sig1frac\n",
      "[#1] INFO:ObjectHandling -- RooWorkspace::import(w) importing RooGaussian::sig2\n",
      "[#1] INFO:ObjectHandling -- RooWorkspace::import(w) importing RooRealVar::sigma2\n"
     ]
    }
   ],
   "source": [
    "w->import(model);"
   ]
  },
  {
   "cell_type": "markdown",
   "id": "ceba4067",
   "metadata": {},
   "source": [
    "Import data into the workspace"
   ]
  },
  {
   "cell_type": "code",
   "execution_count": 10,
   "id": "02c1a400",
   "metadata": {
    "collapsed": false,
    "execution": {
     "iopub.execute_input": "2024-11-16T10:12:23.346153Z",
     "iopub.status.busy": "2024-11-16T10:12:23.344060Z",
     "iopub.status.idle": "2024-11-16T10:12:23.552787Z",
     "shell.execute_reply": "2024-11-16T10:12:23.551832Z"
    }
   },
   "outputs": [
    {
     "name": "stderr",
     "output_type": "stream",
     "text": [
      "input_line_58:2:13: error: reference to 'data' is ambiguous\n",
      " w->import(*data);\n",
      "            ^\n",
      "input_line_55:2:30: note: candidate found by name lookup is 'data'\n",
      " std::unique_ptr<RooDataSet> data{model.generate(x, 1000)};\n",
      "                             ^\n",
      "/usr/include/c++/9/bits/range_access.h:318:5: note: candidate found by name lookup is 'std::data'\n",
      "    data(initializer_list<_Tp> __il) noexcept\n",
      "    ^\n",
      "/usr/include/c++/9/bits/range_access.h:289:5: note: candidate found by name lookup is 'std::data'\n",
      "    data(_Container& __cont) noexcept(noexcept(__cont.data()))\n",
      "    ^\n",
      "/usr/include/c++/9/bits/range_access.h:299:5: note: candidate found by name lookup is 'std::data'\n",
      "    data(const _Container& __cont) noexcept(noexcept(__cont.data()))\n",
      "    ^\n",
      "/usr/include/c++/9/bits/range_access.h:309:5: note: candidate found by name lookup is 'std::data'\n",
      "    data(_Tp (&__array)[_Nm]) noexcept\n",
      "    ^\n"
     ]
    }
   ],
   "source": [
    "w->import(*data);"
   ]
  },
  {
   "cell_type": "markdown",
   "id": "8356c6b4",
   "metadata": {},
   "source": [
    "Print workspace contents"
   ]
  },
  {
   "cell_type": "code",
   "execution_count": 11,
   "id": "f770925f",
   "metadata": {
    "collapsed": false,
    "execution": {
     "iopub.execute_input": "2024-11-16T10:12:23.556581Z",
     "iopub.status.busy": "2024-11-16T10:12:23.556284Z",
     "iopub.status.idle": "2024-11-16T10:12:23.761964Z",
     "shell.execute_reply": "2024-11-16T10:12:23.760701Z"
    }
   },
   "outputs": [
    {
     "name": "stdout",
     "output_type": "stream",
     "text": [
      "\n",
      "RooWorkspace(w) workspace contents\n",
      "\n",
      "variables\n",
      "---------\n",
      "(a0,a1,bkgfrac,mean,sig1frac,sigma1,sigma2,x)\n",
      "\n",
      "p.d.f.s\n",
      "-------\n",
      "RooChebychev::bkg[ x=x coefList=(a0,a1) ] = 0.8\n",
      "RooAddPdf::model[ bkgfrac * bkg + [%] * sig ] = 0.9/1\n",
      "RooAddPdf::sig[ sig1frac * sig1 + [%] * sig2 ] = 1/1\n",
      "RooGaussian::sig1[ x=x mean=mean sigma=sigma1 ] = 1\n",
      "RooGaussian::sig2[ x=x mean=mean sigma=sigma2 ] = 1\n",
      "\n"
     ]
    }
   ],
   "source": [
    "w->Print();"
   ]
  },
  {
   "cell_type": "markdown",
   "id": "edf06b11",
   "metadata": {},
   "source": [
    "Save workspace in file\n",
    "-------------------------------------------"
   ]
  },
  {
   "cell_type": "markdown",
   "id": "525ec937",
   "metadata": {},
   "source": [
    "Save the workspace into a ROOT file"
   ]
  },
  {
   "cell_type": "code",
   "execution_count": 12,
   "id": "990ae79a",
   "metadata": {
    "collapsed": false,
    "execution": {
     "iopub.execute_input": "2024-11-16T10:12:23.766042Z",
     "iopub.status.busy": "2024-11-16T10:12:23.765723Z",
     "iopub.status.idle": "2024-11-16T10:12:24.261344Z",
     "shell.execute_reply": "2024-11-16T10:12:24.260367Z"
    }
   },
   "outputs": [],
   "source": [
    "w->writeToFile(\"rf502_workspace.root\");"
   ]
  },
  {
   "cell_type": "markdown",
   "id": "c8047954",
   "metadata": {},
   "source": [
    "Workspace will remain in memory after macro finishes"
   ]
  },
  {
   "cell_type": "code",
   "execution_count": 13,
   "id": "39ea4114",
   "metadata": {
    "collapsed": false,
    "execution": {
     "iopub.execute_input": "2024-11-16T10:12:24.265899Z",
     "iopub.status.busy": "2024-11-16T10:12:24.265593Z",
     "iopub.status.idle": "2024-11-16T10:12:24.474443Z",
     "shell.execute_reply": "2024-11-16T10:12:24.472474Z"
    }
   },
   "outputs": [],
   "source": [
    "gDirectory->Add(w);"
   ]
  }
 ],
 "metadata": {
  "kernelspec": {
   "display_name": "ROOT C++",
   "language": "c++",
   "name": "root"
  },
  "language_info": {
   "codemirror_mode": "text/x-c++src",
   "file_extension": ".C",
   "mimetype": " text/x-c++src",
   "name": "c++"
  }
 },
 "nbformat": 4,
 "nbformat_minor": 5
}
