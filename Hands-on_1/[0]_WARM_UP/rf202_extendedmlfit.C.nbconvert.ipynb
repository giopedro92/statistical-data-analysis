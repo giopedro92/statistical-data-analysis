{
 "cells": [
  {
   "cell_type": "markdown",
   "id": "f0a50aaf",
   "metadata": {},
   "source": [
    "# rf202_extendedmlfit\n",
    "Setting up an extended maximum likelihood fit.\n",
    "\n",
    "\n",
    "\n",
    "\n",
    "**Author:** Wouter Verkerke  \n",
    "<i><small>This notebook tutorial was automatically generated with <a href= \"https://github.com/root-project/root/blob/master/documentation/doxygen/converttonotebook.py\">ROOTBOOK-izer</a> from the macro found in the ROOT repository  on Sunday, December 01, 2024 at 10:32 AM.</small></i>"
   ]
  },
  {
   "cell_type": "code",
   "execution_count": 1,
   "id": "d678921d",
   "metadata": {
    "collapsed": false,
    "execution": {
     "iopub.execute_input": "2024-12-01T10:32:15.814778Z",
     "iopub.status.busy": "2024-12-01T10:32:15.814442Z",
     "iopub.status.idle": "2024-12-01T10:32:15.840287Z",
     "shell.execute_reply": "2024-12-01T10:32:15.839133Z"
    }
   },
   "outputs": [],
   "source": [
    "%%cpp -d\n",
    "#include \"RooRealVar.h\"\n",
    "#include \"RooDataSet.h\"\n",
    "#include \"RooGaussian.h\"\n",
    "#include \"RooChebychev.h\"\n",
    "#include \"RooAddPdf.h\"\n",
    "#include \"RooExtendPdf.h\"\n",
    "#include \"TCanvas.h\"\n",
    "#include \"TAxis.h\"\n",
    "#include \"RooPlot.h\"\n",
    "using namespace RooFit;"
   ]
  },
  {
   "cell_type": "markdown",
   "id": "cd49f652",
   "metadata": {},
   "source": [
    "Setup component pdfs\n",
    "---------------------------------------"
   ]
  },
  {
   "cell_type": "markdown",
   "id": "ea5f825d",
   "metadata": {},
   "source": [
    "Declare observable x"
   ]
  },
  {
   "cell_type": "code",
   "execution_count": 2,
   "id": "703991c8",
   "metadata": {
    "collapsed": false,
    "execution": {
     "iopub.execute_input": "2024-12-01T10:32:15.844830Z",
     "iopub.status.busy": "2024-12-01T10:32:15.844520Z",
     "iopub.status.idle": "2024-12-01T10:32:16.452605Z",
     "shell.execute_reply": "2024-12-01T10:32:16.451446Z"
    }
   },
   "outputs": [],
   "source": [
    "RooRealVar x(\"x\", \"x\", 0, 10);"
   ]
  },
  {
   "cell_type": "markdown",
   "id": "1ed52ead",
   "metadata": {},
   "source": [
    "Create two Gaussian PDFs g1(x,mean1,sigma) anf g2(x,mean2,sigma) and their parameters"
   ]
  },
  {
   "cell_type": "code",
   "execution_count": 3,
   "id": "8969dd25",
   "metadata": {
    "collapsed": false,
    "execution": {
     "iopub.execute_input": "2024-12-01T10:32:16.457177Z",
     "iopub.status.busy": "2024-12-01T10:32:16.456863Z",
     "iopub.status.idle": "2024-12-01T10:32:16.677737Z",
     "shell.execute_reply": "2024-12-01T10:32:16.676788Z"
    }
   },
   "outputs": [
    {
     "name": "stdout",
     "output_type": "stream",
     "text": [
      "[#0] WARNING:InputArguments -- The parameter 'sigma1' with range [-inf, inf] of the RooGaussian 'sig1' exceeds the safe range of (0, inf). Advise to limit its range.\n",
      "[#0] WARNING:InputArguments -- The parameter 'sigma2' with range [-inf, inf] of the RooGaussian 'sig2' exceeds the safe range of (0, inf). Advise to limit its range.\n"
     ]
    }
   ],
   "source": [
    "RooRealVar mean(\"mean\", \"mean of gaussians\", 5);\n",
    "RooRealVar sigma1(\"sigma1\", \"width of gaussians\", 0.5);\n",
    "RooRealVar sigma2(\"sigma2\", \"width of gaussians\", 1);\n",
    "\n",
    "RooGaussian sig1(\"sig1\", \"Signal component 1\", x, mean, sigma1);\n",
    "RooGaussian sig2(\"sig2\", \"Signal component 2\", x, mean, sigma2);"
   ]
  },
  {
   "cell_type": "markdown",
   "id": "a7fe3da2",
   "metadata": {},
   "source": [
    "Build Chebychev polynomial pdf"
   ]
  },
  {
   "cell_type": "code",
   "execution_count": 4,
   "id": "f1d5939f",
   "metadata": {
    "collapsed": false,
    "execution": {
     "iopub.execute_input": "2024-12-01T10:32:16.682447Z",
     "iopub.status.busy": "2024-12-01T10:32:16.682093Z",
     "iopub.status.idle": "2024-12-01T10:32:16.902972Z",
     "shell.execute_reply": "2024-12-01T10:32:16.901932Z"
    }
   },
   "outputs": [],
   "source": [
    "RooRealVar a0(\"a0\", \"a0\", 0.5, 0., 1.);\n",
    "RooRealVar a1(\"a1\", \"a1\", 0.2, 0., 1.);\n",
    "RooChebychev bkg(\"bkg\", \"Background\", x, RooArgSet(a0, a1));"
   ]
  },
  {
   "cell_type": "markdown",
   "id": "4c920d30",
   "metadata": {},
   "source": [
    "Sum the signal components into a composite signal pdf"
   ]
  },
  {
   "cell_type": "code",
   "execution_count": 5,
   "id": "05c5f782",
   "metadata": {
    "collapsed": false,
    "execution": {
     "iopub.execute_input": "2024-12-01T10:32:16.908069Z",
     "iopub.status.busy": "2024-12-01T10:32:16.907719Z",
     "iopub.status.idle": "2024-12-01T10:32:17.124488Z",
     "shell.execute_reply": "2024-12-01T10:32:17.123511Z"
    }
   },
   "outputs": [],
   "source": [
    "RooRealVar sig1frac(\"sig1frac\", \"fraction of component 1 in signal\", 0.8, 0., 1.);\n",
    "RooAddPdf sig(\"sig\", \"Signal\", RooArgList(sig1, sig2), sig1frac);"
   ]
  },
  {
   "cell_type": "markdown",
   "id": "dd586beb",
   "metadata": {},
   "source": [
    "----------------\n",
    "METHOD 1\n",
    "================"
   ]
  },
  {
   "cell_type": "markdown",
   "id": "565708b4",
   "metadata": {},
   "source": [
    "Construct extended composite model\n",
    "-------------------------------------------------------------------"
   ]
  },
  {
   "cell_type": "markdown",
   "id": "9c7bb862",
   "metadata": {},
   "source": [
    "Sum the composite signal and background into an extended pdf nsig*sig+nbkg*bkg"
   ]
  },
  {
   "cell_type": "code",
   "execution_count": 6,
   "id": "03a24b03",
   "metadata": {
    "collapsed": false,
    "execution": {
     "iopub.execute_input": "2024-12-01T10:32:17.129870Z",
     "iopub.status.busy": "2024-12-01T10:32:17.129487Z",
     "iopub.status.idle": "2024-12-01T10:32:17.346506Z",
     "shell.execute_reply": "2024-12-01T10:32:17.345296Z"
    }
   },
   "outputs": [],
   "source": [
    "RooRealVar nsig(\"nsig\", \"number of signal events\", 500, 0., 10000);\n",
    "RooRealVar nbkg(\"nbkg\", \"number of background events\", 500, 0, 10000);\n",
    "RooAddPdf model(\"model\", \"(g1+g2)+a\", RooArgList(bkg, sig), RooArgList(nbkg, nsig));"
   ]
  },
  {
   "cell_type": "markdown",
   "id": "61714253",
   "metadata": {},
   "source": [
    "Sample, fit and plot extended model\n",
    "---------------------------------------------------------------------"
   ]
  },
  {
   "cell_type": "markdown",
   "id": "3dd06497",
   "metadata": {},
   "source": [
    "Generate a data sample of expected number events in x from model\n",
    "= model.expectedEvents() = nsig+nbkg"
   ]
  },
  {
   "cell_type": "code",
   "execution_count": 7,
   "id": "059a3af5",
   "metadata": {
    "collapsed": false,
    "execution": {
     "iopub.execute_input": "2024-12-01T10:32:17.351763Z",
     "iopub.status.busy": "2024-12-01T10:32:17.351393Z",
     "iopub.status.idle": "2024-12-01T10:32:17.566813Z",
     "shell.execute_reply": "2024-12-01T10:32:17.565639Z"
    }
   },
   "outputs": [
    {
     "name": "stderr",
     "output_type": "stream",
     "text": [
      "input_line_55:2:2: warning: 'data' shadows a declaration with the same name in the 'std' namespace; use '::data' to reference this declaration\n",
      " std::unique_ptr<RooDataSet> data{model.generate(x)};\n",
      " ^\n"
     ]
    }
   ],
   "source": [
    "std::unique_ptr<RooDataSet> data{model.generate(x)};"
   ]
  },
  {
   "cell_type": "markdown",
   "id": "87f431ae",
   "metadata": {},
   "source": [
    "Fit model to data, extended ML term automatically included"
   ]
  },
  {
   "cell_type": "code",
   "execution_count": 8,
   "id": "356344b3",
   "metadata": {
    "collapsed": false,
    "execution": {
     "iopub.execute_input": "2024-12-01T10:32:17.571285Z",
     "iopub.status.busy": "2024-12-01T10:32:17.570840Z",
     "iopub.status.idle": "2024-12-01T10:32:18.261211Z",
     "shell.execute_reply": "2024-12-01T10:32:18.258880Z"
    }
   },
   "outputs": [
    {
     "name": "stderr",
     "output_type": "stream",
     "text": [
      "input_line_56:2:15: error: reference to 'data' is ambiguous\n",
      " model.fitTo(*data, PrintLevel(-1));\n",
      "              ^\n",
      "input_line_55:2:30: note: candidate found by name lookup is 'data'\n",
      " std::unique_ptr<RooDataSet> data{model.generate(x)};\n",
      "                             ^\n",
      "/usr/include/c++/9/bits/range_access.h:318:5: note: candidate found by name lookup is 'std::data'\n",
      "    data(initializer_list<_Tp> __il) noexcept\n",
      "    ^\n",
      "/usr/include/c++/9/bits/range_access.h:289:5: note: candidate found by name lookup is 'std::data'\n",
      "    data(_Container& __cont) noexcept(noexcept(__cont.data()))\n",
      "    ^\n",
      "/usr/include/c++/9/bits/range_access.h:299:5: note: candidate found by name lookup is 'std::data'\n",
      "    data(const _Container& __cont) noexcept(noexcept(__cont.data()))\n",
      "    ^\n",
      "/usr/include/c++/9/bits/range_access.h:309:5: note: candidate found by name lookup is 'std::data'\n",
      "    data(_Tp (&__array)[_Nm]) noexcept\n",
      "    ^\n"
     ]
    }
   ],
   "source": [
    "model.fitTo(*data, PrintLevel(-1));"
   ]
  },
  {
   "cell_type": "markdown",
   "id": "2e03b842",
   "metadata": {},
   "source": [
    "Plot data and PDF overlaid, use expected number of events for pdf projection normalization\n",
    "rather than observed number of events (==data->numEntries())"
   ]
  },
  {
   "cell_type": "code",
   "execution_count": 9,
   "id": "dbc8119a",
   "metadata": {
    "collapsed": false,
    "execution": {
     "iopub.execute_input": "2024-12-01T10:32:18.267059Z",
     "iopub.status.busy": "2024-12-01T10:32:18.266678Z",
     "iopub.status.idle": "2024-12-01T10:32:18.483031Z",
     "shell.execute_reply": "2024-12-01T10:32:18.481848Z"
    }
   },
   "outputs": [
    {
     "name": "stderr",
     "output_type": "stream",
     "text": [
      "input_line_57:3:1: error: reference to 'data' is ambiguous\n",
      "data->plotOn(xframe);\n",
      "^\n",
      "input_line_55:2:30: note: candidate found by name lookup is 'data'\n",
      " std::unique_ptr<RooDataSet> data{model.generate(x)};\n",
      "                             ^\n",
      "/usr/include/c++/9/bits/range_access.h:318:5: note: candidate found by name lookup is 'std::data'\n",
      "    data(initializer_list<_Tp> __il) noexcept\n",
      "    ^\n",
      "/usr/include/c++/9/bits/range_access.h:289:5: note: candidate found by name lookup is 'std::data'\n",
      "    data(_Container& __cont) noexcept(noexcept(__cont.data()))\n",
      "    ^\n",
      "/usr/include/c++/9/bits/range_access.h:299:5: note: candidate found by name lookup is 'std::data'\n",
      "    data(const _Container& __cont) noexcept(noexcept(__cont.data()))\n",
      "    ^\n",
      "/usr/include/c++/9/bits/range_access.h:309:5: note: candidate found by name lookup is 'std::data'\n",
      "    data(_Tp (&__array)[_Nm]) noexcept\n",
      "    ^\n"
     ]
    }
   ],
   "source": [
    "RooPlot *xframe = x.frame(Title(\"extended ML fit example\"));\n",
    "data->plotOn(xframe);\n",
    "model.plotOn(xframe, Normalization(1.0, RooAbsReal::RelativeExpected));"
   ]
  },
  {
   "cell_type": "markdown",
   "id": "2c67c9f5",
   "metadata": {},
   "source": [
    "Overlay the background component of model with a dashed line"
   ]
  },
  {
   "cell_type": "code",
   "execution_count": 10,
   "id": "6628d3d2",
   "metadata": {
    "collapsed": false,
    "execution": {
     "iopub.execute_input": "2024-12-01T10:32:18.487218Z",
     "iopub.status.busy": "2024-12-01T10:32:18.486822Z",
     "iopub.status.idle": "2024-12-01T10:32:18.702420Z",
     "shell.execute_reply": "2024-12-01T10:32:18.701115Z"
    }
   },
   "outputs": [
    {
     "name": "stderr",
     "output_type": "stream",
     "text": [
      "input_line_58:2:50: error: cannot take the address of an rvalue of type 'ELineStyle'\n",
      " model.plotOn(xframe, Components(bkg), LineStyle(kDashed), Normalization(1.0, RooAbsReal::RelativeExpected));\n",
      "                                                 ^~~~~~~\n",
      "Error while creating dynamic expression for:\n",
      "  model.plotOn(xframe, Components(bkg), LineStyle(kDashed), Normalization(1., RooAbsReal::RelativeExpected))\n"
     ]
    }
   ],
   "source": [
    "model.plotOn(xframe, Components(bkg), LineStyle(kDashed), Normalization(1.0, RooAbsReal::RelativeExpected));"
   ]
  },
  {
   "cell_type": "markdown",
   "id": "7ff627d9",
   "metadata": {},
   "source": [
    "Overlay the background+sig2 components of model with a dotted line"
   ]
  },
  {
   "cell_type": "code",
   "execution_count": 11,
   "id": "9c171822",
   "metadata": {
    "collapsed": false,
    "execution": {
     "iopub.execute_input": "2024-12-01T10:32:18.706360Z",
     "iopub.status.busy": "2024-12-01T10:32:18.706036Z",
     "iopub.status.idle": "2024-12-01T10:32:18.921007Z",
     "shell.execute_reply": "2024-12-01T10:32:18.919876Z"
    }
   },
   "outputs": [
    {
     "name": "stderr",
     "output_type": "stream",
     "text": [
      "input_line_59:2:67: error: cannot take the address of an rvalue of type 'ELineStyle'\n",
      " model.plotOn(xframe, Components(RooArgSet(bkg, sig2)), LineStyle(kDotted),\n",
      "                                                                  ^~~~~~~\n",
      "Error while creating dynamic expression for:\n",
      "  model.plotOn(xframe, Components(RooArgSet(bkg, sig2)), LineStyle(kDotted), Normalization(1., RooAbsReal::RelativeExpected))\n"
     ]
    }
   ],
   "source": [
    "model.plotOn(xframe, Components(RooArgSet(bkg, sig2)), LineStyle(kDotted),\n",
    "             Normalization(1.0, RooAbsReal::RelativeExpected));"
   ]
  },
  {
   "cell_type": "markdown",
   "id": "11bdd85f",
   "metadata": {},
   "source": [
    "Print structure of composite pdf"
   ]
  },
  {
   "cell_type": "code",
   "execution_count": 12,
   "id": "b38a59e4",
   "metadata": {
    "collapsed": false,
    "execution": {
     "iopub.execute_input": "2024-12-01T10:32:18.924987Z",
     "iopub.status.busy": "2024-12-01T10:32:18.924657Z",
     "iopub.status.idle": "2024-12-01T10:32:19.135074Z",
     "shell.execute_reply": "2024-12-01T10:32:19.133997Z"
    }
   },
   "outputs": [
    {
     "name": "stdout",
     "output_type": "stream",
     "text": [
      "0x7f4c480237d0 RooAddPdf::model = 0.9/1 [Auto,Clean] \n",
      "  0x7f4c480ed7d0/V- RooChebychev::bkg = 0.8 [Auto,Dirty] \n",
      "    0x7f4c48451000/V- RooRealVar::x = 5\n",
      "    0x7f4c480ed000/V- RooRealVar::a0 = 0.5\n",
      "    0x7f4c480ed3e8/V- RooRealVar::a1 = 0.2\n",
      "  0x7f4c480233e8/V- RooRealVar::nbkg = 500\n",
      "  0x7f4c480263e8/V- RooAddPdf::sig = 1/1 [Auto,Clean] \n",
      "    0x7f4c480f0bb8/V- RooGaussian::sig1 = 1 [Auto,Dirty] \n",
      "      0x7f4c48451000/V- RooRealVar::x = 5\n",
      "      0x7f4c480f0000/V- RooRealVar::mean = 5\n",
      "      0x7f4c480f03e8/V- RooRealVar::sigma1 = 0.5\n",
      "    0x7f4c48026000/V- RooRealVar::sig1frac = 0.8\n",
      "    0x7f4c480f1110/V- RooGaussian::sig2 = 1 [Auto,Dirty] \n",
      "      0x7f4c48451000/V- RooRealVar::x = 5\n",
      "      0x7f4c480f0000/V- RooRealVar::mean = 5\n",
      "      0x7f4c480f07d0/V- RooRealVar::sigma2 = 1\n",
      "  0x7f4c48023000/V- RooRealVar::nsig = 500\n"
     ]
    }
   ],
   "source": [
    "model.Print(\"t\");"
   ]
  },
  {
   "cell_type": "markdown",
   "id": "2cf1819a",
   "metadata": {},
   "source": [
    "----------------\n",
    "METHOD 2\n",
    "================"
   ]
  },
  {
   "cell_type": "markdown",
   "id": "c13b06e6",
   "metadata": {},
   "source": [
    "Construct extended components first\n",
    "---------------------------------------------------------------------"
   ]
  },
  {
   "cell_type": "markdown",
   "id": "20bc29ef",
   "metadata": {},
   "source": [
    "Associated nsig/nbkg as expected number of events with sig/bkg"
   ]
  },
  {
   "cell_type": "code",
   "execution_count": 13,
   "id": "0ad87328",
   "metadata": {
    "collapsed": false,
    "execution": {
     "iopub.execute_input": "2024-12-01T10:32:19.143053Z",
     "iopub.status.busy": "2024-12-01T10:32:19.142648Z",
     "iopub.status.idle": "2024-12-01T10:32:19.361774Z",
     "shell.execute_reply": "2024-12-01T10:32:19.360531Z"
    }
   },
   "outputs": [],
   "source": [
    "RooExtendPdf esig(\"esig\", \"extended signal pdf\", sig, nsig);\n",
    "RooExtendPdf ebkg(\"ebkg\", \"extended background pdf\", bkg, nbkg);"
   ]
  },
  {
   "cell_type": "markdown",
   "id": "8b06c448",
   "metadata": {},
   "source": [
    "Sum extended components without coefs\n",
    "-------------------------------------------------------------------------"
   ]
  },
  {
   "cell_type": "markdown",
   "id": "fb398213",
   "metadata": {},
   "source": [
    "Construct sum of two extended pdf (no coefficients required)"
   ]
  },
  {
   "cell_type": "code",
   "execution_count": 14,
   "id": "90c1e235",
   "metadata": {
    "collapsed": false,
    "execution": {
     "iopub.execute_input": "2024-12-01T10:32:19.366603Z",
     "iopub.status.busy": "2024-12-01T10:32:19.366234Z",
     "iopub.status.idle": "2024-12-01T10:32:19.650273Z",
     "shell.execute_reply": "2024-12-01T10:32:19.648946Z"
    }
   },
   "outputs": [],
   "source": [
    "RooAddPdf model2(\"model2\", \"(g1+g2)+a\", RooArgList(ebkg, esig));"
   ]
  },
  {
   "cell_type": "markdown",
   "id": "8282cd4a",
   "metadata": {},
   "source": [
    "Draw the frame on the canvas"
   ]
  },
  {
   "cell_type": "code",
   "execution_count": 15,
   "id": "e7ad7134",
   "metadata": {
    "collapsed": false,
    "execution": {
     "iopub.execute_input": "2024-12-01T10:32:19.660157Z",
     "iopub.status.busy": "2024-12-01T10:32:19.659786Z",
     "iopub.status.idle": "2024-12-01T10:32:20.336712Z",
     "shell.execute_reply": "2024-12-01T10:32:20.335676Z"
    }
   },
   "outputs": [
    {
     "name": "stderr",
     "output_type": "stream",
     "text": [
      "IncrementalExecutor::executeFunction: symbol '_ZN5cling7runtime8internal9EvaluateTIvEET_PNS1_15DynamicExprInfoEPN5clang11DeclContextE' unresolved while linking [cling interface function]!\n",
      "You are probably missing the definition of void cling::runtime::internal::EvaluateT<void>(cling::runtime::internal::DynamicExprInfo*, clang::DeclContext*)\n",
      "Maybe you need to load the corresponding shared library?\n"
     ]
    }
   ],
   "source": [
    "new TCanvas(\"rf202_composite\", \"rf202_composite\", 600, 600);\n",
    "gPad->SetLeftMargin(0.15);\n",
    "xframe->GetYaxis()->SetTitleOffset(1.4);\n",
    "xframe->Draw();"
   ]
  },
  {
   "cell_type": "markdown",
   "id": "334389bb",
   "metadata": {},
   "source": [
    "Draw all canvases "
   ]
  },
  {
   "cell_type": "code",
   "execution_count": 16,
   "id": "9fb35550",
   "metadata": {
    "collapsed": false,
    "execution": {
     "iopub.execute_input": "2024-12-01T10:32:20.340806Z",
     "iopub.status.busy": "2024-12-01T10:32:20.340450Z",
     "iopub.status.idle": "2024-12-01T10:32:20.603207Z",
     "shell.execute_reply": "2024-12-01T10:32:20.602155Z"
    }
   },
   "outputs": [],
   "source": [
    "%jsroot on\n",
    "gROOT->GetListOfCanvases()->Draw()"
   ]
  }
 ],
 "metadata": {
  "kernelspec": {
   "display_name": "ROOT C++",
   "language": "c++",
   "name": "root"
  },
  "language_info": {
   "codemirror_mode": "text/x-c++src",
   "file_extension": ".C",
   "mimetype": " text/x-c++src",
   "name": "c++"
  }
 },
 "nbformat": 4,
 "nbformat_minor": 5
}
