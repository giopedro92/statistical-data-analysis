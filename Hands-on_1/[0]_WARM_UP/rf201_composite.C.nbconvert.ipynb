{
 "cells": [
  {
   "cell_type": "markdown",
   "id": "98ec0e40",
   "metadata": {},
   "source": [
    "# rf201_composite\n",
    "Addition and convolution: composite pdf with signal and background component\n",
    "\n",
    "```\n",
    " pdf = f_bkg * bkg(x,a0,a1) + (1-fbkg) * (f_sig1 * sig1(x,m,s1 + (1-f_sig1) * sig2(x,m,s2)))\n",
    "```\n",
    "\n",
    "\n",
    "\n",
    "\n",
    "**Author:** Wouter Verkerke  \n",
    "<i><small>This notebook tutorial was automatically generated with <a href= \"https://github.com/root-project/root/blob/master/documentation/doxygen/converttonotebook.py\">ROOTBOOK-izer</a> from the macro found in the ROOT repository  on Sunday, December 01, 2024 at 10:32 AM.</small></i>"
   ]
  },
  {
   "cell_type": "code",
   "execution_count": 1,
   "id": "b71080f6",
   "metadata": {
    "collapsed": false,
    "execution": {
     "iopub.execute_input": "2024-12-01T10:32:11.390150Z",
     "iopub.status.busy": "2024-12-01T10:32:11.389834Z",
     "iopub.status.idle": "2024-12-01T10:32:11.415547Z",
     "shell.execute_reply": "2024-12-01T10:32:11.414606Z"
    }
   },
   "outputs": [],
   "source": [
    "%%cpp -d\n",
    "#include \"RooRealVar.h\"\n",
    "#include \"RooDataSet.h\"\n",
    "#include \"RooGaussian.h\"\n",
    "#include \"RooChebychev.h\"\n",
    "#include \"RooAddPdf.h\"\n",
    "#include \"TCanvas.h\"\n",
    "#include \"TAxis.h\"\n",
    "#include \"RooPlot.h\"\n",
    "using namespace RooFit;"
   ]
  },
  {
   "cell_type": "markdown",
   "id": "2e5d0d20",
   "metadata": {},
   "source": [
    "Setup component pdfs\n",
    "---------------------------------------"
   ]
  },
  {
   "cell_type": "markdown",
   "id": "a5147cce",
   "metadata": {},
   "source": [
    "Declare observable x"
   ]
  },
  {
   "cell_type": "code",
   "execution_count": 2,
   "id": "4dbdf449",
   "metadata": {
    "collapsed": false,
    "execution": {
     "iopub.execute_input": "2024-12-01T10:32:11.420073Z",
     "iopub.status.busy": "2024-12-01T10:32:11.419533Z",
     "iopub.status.idle": "2024-12-01T10:32:11.914904Z",
     "shell.execute_reply": "2024-12-01T10:32:11.913886Z"
    }
   },
   "outputs": [],
   "source": [
    "RooRealVar x(\"x\", \"x\", 0, 10);"
   ]
  },
  {
   "cell_type": "markdown",
   "id": "3fd5ec4c",
   "metadata": {},
   "source": [
    "Create two Gaussian PDFs g1(x,mean1,sigma) anf g2(x,mean2,sigma) and their parameters"
   ]
  },
  {
   "cell_type": "code",
   "execution_count": 3,
   "id": "a8a02e62",
   "metadata": {
    "collapsed": false,
    "execution": {
     "iopub.execute_input": "2024-12-01T10:32:11.919421Z",
     "iopub.status.busy": "2024-12-01T10:32:11.919074Z",
     "iopub.status.idle": "2024-12-01T10:32:12.133674Z",
     "shell.execute_reply": "2024-12-01T10:32:12.132790Z"
    }
   },
   "outputs": [
    {
     "name": "stdout",
     "output_type": "stream",
     "text": [
      "[#0] WARNING:InputArguments -- The parameter 'sigma1' with range [-inf, inf] of the RooGaussian 'sig1' exceeds the safe range of (0, inf). Advise to limit its range.\n",
      "[#0] WARNING:InputArguments -- The parameter 'sigma2' with range [-inf, inf] of the RooGaussian 'sig2' exceeds the safe range of (0, inf). Advise to limit its range.\n"
     ]
    }
   ],
   "source": [
    "RooRealVar mean(\"mean\", \"mean of gaussians\", 5);\n",
    "RooRealVar sigma1(\"sigma1\", \"width of gaussians\", 0.5);\n",
    "RooRealVar sigma2(\"sigma2\", \"width of gaussians\", 1);\n",
    "\n",
    "RooGaussian sig1(\"sig1\", \"Signal component 1\", x, mean, sigma1);\n",
    "RooGaussian sig2(\"sig2\", \"Signal component 2\", x, mean, sigma2);"
   ]
  },
  {
   "cell_type": "markdown",
   "id": "1eb96cde",
   "metadata": {},
   "source": [
    "Build Chebychev polynomial pdf"
   ]
  },
  {
   "cell_type": "code",
   "execution_count": 4,
   "id": "5c402cd7",
   "metadata": {
    "collapsed": false,
    "execution": {
     "iopub.execute_input": "2024-12-01T10:32:12.137713Z",
     "iopub.status.busy": "2024-12-01T10:32:12.137389Z",
     "iopub.status.idle": "2024-12-01T10:32:12.469805Z",
     "shell.execute_reply": "2024-12-01T10:32:12.468680Z"
    }
   },
   "outputs": [],
   "source": [
    "RooRealVar a0(\"a0\", \"a0\", 0.5, 0., 1.);\n",
    "RooRealVar a1(\"a1\", \"a1\", 0.2, 0., 1.);\n",
    "RooChebychev bkg(\"bkg\", \"Background\", x, RooArgSet(a0, a1));"
   ]
  },
  {
   "cell_type": "markdown",
   "id": "8dd0232d",
   "metadata": {},
   "source": [
    "---------------------------------------------\n",
    "METHOD 1-Two RooAddPdfs\n",
    "============================================="
   ]
  },
  {
   "cell_type": "markdown",
   "id": "faa2c1ca",
   "metadata": {},
   "source": [
    "Add signal components\n",
    "------------------------------------------"
   ]
  },
  {
   "cell_type": "markdown",
   "id": "e390fbf6",
   "metadata": {},
   "source": [
    "Sum the signal components into a composite signal pdf"
   ]
  },
  {
   "cell_type": "code",
   "execution_count": 5,
   "id": "bab7af7a",
   "metadata": {
    "collapsed": false,
    "execution": {
     "iopub.execute_input": "2024-12-01T10:32:12.475156Z",
     "iopub.status.busy": "2024-12-01T10:32:12.474841Z",
     "iopub.status.idle": "2024-12-01T10:32:12.688908Z",
     "shell.execute_reply": "2024-12-01T10:32:12.687713Z"
    }
   },
   "outputs": [],
   "source": [
    "RooRealVar sig1frac(\"sig1frac\", \"fraction of component 1 in signal\", 0.8, 0., 1.);\n",
    "RooAddPdf sig(\"sig\", \"Signal\", RooArgList(sig1, sig2), sig1frac);"
   ]
  },
  {
   "cell_type": "markdown",
   "id": "c5d3d0b3",
   "metadata": {},
   "source": [
    "Add signal and background\n",
    "------------------------------------------------"
   ]
  },
  {
   "cell_type": "markdown",
   "id": "d42ac958",
   "metadata": {},
   "source": [
    "Sum the composite signal and background"
   ]
  },
  {
   "cell_type": "code",
   "execution_count": 6,
   "id": "ca58da64",
   "metadata": {
    "collapsed": false,
    "execution": {
     "iopub.execute_input": "2024-12-01T10:32:12.693590Z",
     "iopub.status.busy": "2024-12-01T10:32:12.693248Z",
     "iopub.status.idle": "2024-12-01T10:32:13.168889Z",
     "shell.execute_reply": "2024-12-01T10:32:13.167672Z"
    }
   },
   "outputs": [],
   "source": [
    "RooRealVar bkgfrac(\"bkgfrac\", \"fraction of background\", 0.5, 0., 1.);\n",
    "RooAddPdf model(\"model\", \"g1+g2+a\", RooArgList(bkg, sig), bkgfrac);"
   ]
  },
  {
   "cell_type": "markdown",
   "id": "4ecf5a6c",
   "metadata": {},
   "source": [
    "Sample, fit and plot model\n",
    "---------------------------------------------------"
   ]
  },
  {
   "cell_type": "markdown",
   "id": "a3333cb1",
   "metadata": {},
   "source": [
    "Generate a data sample of 1000 events in x from model"
   ]
  },
  {
   "cell_type": "code",
   "execution_count": 7,
   "id": "fef54f39",
   "metadata": {
    "collapsed": false,
    "execution": {
     "iopub.execute_input": "2024-12-01T10:32:13.173494Z",
     "iopub.status.busy": "2024-12-01T10:32:13.173196Z",
     "iopub.status.idle": "2024-12-01T10:32:13.398811Z",
     "shell.execute_reply": "2024-12-01T10:32:13.397775Z"
    }
   },
   "outputs": [
    {
     "name": "stderr",
     "output_type": "stream",
     "text": [
      "input_line_55:2:2: warning: 'data' shadows a declaration with the same name in the 'std' namespace; use '::data' to reference this declaration\n",
      " std::unique_ptr<RooDataSet> data{model.generate(x, 1000)};\n",
      " ^\n"
     ]
    }
   ],
   "source": [
    "std::unique_ptr<RooDataSet> data{model.generate(x, 1000)};"
   ]
  },
  {
   "cell_type": "markdown",
   "id": "19e10e4e",
   "metadata": {},
   "source": [
    "Fit model to data"
   ]
  },
  {
   "cell_type": "code",
   "execution_count": 8,
   "id": "ba0970d6",
   "metadata": {
    "collapsed": false,
    "execution": {
     "iopub.execute_input": "2024-12-01T10:32:13.405262Z",
     "iopub.status.busy": "2024-12-01T10:32:13.403762Z",
     "iopub.status.idle": "2024-12-01T10:32:13.629357Z",
     "shell.execute_reply": "2024-12-01T10:32:13.628199Z"
    }
   },
   "outputs": [
    {
     "name": "stderr",
     "output_type": "stream",
     "text": [
      "input_line_56:2:15: error: reference to 'data' is ambiguous\n",
      " model.fitTo(*data, PrintLevel(-1));\n",
      "              ^\n",
      "input_line_55:2:30: note: candidate found by name lookup is 'data'\n",
      " std::unique_ptr<RooDataSet> data{model.generate(x, 1000)};\n",
      "                             ^\n",
      "/usr/include/c++/9/bits/range_access.h:318:5: note: candidate found by name lookup is 'std::data'\n",
      "    data(initializer_list<_Tp> __il) noexcept\n",
      "    ^\n",
      "/usr/include/c++/9/bits/range_access.h:289:5: note: candidate found by name lookup is 'std::data'\n",
      "    data(_Container& __cont) noexcept(noexcept(__cont.data()))\n",
      "    ^\n",
      "/usr/include/c++/9/bits/range_access.h:299:5: note: candidate found by name lookup is 'std::data'\n",
      "    data(const _Container& __cont) noexcept(noexcept(__cont.data()))\n",
      "    ^\n",
      "/usr/include/c++/9/bits/range_access.h:309:5: note: candidate found by name lookup is 'std::data'\n",
      "    data(_Tp (&__array)[_Nm]) noexcept\n",
      "    ^\n"
     ]
    }
   ],
   "source": [
    "model.fitTo(*data, PrintLevel(-1));"
   ]
  },
  {
   "cell_type": "markdown",
   "id": "cba48363",
   "metadata": {},
   "source": [
    "Plot data and PDF overlaid"
   ]
  },
  {
   "cell_type": "code",
   "execution_count": 9,
   "id": "d14c744b",
   "metadata": {
    "collapsed": false,
    "execution": {
     "iopub.execute_input": "2024-12-01T10:32:13.635351Z",
     "iopub.status.busy": "2024-12-01T10:32:13.634982Z",
     "iopub.status.idle": "2024-12-01T10:32:13.851724Z",
     "shell.execute_reply": "2024-12-01T10:32:13.850592Z"
    }
   },
   "outputs": [
    {
     "name": "stderr",
     "output_type": "stream",
     "text": [
      "input_line_57:3:1: error: reference to 'data' is ambiguous\n",
      "data->plotOn(xframe);\n",
      "^\n",
      "input_line_55:2:30: note: candidate found by name lookup is 'data'\n",
      " std::unique_ptr<RooDataSet> data{model.generate(x, 1000)};\n",
      "                             ^\n",
      "/usr/include/c++/9/bits/range_access.h:318:5: note: candidate found by name lookup is 'std::data'\n",
      "    data(initializer_list<_Tp> __il) noexcept\n",
      "    ^\n",
      "/usr/include/c++/9/bits/range_access.h:289:5: note: candidate found by name lookup is 'std::data'\n",
      "    data(_Container& __cont) noexcept(noexcept(__cont.data()))\n",
      "    ^\n",
      "/usr/include/c++/9/bits/range_access.h:299:5: note: candidate found by name lookup is 'std::data'\n",
      "    data(const _Container& __cont) noexcept(noexcept(__cont.data()))\n",
      "    ^\n",
      "/usr/include/c++/9/bits/range_access.h:309:5: note: candidate found by name lookup is 'std::data'\n",
      "    data(_Tp (&__array)[_Nm]) noexcept\n",
      "    ^\n"
     ]
    }
   ],
   "source": [
    "RooPlot *xframe = x.frame(Title(\"Example of composite pdf=(sig1+sig2)+bkg\"));\n",
    "data->plotOn(xframe);\n",
    "model.plotOn(xframe);"
   ]
  },
  {
   "cell_type": "markdown",
   "id": "72d51437",
   "metadata": {},
   "source": [
    "Overlay the background component of model with a dashed line"
   ]
  },
  {
   "cell_type": "code",
   "execution_count": 10,
   "id": "7338c5fe",
   "metadata": {
    "collapsed": false,
    "execution": {
     "iopub.execute_input": "2024-12-01T10:32:13.857009Z",
     "iopub.status.busy": "2024-12-01T10:32:13.856652Z",
     "iopub.status.idle": "2024-12-01T10:32:14.072901Z",
     "shell.execute_reply": "2024-12-01T10:32:14.071941Z"
    }
   },
   "outputs": [
    {
     "name": "stderr",
     "output_type": "stream",
     "text": [
      "input_line_58:2:50: error: cannot take the address of an rvalue of type 'ELineStyle'\n",
      " model.plotOn(xframe, Components(bkg), LineStyle(kDashed));\n",
      "                                                 ^~~~~~~\n",
      "Error while creating dynamic expression for:\n",
      "  model.plotOn(xframe, Components(bkg), LineStyle(kDashed))\n"
     ]
    }
   ],
   "source": [
    "model.plotOn(xframe, Components(bkg), LineStyle(kDashed));"
   ]
  },
  {
   "cell_type": "markdown",
   "id": "3e070084",
   "metadata": {},
   "source": [
    "Overlay the background+sig2 components of model with a dotted line"
   ]
  },
  {
   "cell_type": "code",
   "execution_count": 11,
   "id": "cb2b5db3",
   "metadata": {
    "collapsed": false,
    "execution": {
     "iopub.execute_input": "2024-12-01T10:32:14.076819Z",
     "iopub.status.busy": "2024-12-01T10:32:14.076515Z",
     "iopub.status.idle": "2024-12-01T10:32:14.294483Z",
     "shell.execute_reply": "2024-12-01T10:32:14.293424Z"
    }
   },
   "outputs": [
    {
     "name": "stderr",
     "output_type": "stream",
     "text": [
      "input_line_59:2:67: error: cannot take the address of an rvalue of type 'ELineStyle'\n",
      " model.plotOn(xframe, Components(RooArgSet(bkg, sig2)), LineStyle(kDotted));\n",
      "                                                                  ^~~~~~~\n",
      "Error while creating dynamic expression for:\n",
      "  model.plotOn(xframe, Components(RooArgSet(bkg, sig2)), LineStyle(kDotted))\n"
     ]
    }
   ],
   "source": [
    "model.plotOn(xframe, Components(RooArgSet(bkg, sig2)), LineStyle(kDotted));"
   ]
  },
  {
   "cell_type": "markdown",
   "id": "b3d3005d",
   "metadata": {},
   "source": [
    "Print structure of composite pdf"
   ]
  },
  {
   "cell_type": "code",
   "execution_count": 12,
   "id": "0d7ec509",
   "metadata": {
    "collapsed": false,
    "execution": {
     "iopub.execute_input": "2024-12-01T10:32:14.298621Z",
     "iopub.status.busy": "2024-12-01T10:32:14.298274Z",
     "iopub.status.idle": "2024-12-01T10:32:14.508480Z",
     "shell.execute_reply": "2024-12-01T10:32:14.507583Z"
    }
   },
   "outputs": [
    {
     "name": "stdout",
     "output_type": "stream",
     "text": [
      "0x7fd4f12293e8 RooAddPdf::model = 0.9/1 [Auto,Clean] \n",
      "  0x7fd4f80037d0/V- RooChebychev::bkg = 0.8 [Auto,Dirty] \n",
      "    0x7fd4f801c000/V- RooRealVar::x = 5\n",
      "    0x7fd4f8003000/V- RooRealVar::a0 = 0.5\n",
      "    0x7fd4f80033e8/V- RooRealVar::a1 = 0.2\n",
      "  0x7fd4f1229000/V- RooRealVar::bkgfrac = 0.5\n",
      "  0x7fd4f122c3e8/V- RooAddPdf::sig = 1/1 [Auto,Clean] \n",
      "    0x7fd4f8006bb8/V- RooGaussian::sig1 = 1 [Auto,Dirty] \n",
      "      0x7fd4f801c000/V- RooRealVar::x = 5\n",
      "      0x7fd4f8006000/V- RooRealVar::mean = 5\n",
      "      0x7fd4f80063e8/V- RooRealVar::sigma1 = 0.5\n",
      "    0x7fd4f122c000/V- RooRealVar::sig1frac = 0.8\n",
      "    0x7fd4f8007110/V- RooGaussian::sig2 = 1 [Auto,Dirty] \n",
      "      0x7fd4f801c000/V- RooRealVar::x = 5\n",
      "      0x7fd4f8006000/V- RooRealVar::mean = 5\n",
      "      0x7fd4f80067d0/V- RooRealVar::sigma2 = 1\n"
     ]
    }
   ],
   "source": [
    "model.Print(\"t\");"
   ]
  },
  {
   "cell_type": "markdown",
   "id": "87d0af6d",
   "metadata": {},
   "source": [
    "---------------------------------------------------------------------------------------------\n",
    "METHOD 2-One RooAddPdf with recursive fractions\n",
    "============================================================================================="
   ]
  },
  {
   "cell_type": "markdown",
   "id": "183f0343",
   "metadata": {},
   "source": [
    "Construct sum of models on one go using recursive fraction interpretations\n",
    "\n",
    "model2 = bkg + (sig1 + sig2)"
   ]
  },
  {
   "cell_type": "code",
   "execution_count": 13,
   "id": "e62eb957",
   "metadata": {
    "collapsed": false,
    "execution": {
     "iopub.execute_input": "2024-12-01T10:32:14.512291Z",
     "iopub.status.busy": "2024-12-01T10:32:14.511988Z",
     "iopub.status.idle": "2024-12-01T10:32:15.121014Z",
     "shell.execute_reply": "2024-12-01T10:32:15.119876Z"
    }
   },
   "outputs": [],
   "source": [
    "RooAddPdf model2(\"model\", \"g1+g2+a\", RooArgList(bkg, sig1, sig2), RooArgList(bkgfrac, sig1frac), true);"
   ]
  },
  {
   "cell_type": "markdown",
   "id": "4b5cee04",
   "metadata": {},
   "source": [
    "NB: Each coefficient is interpreted as the fraction of the\n",
    "left-hand component of the i-th recursive sum, i.e.\n",
    "\n",
    "sum4 = A + ( B + ( C + D)  with fraction fA, fB and fC expands to\n",
    "\n",
    "sum4 = fA*A + (1-fA)*(fB*B + (1-fB)*(fC*C + (1-fC)*D))"
   ]
  },
  {
   "cell_type": "markdown",
   "id": "734683fe",
   "metadata": {},
   "source": [
    "Plot recursive addition model\n",
    "---------------------------------------------------------"
   ]
  },
  {
   "cell_type": "code",
   "execution_count": 14,
   "id": "f4057631",
   "metadata": {
    "collapsed": false,
    "execution": {
     "iopub.execute_input": "2024-12-01T10:32:15.125592Z",
     "iopub.status.busy": "2024-12-01T10:32:15.125273Z",
     "iopub.status.idle": "2024-12-01T10:32:15.335660Z",
     "shell.execute_reply": "2024-12-01T10:32:15.334460Z"
    }
   },
   "outputs": [
    {
     "name": "stderr",
     "output_type": "stream",
     "text": [
      "input_line_62:2:34: error: cannot take the address of an rvalue of type 'EColor'\n",
      " model2.plotOn(xframe, LineColor(kRed), LineStyle(kDashed));\n",
      "                                 ^~~~\n",
      "Error while creating dynamic expression for:\n",
      "  model2.plotOn(xframe, LineColor(kRed), LineStyle(kDashed))\n",
      "input_line_62:3:67: error: cannot take the address of an rvalue of type 'EColor'\n",
      "model2.plotOn(xframe, Components(RooArgSet(bkg, sig2)), LineColor(kRed), LineStyle(kDashed));\n",
      "                                                                  ^~~~\n",
      "Error while creating dynamic expression for:\n",
      "  model2.plotOn(xframe, Components(RooArgSet(bkg, sig2)), LineColor(kRed), LineStyle(kDashed))\n"
     ]
    }
   ],
   "source": [
    "model2.plotOn(xframe, LineColor(kRed), LineStyle(kDashed));\n",
    "model2.plotOn(xframe, Components(RooArgSet(bkg, sig2)), LineColor(kRed), LineStyle(kDashed));\n",
    "model2.Print(\"t\");"
   ]
  },
  {
   "cell_type": "markdown",
   "id": "6359c163",
   "metadata": {},
   "source": [
    "Draw the frame on the canvas"
   ]
  },
  {
   "cell_type": "code",
   "execution_count": 15,
   "id": "d96f59d4",
   "metadata": {
    "collapsed": false,
    "execution": {
     "iopub.execute_input": "2024-12-01T10:32:15.339755Z",
     "iopub.status.busy": "2024-12-01T10:32:15.339418Z",
     "iopub.status.idle": "2024-12-01T10:32:16.028580Z",
     "shell.execute_reply": "2024-12-01T10:32:16.026921Z"
    }
   },
   "outputs": [
    {
     "name": "stderr",
     "output_type": "stream",
     "text": [
      "IncrementalExecutor::executeFunction: symbol '_ZN5cling7runtime8internal9EvaluateTIvEET_PNS1_15DynamicExprInfoEPN5clang11DeclContextE' unresolved while linking [cling interface function]!\n",
      "You are probably missing the definition of void cling::runtime::internal::EvaluateT<void>(cling::runtime::internal::DynamicExprInfo*, clang::DeclContext*)\n",
      "Maybe you need to load the corresponding shared library?\n"
     ]
    }
   ],
   "source": [
    "new TCanvas(\"rf201_composite\", \"rf201_composite\", 600, 600);\n",
    "gPad->SetLeftMargin(0.15);\n",
    "xframe->GetYaxis()->SetTitleOffset(1.4);\n",
    "xframe->Draw();"
   ]
  },
  {
   "cell_type": "markdown",
   "id": "63df022d",
   "metadata": {},
   "source": [
    "Draw all canvases "
   ]
  },
  {
   "cell_type": "code",
   "execution_count": 16,
   "id": "14b276b2",
   "metadata": {
    "collapsed": false,
    "execution": {
     "iopub.execute_input": "2024-12-01T10:32:16.033032Z",
     "iopub.status.busy": "2024-12-01T10:32:16.032406Z",
     "iopub.status.idle": "2024-12-01T10:32:16.325798Z",
     "shell.execute_reply": "2024-12-01T10:32:16.324615Z"
    }
   },
   "outputs": [],
   "source": [
    "%jsroot on\n",
    "gROOT->GetListOfCanvases()->Draw()"
   ]
  }
 ],
 "metadata": {
  "kernelspec": {
   "display_name": "ROOT C++",
   "language": "c++",
   "name": "root"
  },
  "language_info": {
   "codemirror_mode": "text/x-c++src",
   "file_extension": ".C",
   "mimetype": " text/x-c++src",
   "name": "c++"
  }
 },
 "nbformat": 4,
 "nbformat_minor": 5
}
