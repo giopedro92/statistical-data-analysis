{
 "cells": [
  {
   "cell_type": "markdown",
   "id": "4409e21e",
   "metadata": {},
   "source": [
    "# rf102_dataimport\n",
    "Basic functionality: importing data from ROOT TTrees and THx histograms.\n",
    "\n",
    "\n",
    "\n",
    "\n",
    "**Author:** Wouter Verkerke  \n",
    "<i><small>This notebook tutorial was automatically generated with <a href= \"https://github.com/root-project/root/blob/master/documentation/doxygen/converttonotebook.py\">ROOTBOOK-izer</a> from the macro found in the ROOT repository  on Monday, December 02, 2024 at 10:19 AM.</small></i>"
   ]
  },
  {
   "cell_type": "code",
   "execution_count": 1,
   "id": "e782bc5b",
   "metadata": {
    "collapsed": false,
    "execution": {
     "iopub.execute_input": "2024-12-02T10:20:06.032071Z",
     "iopub.status.busy": "2024-12-02T10:20:06.031700Z",
     "iopub.status.idle": "2024-12-02T10:20:06.072136Z",
     "shell.execute_reply": "2024-12-02T10:20:06.070866Z"
    }
   },
   "outputs": [],
   "source": [
    "%%cpp -d\n",
    "#include \"RooRealVar.h\"\n",
    "#include \"RooDataSet.h\"\n",
    "#include \"RooDataHist.h\"\n",
    "#include \"RooGaussian.h\"\n",
    "#include \"TCanvas.h\"\n",
    "#include \"RooPlot.h\"\n",
    "#include \"TTree.h\"\n",
    "#include \"TH1D.h\"\n",
    "#include \"TRandom.h\"\n",
    "\n",
    "TH1 *makeTH1(TRandom &trnd);\n",
    "TTree *makeTTree(TRandom &trnd);"
   ]
  },
  {
   "cell_type": "markdown",
   "id": "224e3f59",
   "metadata": {},
   "source": [
    " Create ROOT TH1 filled with a Gaussian distribution\n",
    " "
   ]
  },
  {
   "cell_type": "code",
   "execution_count": 2,
   "id": "af418205",
   "metadata": {
    "collapsed": false,
    "execution": {
     "iopub.execute_input": "2024-12-02T10:20:06.082856Z",
     "iopub.status.busy": "2024-12-02T10:20:06.082445Z",
     "iopub.status.idle": "2024-12-02T10:20:06.125300Z",
     "shell.execute_reply": "2024-12-02T10:20:06.123712Z"
    }
   },
   "outputs": [],
   "source": [
    "%%cpp -d\n",
    "TH1 *makeTH1(TRandom &trnd)\n",
    "{\n",
    "   TH1D *hh = new TH1D(\"hh\", \"hh\", 25, -10, 10);\n",
    "   for (int i = 0; i < 100; i++) {\n",
    "      hh->Fill(trnd.Gaus(0, 3));\n",
    "   }\n",
    "   return hh;\n",
    "}"
   ]
  },
  {
   "cell_type": "markdown",
   "id": "a8b6eed1",
   "metadata": {},
   "source": [
    " Create ROOT TTree filled with a Gaussian distribution in x and a uniform distribution in y\n",
    " "
   ]
  },
  {
   "cell_type": "code",
   "execution_count": 3,
   "id": "bca95dac",
   "metadata": {
    "collapsed": false,
    "execution": {
     "iopub.execute_input": "2024-12-02T10:20:06.155867Z",
     "iopub.status.busy": "2024-12-02T10:20:06.155393Z",
     "iopub.status.idle": "2024-12-02T10:20:06.179186Z",
     "shell.execute_reply": "2024-12-02T10:20:06.174379Z"
    }
   },
   "outputs": [],
   "source": [
    "%%cpp -d\n",
    "TTree *makeTTree(TRandom &trnd)\n",
    "{\n",
    "   TTree *tree = new TTree(\"tree\", \"tree\");\n",
    "   double *px = new double;\n",
    "   double *py = new double;\n",
    "   tree->Branch(\"x\", px, \"x/D\");\n",
    "   tree->Branch(\"y\", py, \"y/D\");\n",
    "   for (int i = 0; i < 100; i++) {\n",
    "      *px = trnd.Gaus(0, 3);\n",
    "      *py = trnd.Uniform() * 30 - 15;\n",
    "      tree->Fill();\n",
    "   }\n",
    "   return tree;\n",
    "}"
   ]
  },
  {
   "cell_type": "code",
   "execution_count": 4,
   "id": "f7da000f",
   "metadata": {
    "collapsed": false,
    "execution": {
     "iopub.execute_input": "2024-12-02T10:20:06.191030Z",
     "iopub.status.busy": "2024-12-02T10:20:06.190637Z",
     "iopub.status.idle": "2024-12-02T10:20:06.709952Z",
     "shell.execute_reply": "2024-12-02T10:20:06.708661Z"
    }
   },
   "outputs": [],
   "source": [
    "using namespace RooFit;"
   ]
  },
  {
   "cell_type": "markdown",
   "id": "39c19edf",
   "metadata": {},
   "source": [
    "---------------------------------------------------\n",
    "Importing ROOT histograms\n",
    "==================================================="
   ]
  },
  {
   "cell_type": "code",
   "execution_count": 5,
   "id": "e7ce7194",
   "metadata": {
    "collapsed": false,
    "execution": {
     "iopub.execute_input": "2024-12-02T10:20:06.716219Z",
     "iopub.status.busy": "2024-12-02T10:20:06.715812Z",
     "iopub.status.idle": "2024-12-02T10:20:06.939400Z",
     "shell.execute_reply": "2024-12-02T10:20:06.938193Z"
    }
   },
   "outputs": [],
   "source": [
    "TRandom3 trnd{};"
   ]
  },
  {
   "cell_type": "markdown",
   "id": "e6ec737e",
   "metadata": {},
   "source": [
    "Import TH1 into a RooDataHist\n",
    "---------------------------------------------------------"
   ]
  },
  {
   "cell_type": "markdown",
   "id": "48e7b4a9",
   "metadata": {},
   "source": [
    "Create a ROOT TH1 histogram"
   ]
  },
  {
   "cell_type": "code",
   "execution_count": 6,
   "id": "353bdb3d",
   "metadata": {
    "collapsed": false,
    "execution": {
     "iopub.execute_input": "2024-12-02T10:20:06.944883Z",
     "iopub.status.busy": "2024-12-02T10:20:06.944541Z",
     "iopub.status.idle": "2024-12-02T10:20:07.188178Z",
     "shell.execute_reply": "2024-12-02T10:20:07.186957Z"
    }
   },
   "outputs": [],
   "source": [
    "TH1 *hh = makeTH1(trnd);"
   ]
  },
  {
   "cell_type": "markdown",
   "id": "4fc92a67",
   "metadata": {},
   "source": [
    "Declare observable x"
   ]
  },
  {
   "cell_type": "code",
   "execution_count": 7,
   "id": "b0369da8",
   "metadata": {
    "collapsed": false,
    "execution": {
     "iopub.execute_input": "2024-12-02T10:20:07.205340Z",
     "iopub.status.busy": "2024-12-02T10:20:07.204952Z",
     "iopub.status.idle": "2024-12-02T10:20:07.453243Z",
     "shell.execute_reply": "2024-12-02T10:20:07.437944Z"
    }
   },
   "outputs": [],
   "source": [
    "RooRealVar x(\"x\", \"x\", -10, 10);"
   ]
  },
  {
   "cell_type": "markdown",
   "id": "b79675c2",
   "metadata": {},
   "source": [
    "Create a binned dataset that imports contents of TH1 and associates its contents to observable 'x'"
   ]
  },
  {
   "cell_type": "code",
   "execution_count": 8,
   "id": "43c725b9",
   "metadata": {
    "collapsed": false,
    "execution": {
     "iopub.execute_input": "2024-12-02T10:20:07.460360Z",
     "iopub.status.busy": "2024-12-02T10:20:07.459976Z",
     "iopub.status.idle": "2024-12-02T10:20:07.841594Z",
     "shell.execute_reply": "2024-12-02T10:20:07.840390Z"
    }
   },
   "outputs": [],
   "source": [
    "RooDataHist dh(\"dh\", \"dh\", x, Import(*hh));"
   ]
  },
  {
   "cell_type": "markdown",
   "id": "570a4215",
   "metadata": {},
   "source": [
    "Plot and fit a RooDataHist\n",
    "---------------------------------------------------"
   ]
  },
  {
   "cell_type": "markdown",
   "id": "5663af6e",
   "metadata": {},
   "source": [
    "Make plot of binned dataset showing Poisson error bars (RooFit default)"
   ]
  },
  {
   "cell_type": "code",
   "execution_count": 9,
   "id": "5a1e55a9",
   "metadata": {
    "collapsed": false,
    "execution": {
     "iopub.execute_input": "2024-12-02T10:20:07.846443Z",
     "iopub.status.busy": "2024-12-02T10:20:07.846117Z",
     "iopub.status.idle": "2024-12-02T10:20:08.065729Z",
     "shell.execute_reply": "2024-12-02T10:20:08.064498Z"
    }
   },
   "outputs": [],
   "source": [
    "RooPlot *frame = x.frame(Title(\"Imported TH1 with Poisson error bars\"));\n",
    "dh.plotOn(frame);"
   ]
  },
  {
   "cell_type": "markdown",
   "id": "20a32a61",
   "metadata": {},
   "source": [
    "Fit a Gaussian pdf to the data"
   ]
  },
  {
   "cell_type": "code",
   "execution_count": 10,
   "id": "8d9fc52c",
   "metadata": {
    "collapsed": false,
    "execution": {
     "iopub.execute_input": "2024-12-02T10:20:08.077687Z",
     "iopub.status.busy": "2024-12-02T10:20:08.077250Z",
     "iopub.status.idle": "2024-12-02T10:20:08.666609Z",
     "shell.execute_reply": "2024-12-02T10:20:08.663800Z"
    }
   },
   "outputs": [
    {
     "name": "stdout",
     "output_type": "stream",
     "text": [
      "[#1] INFO:Fitting -- RooAbsPdf::fitTo(gauss_over_gauss_Int[x]) fixing normalization set for coefficient determination to observables in data\n",
      "[#1] INFO:Fitting -- using CPU computation library compiled with -mavx2\n",
      "[#1] INFO:Fitting -- RooAddition::defaultErrorLevel(nll_gauss_over_gauss_Int[x]_dh) Summation contains a RooNLLVar, using its error level\n",
      "[#1] INFO:Minimization -- RooAbsMinimizerFcn::setOptimizeConst: activating const optimization\n",
      "[#1] INFO:Minimization -- RooAbsMinimizerFcn::setOptimizeConst: deactivating const optimization\n"
     ]
    }
   ],
   "source": [
    "RooRealVar mean(\"mean\", \"mean\", 0, -10, 10);\n",
    "RooRealVar sigma(\"sigma\", \"sigma\", 3, 0.1, 10);\n",
    "RooGaussian gauss(\"gauss\", \"gauss\", x, mean, sigma);\n",
    "gauss.fitTo(dh, PrintLevel(-1));\n",
    "gauss.plotOn(frame);"
   ]
  },
  {
   "cell_type": "markdown",
   "id": "109ab5ae",
   "metadata": {},
   "source": [
    "Plot and fit a RooDataHist with internal errors\n",
    "---------------------------------------------------------------------------------------------"
   ]
  },
  {
   "cell_type": "markdown",
   "id": "ceb147d5",
   "metadata": {},
   "source": [
    "If histogram has custom error (i.e. its contents is does not originate from a Poisson process\n",
    "but e.g. is a sum of weighted events) you can data with symmetric 'sum-of-weights' error instead\n",
    "(same error bars as shown by ROOT)"
   ]
  },
  {
   "cell_type": "code",
   "execution_count": 11,
   "id": "8ffbb95a",
   "metadata": {
    "collapsed": false,
    "execution": {
     "iopub.execute_input": "2024-12-02T10:20:08.684501Z",
     "iopub.status.busy": "2024-12-02T10:20:08.684119Z",
     "iopub.status.idle": "2024-12-02T10:20:08.934171Z",
     "shell.execute_reply": "2024-12-02T10:20:08.931322Z"
    }
   },
   "outputs": [],
   "source": [
    "RooPlot *frame2 = x.frame(Title(\"Imported TH1 with internal errors\"));\n",
    "dh.plotOn(frame2, DataError(RooAbsData::SumW2));\n",
    "gauss.plotOn(frame2);"
   ]
  },
  {
   "cell_type": "markdown",
   "id": "0cf1e85f",
   "metadata": {},
   "source": [
    "Please note that error bars shown (Poisson or SumW2) are for visualization only, the are NOT used\n",
    "in a maximum likelihood fit\n",
    "\n",
    "A (binned) ML fit will ALWAYS assume the Poisson error interpretation of data (the mathematical definition\n",
    "of likelihood does not take any external definition of errors). Data with non-unit weights can only be correctly\n",
    "fitted with a chi^2 fit (see rf602_chi2fit.C)"
   ]
  },
  {
   "cell_type": "markdown",
   "id": "80c2a9b7",
   "metadata": {},
   "source": [
    "-----------------------------------------\n",
    "Importing ROOT TTrees\n",
    "========================================="
   ]
  },
  {
   "cell_type": "markdown",
   "id": "c5679c1a",
   "metadata": {},
   "source": [
    "Import TTree into a RooDataSet\n",
    "-----------------------------------------------------------"
   ]
  },
  {
   "cell_type": "code",
   "execution_count": 12,
   "id": "a6b5a992",
   "metadata": {
    "collapsed": false,
    "execution": {
     "iopub.execute_input": "2024-12-02T10:20:08.943088Z",
     "iopub.status.busy": "2024-12-02T10:20:08.942663Z",
     "iopub.status.idle": "2024-12-02T10:20:09.237182Z",
     "shell.execute_reply": "2024-12-02T10:20:09.236076Z"
    }
   },
   "outputs": [],
   "source": [
    "TTree *tree = makeTTree(trnd);"
   ]
  },
  {
   "cell_type": "markdown",
   "id": "117ebb38",
   "metadata": {},
   "source": [
    "Define 2nd observable y"
   ]
  },
  {
   "cell_type": "code",
   "execution_count": 13,
   "id": "2c5db455",
   "metadata": {
    "collapsed": false,
    "execution": {
     "iopub.execute_input": "2024-12-02T10:20:09.259444Z",
     "iopub.status.busy": "2024-12-02T10:20:09.259041Z",
     "iopub.status.idle": "2024-12-02T10:20:09.486754Z",
     "shell.execute_reply": "2024-12-02T10:20:09.482302Z"
    }
   },
   "outputs": [],
   "source": [
    "RooRealVar y(\"y\", \"y\", -10, 10);"
   ]
  },
  {
   "cell_type": "markdown",
   "id": "2d92ce9d",
   "metadata": {},
   "source": [
    "Construct unbinned dataset importing tree branches x and y matching between branches and RooRealVars\n",
    "is done by name of the branch/RRV\n",
    "\n",
    "Note that ONLY entries for which x,y have values within their allowed ranges as defined in\n",
    "RooRealVar x and y are imported. Since the y values in the import tree are in the range [-15,15]\n",
    "and RRV y defines a range [-10,10] this means that the RooDataSet below will have less entries than the TTree\n",
    "'tree'"
   ]
  },
  {
   "cell_type": "code",
   "execution_count": 14,
   "id": "d854d249",
   "metadata": {
    "collapsed": false,
    "execution": {
     "iopub.execute_input": "2024-12-02T10:20:09.493493Z",
     "iopub.status.busy": "2024-12-02T10:20:09.493077Z",
     "iopub.status.idle": "2024-12-02T10:20:09.859791Z",
     "shell.execute_reply": "2024-12-02T10:20:09.852080Z"
    }
   },
   "outputs": [
    {
     "name": "stdout",
     "output_type": "stream",
     "text": [
      "[#1] INFO:DataHandling -- RooTreeDataStore::loadValues(ds) Skipping event #0 because y cannot accommodate the value 14.424\n",
      "[#1] INFO:DataHandling -- RooTreeDataStore::loadValues(ds) Skipping event #3 because y cannot accommodate the value -12.0022\n",
      "[#1] INFO:DataHandling -- RooTreeDataStore::loadValues(ds) Skipping event #5 because y cannot accommodate the value 13.8261\n",
      "[#1] INFO:DataHandling -- RooTreeDataStore::loadValues(ds) Skipping event #6 because y cannot accommodate the value -14.9925\n",
      "[#1] INFO:DataHandling -- RooTreeDataStore::loadValues(ds) Skipping ...\n",
      "[#0] WARNING:DataHandling -- RooTreeDataStore::loadValues(ds) Ignored 36 out-of-range events\n"
     ]
    }
   ],
   "source": [
    "RooDataSet ds(\"ds\", \"ds\", RooArgSet(x, y), Import(*tree));"
   ]
  },
  {
   "cell_type": "markdown",
   "id": "873dec1a",
   "metadata": {},
   "source": [
    "Use ascii import/export for datasets\n",
    "------------------------------------------------------------------------------------"
   ]
  },
  {
   "cell_type": "code",
   "execution_count": 15,
   "id": "eccc9694",
   "metadata": {
    "collapsed": false,
    "execution": {
     "iopub.execute_input": "2024-12-02T10:20:09.868395Z",
     "iopub.status.busy": "2024-12-02T10:20:09.864979Z",
     "iopub.status.idle": "2024-12-02T10:20:10.092982Z",
     "shell.execute_reply": "2024-12-02T10:20:10.091301Z"
    }
   },
   "outputs": [],
   "source": [
    "{\n",
    "   // Write data to output stream\n",
    "   std::ofstream outstream(\"rf102_testData.txt\");\n",
    "   // Optionally, adjust the stream here (e.g. std::setprecision)\n",
    "   ds.write(outstream);\n",
    "   outstream.close();\n",
    "}"
   ]
  },
  {
   "cell_type": "markdown",
   "id": "5e581d77",
   "metadata": {},
   "source": [
    "Read data from input stream. The variables of the dataset need to be supplied\n",
    "to the RooDataSet::read() function."
   ]
  },
  {
   "cell_type": "code",
   "execution_count": 16,
   "id": "00806c14",
   "metadata": {
    "collapsed": false,
    "execution": {
     "iopub.execute_input": "2024-12-02T10:20:10.098622Z",
     "iopub.status.busy": "2024-12-02T10:20:10.098282Z",
     "iopub.status.idle": "2024-12-02T10:20:10.314224Z",
     "shell.execute_reply": "2024-12-02T10:20:10.311117Z"
    }
   },
   "outputs": [
    {
     "name": "stdout",
     "output_type": "stream",
     "text": [
      "\n",
      "-----------------------\n",
      "Reading data from ASCII\n",
      "[#1] INFO:DataHandling -- RooDataSet::read: reading file rf102_testData.txt\n",
      "[#1] INFO:DataHandling -- RooDataSet::read: read 64 events (ignored 0 out of range events)\n",
      "DataStore dataset (rf102_testData.txt)\n",
      "  Contains 64 entries\n",
      "  Observables: \n",
      "    1)           x = 0.0174204  L(-10 - 10)  \"x\"\n",
      "    2)           y = 9.46654  L(-10 - 10)  \"y\"\n",
      "    3)  blindState = Normal(idx = 0)\n",
      "  \"Blinding State\"\n",
      "\n",
      "Original data, line 20:\n",
      "  1) RooRealVar:: x = -0.79919\n",
      "  2) RooRealVar:: y = 0.0106407\n",
      "\n",
      "Read-back data, line 20:\n",
      "  1) RooRealVar::          x = -0.79919\n",
      "  2) RooRealVar::          y = 0.0106407\n",
      "  3) RooCategory:: blindState = Normal(idx = 0)\n",
      "\n"
     ]
    }
   ],
   "source": [
    "std::cout << \"\\n-----------------------\\nReading data from ASCII\\n\";\n",
    "RooDataSet *dataReadBack =\n",
    "   RooDataSet::read(\"rf102_testData.txt\",\n",
    "                    RooArgList(x, y), // variables to be read. If the file has more fields, these are ignored.\n",
    "                    \"D\"); // Prints if a RooFit message stream listens for debug messages. Use Q for quiet.\n",
    "\n",
    "dataReadBack->Print(\"V\");\n",
    "\n",
    "std::cout << \"\\nOriginal data, line 20:\\n\";\n",
    "ds.get(20)->Print(\"V\");\n",
    "\n",
    "std::cout << \"\\nRead-back data, line 20:\\n\";\n",
    "dataReadBack->get(20)->Print(\"V\");"
   ]
  },
  {
   "cell_type": "markdown",
   "id": "5a37553e",
   "metadata": {},
   "source": [
    "Plot datasets with multiple binning choices\n",
    "------------------------------------------------------------------------------------"
   ]
  },
  {
   "cell_type": "markdown",
   "id": "80bb5ab0",
   "metadata": {},
   "source": [
    "Print number of events in dataset"
   ]
  },
  {
   "cell_type": "code",
   "execution_count": 17,
   "id": "424cfaff",
   "metadata": {
    "collapsed": false,
    "execution": {
     "iopub.execute_input": "2024-12-02T10:20:10.328986Z",
     "iopub.status.busy": "2024-12-02T10:20:10.328493Z",
     "iopub.status.idle": "2024-12-02T10:20:10.552096Z",
     "shell.execute_reply": "2024-12-02T10:20:10.550984Z"
    }
   },
   "outputs": [
    {
     "name": "stdout",
     "output_type": "stream",
     "text": [
      "RooDataSet::ds[x,y] = 64 entries\n"
     ]
    }
   ],
   "source": [
    "ds.Print();"
   ]
  },
  {
   "cell_type": "markdown",
   "id": "c0f46035",
   "metadata": {},
   "source": [
    "Print unbinned dataset with default frame binning (100 bins)"
   ]
  },
  {
   "cell_type": "code",
   "execution_count": 18,
   "id": "8d212644",
   "metadata": {
    "collapsed": false,
    "execution": {
     "iopub.execute_input": "2024-12-02T10:20:10.556740Z",
     "iopub.status.busy": "2024-12-02T10:20:10.556438Z",
     "iopub.status.idle": "2024-12-02T10:20:10.771602Z",
     "shell.execute_reply": "2024-12-02T10:20:10.770528Z"
    }
   },
   "outputs": [],
   "source": [
    "RooPlot *frame3 = y.frame(Title(\"Unbinned data shown in default frame binning\"));\n",
    "ds.plotOn(frame3);"
   ]
  },
  {
   "cell_type": "markdown",
   "id": "faa49a80",
   "metadata": {},
   "source": [
    "Print unbinned dataset with custom binning choice (20 bins)"
   ]
  },
  {
   "cell_type": "code",
   "execution_count": 19,
   "id": "11a4bc89",
   "metadata": {
    "collapsed": false,
    "execution": {
     "iopub.execute_input": "2024-12-02T10:20:10.777020Z",
     "iopub.status.busy": "2024-12-02T10:20:10.776653Z",
     "iopub.status.idle": "2024-12-02T10:20:10.995336Z",
     "shell.execute_reply": "2024-12-02T10:20:10.992306Z"
    }
   },
   "outputs": [],
   "source": [
    "RooPlot *frame4 = y.frame(Title(\"Unbinned data shown with custom binning\"));\n",
    "ds.plotOn(frame4, Binning(20));\n",
    "\n",
    "RooPlot *frame5 = y.frame(Title(\"Unbinned data read back from ASCII file\"));\n",
    "ds.plotOn(frame5, Binning(20));\n",
    "dataReadBack->plotOn(frame5, Binning(20), MarkerColor(kRed), MarkerStyle(5));"
   ]
  },
  {
   "cell_type": "markdown",
   "id": "035c03af",
   "metadata": {},
   "source": [
    "Draw all frames on a canvas"
   ]
  },
  {
   "cell_type": "code",
   "execution_count": 20,
   "id": "7da4f939",
   "metadata": {
    "collapsed": false,
    "execution": {
     "iopub.execute_input": "2024-12-02T10:20:11.012886Z",
     "iopub.status.busy": "2024-12-02T10:20:11.003966Z",
     "iopub.status.idle": "2024-12-02T10:20:11.230692Z",
     "shell.execute_reply": "2024-12-02T10:20:11.229537Z"
    }
   },
   "outputs": [],
   "source": [
    "TCanvas *c = new TCanvas(\"rf102_dataimport\", \"rf102_dataimport\", 1000, 800);\n",
    "c->Divide(3, 2);\n",
    "c->cd(1);\n",
    "gPad->SetLeftMargin(0.15);\n",
    "frame->GetYaxis()->SetTitleOffset(1.4);\n",
    "frame->Draw();\n",
    "c->cd(2);\n",
    "gPad->SetLeftMargin(0.15);\n",
    "frame2->GetYaxis()->SetTitleOffset(1.4);\n",
    "frame2->Draw();\n",
    "\n",
    "c->cd(4);\n",
    "gPad->SetLeftMargin(0.15);\n",
    "frame3->GetYaxis()->SetTitleOffset(1.4);\n",
    "frame3->Draw();\n",
    "c->cd(5);\n",
    "gPad->SetLeftMargin(0.15);\n",
    "frame4->GetYaxis()->SetTitleOffset(1.4);\n",
    "frame4->Draw();\n",
    "c->cd(6);\n",
    "gPad->SetLeftMargin(0.15);\n",
    "frame4->GetYaxis()->SetTitleOffset(1.4);\n",
    "frame5->Draw();"
   ]
  },
  {
   "cell_type": "markdown",
   "id": "dbefee84",
   "metadata": {},
   "source": [
    "Draw all canvases "
   ]
  },
  {
   "cell_type": "code",
   "execution_count": 21,
   "id": "a10e1799",
   "metadata": {
    "collapsed": false,
    "execution": {
     "iopub.execute_input": "2024-12-02T10:20:11.236136Z",
     "iopub.status.busy": "2024-12-02T10:20:11.235740Z",
     "iopub.status.idle": "2024-12-02T10:20:11.804594Z",
     "shell.execute_reply": "2024-12-02T10:20:11.803183Z"
    }
   },
   "outputs": [
    {
     "data": {
      "text/html": [
       "\n",
       "\n",
       "<div id=\"root_plot_1733134811702\" style=\"width: 1000px; height: 800px; position: relative\">\n",
       "</div>\n",
       "\n",
       "<script>\n",
       "\n",
       "function display_root_plot_1733134811702(Core) {\n",
       "   let obj = Core.parse({\"_typename\":\"TCanvasWebSnapshot\",\"fUniqueID\":0,\"fBits\":0,\"fObjectID\":\"\",\"fOption\":\"\",\"fKind\":3,\"fSnapshot\":{\"_typename\":\"TCanvas\",\"fUniqueID\":0,\"fBits\":3342344,\"fLineColor\":1,\"fLineStyle\":1,\"fLineWidth\":1,\"fFillColor\":0,\"fFillStyle\":1001,\"fLeftMargin\":0.1,\"fRightMargin\":0.1,\"fBottomMargin\":0.1,\"fTopMargin\":0.1,\"fXfile\":2,\"fYfile\":2,\"fAfile\":1,\"fXstat\":0.99,\"fYstat\":0.99,\"fAstat\":2,\"fFrameFillColor\":0,\"fFrameLineColor\":1,\"fFrameFillStyle\":1001,\"fFrameLineStyle\":1,\"fFrameLineWidth\":1,\"fFrameBorderSize\":1,\"fFrameBorderMode\":0,\"fX1\":0,\"fY1\":0,\"fX2\":1,\"fY2\":1,\"fXtoAbsPixelk\":0,\"fXtoPixelk\":0,\"fXtoPixel\":996,\"fYtoAbsPixelk\":772,\"fYtoPixelk\":772,\"fYtoPixel\":-772,\"fUtoAbsPixelk\":0,\"fUtoPixelk\":0,\"fUtoPixel\":996,\"fVtoAbsPixelk\":772,\"fVtoPixelk\":772,\"fVtoPixel\":-772,\"fAbsPixeltoXk\":0,\"fPixeltoXk\":0,\"fPixeltoX\":0.00100401606425703,\"fAbsPixeltoYk\":1,\"fPixeltoYk\":0,\"fPixeltoY\":-0.00129533678756477,\"fXlowNDC\":0,\"fYlowNDC\":0,\"fXUpNDC\":1,\"fYUpNDC\":1,\"fWNDC\":1,\"fHNDC\":1,\"fAbsXlowNDC\":0,\"fAbsYlowNDC\":0,\"fAbsWNDC\":1,\"fAbsHNDC\":1,\"fUxmin\":0,\"fUymin\":0,\"fUxmax\":1,\"fUymax\":1,\"fTheta\":30,\"fPhi\":30,\"fAspectRatio\":0,\"fNumber\":0,\"fTickx\":0,\"fTicky\":0,\"fLogx\":0,\"fLogy\":0,\"fLogz\":0,\"fPadPaint\":0,\"fCrosshair\":0,\"fCrosshairPos\":0,\"fBorderSize\":2,\"fBorderMode\":0,\"fModified\":false,\"fGridx\":false,\"fGridy\":false,\"fAbsCoord\":false,\"fEditable\":true,\"fFixedAspectRatio\":false,\"fPrimitives\":{\"_typename\":\"TList\",\"name\":\"TList\",\"arr\":[],\"opt\":[]},\"fExecs\":null,\"fName\":\"rf102_dataimport\",\"fTitle\":\"rf102_dataimport\",\"fNumPaletteColor\":0,\"fNextPaletteColor\":0,\"fDISPLAY\":\"$DISPLAY\",\"fDoubleBuffer\":0,\"fRetained\":true,\"fXsizeUser\":0,\"fYsizeUser\":0,\"fXsizeReal\":20,\"fYsizeReal\":16,\"fWindowTopX\":0,\"fWindowTopY\":0,\"fWindowWidth\":0,\"fWindowHeight\":0,\"fCw\":996,\"fCh\":772,\"fCatt\":{\"_typename\":\"TAttCanvas\",\"fXBetween\":2,\"fYBetween\":2,\"fTitleFromTop\":1.2,\"fXdate\":0.2,\"fYdate\":0.3,\"fAdate\":1},\"kMoveOpaque\":true,\"kResizeOpaque\":true,\"fHighLightColor\":2,\"fBatch\":true,\"kShowEventStatus\":false,\"kAutoExec\":true,\"kMenuBar\":true},\"fActive\":false,\"fReadOnly\":true,\"fWithoutPrimitives\":false,\"fHasExecs\":false,\"fPrimitives\":[{\"_typename\":\"TWebSnapshot\",\"fUniqueID\":0,\"fBits\":0,\"fObjectID\":\"\",\"fOption\":\"\",\"fKind\":4,\"fSnapshot\":{\"_typename\":\"TWebPainting\",\"fUniqueID\":0,\"fBits\":0,\"fOper\":\"0:255,255,255;1:0,0,0;2:255,0,0;3:0,255,0;4:0,0,255;5:255,255,0;6:255,0,255;7:0,255,255;8:89,211,84;9:89,84,216;10:254,254,254;11:192,182,172;12:76,76,76;13:102,102,102;14:127,127,127;15:153,153,153;16:178,178,178;17:204,204,204;18:229,229,229;19:242,242,242;20:204,198,170;21:204,198,170;22:193,191,168;23:186,181,163;24:178,165,150;25:183,163,155;26:173,153,140;27:155,142,130;28:135,102,86;29:175,206,198;30:132,193,163;31:137,168,160;32:130,158,140;33:173,188,198;34:122,142,153;35:117,137,145;36:104,130,150;37:109,122,132;38:124,153,209;39:127,127,155;40:170,165,191;41:211,206,135;42:221,186,135;43:188,158,130;44:198,153,124;45:191,130,119;46:206,94,96;47:170,142,147;48:165,119,122;49:147,104,112;50:211,89,84;51:146,0,255;52:122,0,255;53:98,0,255;54:74,0,255;55:51,0,255;56:27,0,255;57:3,0,255;58:0,20,255;59:0,44,255;60:0,68,255;61:0,91,255;62:0,115,255;63:0,139,255;64:0,163,255;65:0,187,255;66:0,210,255;67:0,234,255;68:0,255,251;69:0,255,227;70:0,255,204;71:0,255,180;72:0,255,156;73:0,255,132;74:0,255,108;75:0,255,85;76:0,255,61;77:0,255,37;78:0,255,13;79:10,255,0;80:34,255,0;81:57,255,0;82:81,255,0;83:105,255,0;84:129,255,0;85:153,255,0;86:176,255,0;87:200,255,0;88:224,255,0;89:248,255,0;90:255,238,0;91:255,214,0;92:255,190,0;93:255,166,0;94:255,142,0;95:255,119,0;96:255,95,0;97:255,71,0;98:255,47,0;99:255,23,0;100:111,45,168;101:165,42,42;102:178,190,181;103:87,144,252;104:248,156,32;105:228,37,54;106:150,74,139;107:156,156,161;108:122,33,221;109:24,69,251;110:255,94,2;111:201,31,22;112:200,73,169;113:173,173,125;114:134,200,221;115:87,141,255;116:101,99,100;117:63,144,218;118:255,169,14;119:189,31,1;120:148,164,162;121:131,45,182;122:169,107,89;123:231,99,0;124:185,172,112;125:113,117,129;126:146,218,221;127:178,178,178;201:91,91,91;202:122,122,122;203:183,183,183;204:214,214,214;205:137,15,15;206:183,20,20;207:234,71,71;208:239,117,117;209:15,137,15;210:20,183,20;211:71,234,71;212:117,239,117;213:15,15,137;214:20,20,183;215:71,71,234;216:117,117,239;217:137,137,15;218:183,183,20;219:234,234,71;220:239,239,117;221:137,15,137;222:183,20,183;223:234,71,234;224:239,117,239;225:15,137,137;226:20,183,183;227:71,234,234;228:117,239,239;390:255,255,204;391:255,255,153;392:204,204,153;393:255,255,102;394:204,204,102;395:153,153,102;396:255,255,51;397:204,204,51;398:153,153,51;399:102,102,51;400:255,255,0;401:204,204,0;402:153,153,0;403:102,102,0;404:51,51,0;406:204,255,204;407:153,255,153;408:153,204,153;409:102,255,102;410:102,204,102;411:102,153,102;412:51,255,51;413:51,204,51;414:51,153,51;415:51,102,51;416:0,255,0;417:0,204,0;418:0,153,0;419:0,102,0;420:0,51,0;422:204,255,255;423:153,255,255;424:153,204,204;425:102,255,255;426:102,204,204;427:102,153,153;428:51,255,255;429:51,204,204;430:51,153,153;431:51,102,102;432:0,255,255;433:0,204,204;434:0,153,153;435:0,102,102;436:0,51,51;590:204,204,255;591:153,153,255;592:153,153,204;593:102,102,255;594:102,102,204;595:102,102,153;596:51,51,255;597:51,51,204;598:51,51,153;599:51,51,102;600:0,0,255;601:0,0,204;602:0,0,153;603:0,0,102;604:0,0,51;606:255,204,255;607:255,153,255;608:204,153,204;609:255,102,255;610:204,102,204;611:153,102,153;612:255,51,255;613:204,51,204;614:153,51,153;615:102,51,102;616:255,0,255;617:204,0,204;618:153,0,153;619:102,0,102;620:51,0,51;622:255,204,204;623:255,153,153;624:204,153,153;625:255,102,102;626:204,102,102;627:153,102,102;628:255,51,51;629:204,51,51;630:153,51,51;631:102,51,51;632:255,0,0;633:204,0,0;634:153,0,0;635:102,0,0;636:51,0,0;791:255,204,153;792:204,153,102;793:153,102,51;794:153,102,0;795:204,153,51;796:255,204,102;797:255,153,0;798:255,204,51;799:204,153,0;800:255,204,0;801:255,153,51;802:204,102,0;803:102,51,0;804:153,51,0;805:204,102,51;806:255,153,102;807:255,102,0;808:255,102,51;809:204,51,0;810:255,51,0;811:153,255,51;812:102,204,0;813:51,102,0;814:51,153,0;815:102,204,51;816:153,255,102;817:102,255,0;818:102,255,51;819:51,204,0;820:51,255,0;821:204,255,153;822:153,204,102;823:102,153,51;824:102,153,0;825:153,204,51;826:204,255,102;827:153,255,0;828:204,255,51;829:153,204,0;830:204,255,0;831:153,255,204;832:102,204,153;833:51,153,102;834:0,153,102;835:51,204,153;836:102,255,204;837:0,255,102;838:51,255,204;839:0,204,153;840:0,255,204;841:51,255,153;842:0,204,102;843:0,102,51;844:0,153,51;845:51,204,102;846:102,255,153;847:0,255,153;848:51,255,102;849:0,204,51;850:0,255,51;851:153,204,255;852:102,153,204;853:51,102,153;854:0,51,153;855:51,102,204;856:102,153,255;857:0,102,255;858:51,102,255;859:0,51,204;860:0,51,255;861:51,153,255;862:0,102,204;863:0,51,102;864:0,102,153;865:51,153,204;866:102,204,255;867:0,153,255;868:51,204,255;869:0,153,204;870:0,204,255;871:204,153,255;872:153,102,204;873:102,51,153;874:102,0,153;875:153,51,204;876:204,102,255;877:153,0,255;878:204,51,255;879:153,0,204;880:204,0,255;881:153,51,255;882:102,0,204;883:51,0,102;884:51,0,153;885:102,51,204;886:153,102,255;887:102,0,255;888:102,51,255;889:51,0,204;890:51,0,255;891:255,51,153;892:204,0,102;893:102,0,51;894:153,0,51;895:204,51,102;896:255,102,153;897:255,0,102;898:255,51,102;899:204,0,51;900:255,0,51;901:255,153,204;902:204,102,153;903:153,51,102;904:153,0,102;905:204,51,153;906:255,102,204;907:255,0,153;908:204,0,153;909:255,51,204;910:255,0,153;920:204,204,204;921:153,153,153;922:102,102,102;923:51,51,51;924:53,42,134;925:51,44,137;926:50,45,140;927:49,47,143;928:48,48,146;929:46,50,148;930:45,51,151;931:44,53,154;932:43,55,157;933:42,56,160;934:40,58,162;935:39,59,165;936:38,61,168;937:37,63,171;938:35,64,174;939:34,66,176;940:33,67,179;941:32,69,182;942:31,71,185;943:29,72,187;944:28,74,190;945:27,75,193;946:26,77,196;947:24,79,199;948:23,80,201;949:22,82,204;950:21,83,207;951:19,85,210;952:18,86,213;953:17,88,215;954:16,90,218;955:15,91,221;956:15,92,221;957:15,94,220;958:15,95,220;959:15,96,220;960:15,97,220;961:15,98,220;962:16,99,219;963:16,100,219;964:16,102,219;965:16,103,219;966:16,104,218;967:16,105,218;968:17,106,218;969:17,107,218;970:17,109,217;971:17,110,217;972:17,111,217;973:17,112,217;974:17,113,216;975:18,114,216;976:18,115,216;977:18,117,216;978:18,118,215;979:18,119,215;980:18,120,215;981:18,121,215;982:19,122,215;983:19,123,214;984:19,125,214;985:19,126,214;986:19,127,214;987:19,128,213;988:19,129,213;989:19,130,213;990:18,131,212;991:18,132,212;992:17,134,211;993:17,135,211;994:16,136,211;995:16,137,210;996:15,138,210;997:15,139,210;998:15,140,209;999:14,141,209;1000:14,142,208;1001:13,143,208;1002:13,145,208;1003:12,146,207;1004:12,147,207;1005:12,148,207;1006:11,149,206;1007:11,150,206;1008:10,151,205;1009:10,152,205;1010:9,153,205;1011:9,154,204;1012:8,155,204;1013:8,157,204;1014:8,158,203;1015:7,159,203;1016:7,160,202;1017:6,161,202;1018:6,162,202;1019:5,163,201;1020:7,164,200;1021:8,164,199;1022:9,165,198;1023:10,166,197;1024:12,166,195;1025:13,167,194;1026:14,167,193;1027:15,168,192;1028:17,169,191;1029:18,169,189;1030:19,170,188;1031:20,170,187;1032:22,171,186;1033:23,172,185;1034:24,172,184;1035:25,173,182;1036:27,173,181;1037:28,174,180;1038:29,175,179;1039:30,175,178;1040:32,176,176;1041:33,176,175;1042:34,177,174;1043:35,178,173;1044:37,178,172;1045:38,179,170;1046:39,180,169;1047:40,180,168;1048:42,181,167;1049:43,181,166;1050:44,182,165;1051:45,183,163;1052:48,183,162;1053:51,183,161;1054:54,183,159;1055:57,184,158;1056:59,184,156;1057:62,184,155;1058:65,184,154;1059:68,185,152;1060:71,185,151;1061:73,185,149;1062:76,185,148;1063:79,186,146;1064:82,186,145;1065:84,186,144;1066:87,186,142;1067:90,187,141;1068:93,187,139;1069:96,187,138;1070:98,187,137;1071:101,188,135;1072:104,188,134;1073:107,188,132;1074:110,188,131;1075:112,189,130;1076:115,189,128;1077:118,189,127;1078:121,189,125;1079:124,190,124;1080:126,190,123;1081:129,190,121;1082:132,190,120;1083:135,191,118;1084:137,190,117;1085:139,190,117;1086:142,190,116;1087:144,190,115;1088:146,190,114;1089:148,190,113;1090:151,190,112;1091:153,190,111;1092:155,189,110;1093:158,189,109;1094:160,189,108;1095:162,189,107;1096:165,189,106;1097:167,189,105;1098:169,189,104;1099:171,188,104;1100:174,188,103;1101:176,188,102;1102:178,188,101;1103:181,188,100;1104:183,188,99;1105:185,188,98;1106:188,188,97;1107:190,187,96;1108:192,187,95;1109:194,187,94;1110:197,187,93;1111:199,187,92;1112:201,187,92;1113:204,187,91;1114:206,186,90;1115:208,186,89;1116:210,187,88;1117:211,187,86;1118:212,188,85;1119:214,188,84;1120:215,188,83;1121:217,189,81;1122:218,189,80;1123:220,190,79;1124:221,190,78;1125:222,191,77;1126:224,191,75;1127:225,191,74;1128:227,192,73;1129:228,192,72;1130:229,193,70;1131:231,193,69;1132:232,194,68;1133:234,194,67;1134:235,194,66;1135:236,195,64;1136:238,195,63;1137:239,196,62;1138:241,196,61;1139:242,197,59;1140:244,197,58;1141:245,197,57;1142:246,198,56;1143:248,198,55;1144:249,199,53;1145:251,199,52;1146:252,200,51;1147:253,200,50;1148:253,202,49;1149:253,203,47;1150:253,205,46;1151:253,206,45;1152:253,208,44;1153:252,209,43;1154:252,211,42;1155:252,213,41;1156:252,214,39;1157:252,216,38;1158:252,217,37;1159:252,219,36;1160:251,220,35;1161:251,222,34;1162:251,224,33;1163:251,225,31;1164:251,227,30;1165:251,228,29;1166:250,230,28;1167:250,231,27;1168:250,233,26;1169:250,235,25;1170:250,236,23;1171:250,238,22;1172:250,239,21;1173:249,241,20;1174:249,242,19;1175:249,244,18;1176:249,246,17;1177:249,247,16;1178:249,249,14\",\"fBuf\":{\"$arr\":\"Float32\",\"len\":255,\"v\":[924,925,926,927,928,929,930,931,932,933,934,935,936,937,938,939,940,941,942,943,944,945,946,947,948,949,950,951,952,953,954,955,956,957,958,959,960,961,962,963,964,965,966,967,968,969,970,971,972,973,974,975,976,977,978,979,980,981,982,983,984,985,986,987,988,989,990,991,992,993,994,995,996,997,998,999,1000,1001,1002,1003,1004,1005,1006,1007,1008,1009,1010,1011,1012,1013,1014,1015,1016,1017,1018,1019,1020,1021,1022,1023,1024,1025,1026,1027,1028,1029,1030,1031,1032,1033,1034,1035,1036,1037,1038,1039,1040,1041,1042,1043,1044,1045,1046,1047,1048,1049,1050,1051,1052,1053,1054,1055,1056,1057,1058,1059,1060,1061,1062,1063,1064,1065,1066,1067,1068,1069,1070,1071,1072,1073,1074,1075,1076,1077,1078,1079,1080,1081,1082,1083,1084,1085,1086,1087,1088,1089,1090,1091,1092,1093,1094,1095,1096,1097,1098,1099,1100,1101,1102,1103,1104,1105,1106,1107,1108,1109,1110,1111,1112,1113,1114,1115,1116,1117,1118,1119,1120,1121,1122,1123,1124,1125,1126,1127,1128,1129,1130,1131,1132,1133,1134,1135,1136,1137,1138,1139,1140,1141,1142,1143,1144,1145,1146,1147,1148,1149,1150,1151,1152,1153,1154,1155,1156,1157,1158,1159,1160,1161,1162,1163,1164,1165,1166,1167,1168,1169,1170,1171,1172,1173,1174,1175,1176,1177,1178]}}},{\"_typename\":\"TWebSnapshot\",\"fUniqueID\":0,\"fBits\":0,\"fObjectID\":\"\",\"fOption\":\"\",\"fKind\":5,\"fSnapshot\":{\"_typename\":\"TStyle\",\"fUniqueID\":0,\"fBits\":0,\"fName\":\"Modern\",\"fTitle\":\"Modern Style\",\"fLineColor\":1,\"fLineStyle\":1,\"fLineWidth\":1,\"fFillColor\":19,\"fFillStyle\":1001,\"fMarkerColor\":1,\"fMarkerStyle\":1,\"fMarkerSize\":1,\"fTextAngle\":0,\"fTextSize\":0.05,\"fTextAlign\":11,\"fTextColor\":1,\"fTextFont\":62,\"fXaxis\":{\"_typename\":\"TAttAxis\",\"fNdivisions\":510,\"fAxisColor\":1,\"fLabelColor\":1,\"fLabelFont\":42,\"fLabelOffset\":0.005,\"fLabelSize\":0.035,\"fTickLength\":0.03,\"fTitleOffset\":1,\"fTitleSize\":0.035,\"fTitleColor\":1,\"fTitleFont\":42},\"fYaxis\":{\"_typename\":\"TAttAxis\",\"fNdivisions\":510,\"fAxisColor\":1,\"fLabelColor\":1,\"fLabelFont\":42,\"fLabelOffset\":0.005,\"fLabelSize\":0.035,\"fTickLength\":0.03,\"fTitleOffset\":0,\"fTitleSize\":0.035,\"fTitleColor\":1,\"fTitleFont\":42},\"fZaxis\":{\"_typename\":\"TAttAxis\",\"fNdivisions\":510,\"fAxisColor\":1,\"fLabelColor\":1,\"fLabelFont\":42,\"fLabelOffset\":0.005,\"fLabelSize\":0.035,\"fTickLength\":0.03,\"fTitleOffset\":1,\"fTitleSize\":0.035,\"fTitleColor\":1,\"fTitleFont\":42},\"fBarWidth\":1,\"fBarOffset\":0,\"fColorModelPS\":0,\"fDrawBorder\":0,\"fOptLogx\":0,\"fOptLogy\":0,\"fOptLogz\":0,\"fOptDate\":0,\"fOptStat\":1111,\"fOptTitle\":1,\"fOptFile\":0,\"fOptFit\":0,\"fShowEventStatus\":0,\"fShowEditor\":0,\"fShowToolBar\":0,\"fNumberContours\":20,\"fAttDate\":{\"_typename\":\"TAttText\",\"fTextAngle\":0,\"fTextSize\":0.025,\"fTextAlign\":11,\"fTextColor\":1,\"fTextFont\":62},\"fDateX\":0.01,\"fDateY\":0.01,\"fEndErrorSize\":2,\"fErrorX\":0.5,\"fFuncColor\":2,\"fFuncStyle\":1,\"fFuncWidth\":2,\"fGridColor\":0,\"fGridStyle\":3,\"fGridWidth\":1,\"fLegendBorderSize\":1,\"fLegendFillColor\":0,\"fLegendFillStyle\":1001,\"fLegendFont\":42,\"fLegendTextSize\":0,\"fHatchesLineWidth\":1,\"fHatchesSpacing\":1,\"fFrameFillColor\":0,\"fFrameLineColor\":1,\"fFrameFillStyle\":1001,\"fFrameLineStyle\":1,\"fFrameLineWidth\":1,\"fFrameBorderSize\":1,\"fFrameBorderMode\":0,\"fHistFillColor\":0,\"fHistLineColor\":602,\"fHistFillStyle\":1001,\"fHistLineStyle\":1,\"fHistLineWidth\":1,\"fHistMinimumZero\":false,\"fHistTopMargin\":0.05,\"fCanvasPreferGL\":false,\"fCanvasColor\":0,\"fCanvasBorderSize\":2,\"fCanvasBorderMode\":0,\"fCanvasDefH\":500,\"fCanvasDefW\":700,\"fCanvasDefX\":10,\"fCanvasDefY\":10,\"fPadColor\":0,\"fPadBorderSize\":2,\"fPadBorderMode\":0,\"fPadBottomMargin\":0.1,\"fPadTopMargin\":0.1,\"fPadLeftMargin\":0.1,\"fPadRightMargin\":0.1,\"fPadGridX\":false,\"fPadGridY\":false,\"fPadTickX\":0,\"fPadTickY\":0,\"fPaperSizeX\":20,\"fPaperSizeY\":26,\"fScreenFactor\":1,\"fStatColor\":0,\"fStatTextColor\":1,\"fStatBorderSize\":1,\"fStatFont\":42,\"fStatFontSize\":0,\"fStatStyle\":1001,\"fStatFormat\":\"6.4g\",\"fStatX\":0.98,\"fStatY\":0.935,\"fStatW\":0.2,\"fStatH\":0.16,\"fStripDecimals\":true,\"fTitleAlign\":23,\"fTitleColor\":0,\"fTitleTextColor\":1,\"fTitleBorderSize\":0,\"fTitleFont\":42,\"fTitleFontSize\":0.05,\"fTitleStyle\":0,\"fTitleX\":0.5,\"fTitleY\":0.995,\"fTitleW\":0,\"fTitleH\":0,\"fLegoInnerR\":0.5,\"fLineStyles\":[\"\",\"  \",\" 12 12\",\" 4 8\",\" 12 16 4 16\",\" 20 12 4 12\",\" 20 12 4 12 4 12 4 12\",\" 20 20\",\" 20 12 4 12 4 12\",\" 80 20\",\" 80 40 4 40\",\"  \",\"  \",\"  \",\"  \",\"  \",\"  \",\"  \",\"  \",\"  \",\"  \",\"  \",\"  \",\"  \",\"  \",\"  \",\"  \",\"  \",\"  \",\"  \"],\"fHeaderPS\":\"\",\"fTitlePS\":\"\",\"fFitFormat\":\"5.4g\",\"fPaintTextFormat\":\"g\",\"fLineScalePS\":3,\"fJoinLinePS\":0,\"fCapLinePS\":0,\"fTimeOffset\":788918400,\"fImageScaling\":1,\"fCandleWhiskerRange\":1,\"fCandleBoxRange\":0.5,\"fCandleScaled\":false,\"fViolinScaled\":true,\"fXAxisExpXOffset\":0,\"fXAxisExpYOffset\":0,\"fYAxisExpXOffset\":0,\"fYAxisExpYOffset\":0,\"fAxisMaxDigits\":5,\"fOrthoCamera\":false}},{\"_typename\":\"TPadWebSnapshot\",\"fUniqueID\":0,\"fBits\":0,\"fObjectID\":\"\",\"fOption\":\"\",\"fKind\":3,\"fSnapshot\":{\"_typename\":\"TPad\",\"fUniqueID\":0,\"fBits\":9,\"fLineColor\":1,\"fLineStyle\":1,\"fLineWidth\":1,\"fFillColor\":0,\"fFillStyle\":1001,\"fLeftMargin\":0.15,\"fRightMargin\":0.1,\"fBottomMargin\":0.1,\"fTopMargin\":0.1,\"fXfile\":2,\"fYfile\":2,\"fAfile\":1,\"fXstat\":0.99,\"fYstat\":0.99,\"fAstat\":2,\"fFrameFillColor\":0,\"fFrameLineColor\":1,\"fFrameFillStyle\":1001,\"fFrameLineStyle\":1,\"fFrameLineWidth\":1,\"fFrameBorderSize\":1,\"fFrameBorderMode\":0,\"fX1\":-14.0000001589457,\"fY1\":-2.76715256144606,\"fX2\":12.6666667064031,\"fY2\":24.9043714036631,\"fXtoAbsPixelk\":173.802000650555,\"fXtoPixelk\":163.842000873178,\"fXtoPixel\":11.7029999295026,\"fYtoAbsPixelk\":341.223997929335,\"fYtoPixelk\":333.50399810189,\"fYtoPixel\":-13.3913838938668,\"fUtoAbsPixelk\":9.95999977737665,\"fUtoPixelk\":0,\"fUtoPixel\":312.080000445247,\"fVtoAbsPixelk\":378.280000172555,\"fVtoPixelk\":370.560000345111,\"fVtoPixel\":-370.560000345111,\"fAbsPixeltoXk\":-14.8510639748369,\"fPixeltoXk\":-14.0000001589457,\"fPixeltoX\":0.0854481761961782,\"fAbsPixeltoYk\":25.4808614728471,\"fPixeltoYk\":-2.76715256144606,\"fPixeltoY\":-0.074674881097091,\"fXlowNDC\":0.00999999977648258,\"fYlowNDC\":0.509999999776483,\"fXUpNDC\":0.323333333556851,\"fYUpNDC\":0.990000000223517,\"fWNDC\":0.313333333780368,\"fHNDC\":0.480000000447035,\"fAbsXlowNDC\":0.00999999977648258,\"fAbsYlowNDC\":0.509999999776483,\"fAbsWNDC\":0.313333333780368,\"fAbsHNDC\":0.480000000447035,\"fUxmin\":-10,\"fUymin\":0,\"fUxmax\":10,\"fUymax\":22.1372188422171,\"fTheta\":30,\"fPhi\":30,\"fAspectRatio\":0,\"fNumber\":1,\"fTickx\":0,\"fTicky\":0,\"fLogx\":0,\"fLogy\":0,\"fLogz\":0,\"fPadPaint\":0,\"fCrosshair\":0,\"fCrosshairPos\":0,\"fBorderSize\":2,\"fBorderMode\":0,\"fModified\":false,\"fGridx\":false,\"fGridy\":false,\"fAbsCoord\":false,\"fEditable\":true,\"fFixedAspectRatio\":false,\"fPrimitives\":{\"_typename\":\"TList\",\"name\":\"TList\",\"arr\":[],\"opt\":[]},\"fExecs\":{\"_typename\":\"TList\",\"name\":\"TList\",\"arr\":[],\"opt\":[]},\"fName\":\"rf102_dataimport_1\",\"fTitle\":\"rf102_dataimport_1\",\"fNumPaletteColor\":0,\"fNextPaletteColor\":0},\"fActive\":false,\"fReadOnly\":true,\"fWithoutPrimitives\":false,\"fHasExecs\":true,\"fPrimitives\":[{\"_typename\":\"TWebSnapshot\",\"fUniqueID\":0,\"fBits\":0,\"fObjectID\":\"\",\"fOption\":\"\",\"fKind\":1,\"fSnapshot\":{\"_typename\":\"TFrame\",\"fUniqueID\":0,\"fBits\":8,\"fLineColor\":1,\"fLineStyle\":1,\"fLineWidth\":1,\"fFillColor\":0,\"fFillStyle\":1001,\"fX1\":-10,\"fY1\":0,\"fX2\":10,\"fY2\":22.1372188422171,\"fBorderSize\":1,\"fBorderMode\":0}},{\"_typename\":\"TWebSnapshot\",\"fUniqueID\":0,\"fBits\":0,\"fObjectID\":\"\",\"fOption\":\"FUNC\",\"fKind\":1,\"fSnapshot\":{\"_typename\":\"TH1D\",\"fUniqueID\":0,\"fBits\":520,\"fName\":\"frame_x_7f03ecce3f70\",\"fTitle\":\"Imported TH1 with Poisson error bars\",\"fLineColor\":602,\"fLineStyle\":1,\"fLineWidth\":1,\"fFillColor\":0,\"fFillStyle\":1001,\"fMarkerColor\":1,\"fMarkerStyle\":1,\"fMarkerSize\":1,\"fNcells\":102,\"fXaxis\":{\"_typename\":\"TAxis\",\"fUniqueID\":0,\"fBits\":0,\"fName\":\"xaxis\",\"fTitle\":\"x\",\"fNdivisions\":510,\"fAxisColor\":1,\"fLabelColor\":1,\"fLabelFont\":42,\"fLabelOffset\":0.005,\"fLabelSize\":0.035,\"fTickLength\":0.03,\"fTitleOffset\":1,\"fTitleSize\":0.035,\"fTitleColor\":1,\"fTitleFont\":42,\"fNbins\":100,\"fXmin\":-10,\"fXmax\":10,\"fXbins\":[],\"fFirst\":0,\"fLast\":0,\"fBits2\":0,\"fTimeDisplay\":false,\"fTimeFormat\":\"\",\"fLabels\":null,\"fModLabs\":null},\"fYaxis\":{\"_typename\":\"TAxis\",\"fUniqueID\":0,\"fBits\":0,\"fName\":\"yaxis\",\"fTitle\":\"Events \\/ ( 0.8 )\",\"fNdivisions\":510,\"fAxisColor\":1,\"fLabelColor\":1,\"fLabelFont\":42,\"fLabelOffset\":0.005,\"fLabelSize\":0.035,\"fTickLength\":0.03,\"fTitleOffset\":1.4,\"fTitleSize\":0.035,\"fTitleColor\":1,\"fTitleFont\":42,\"fNbins\":1,\"fXmin\":0,\"fXmax\":1,\"fXbins\":[],\"fFirst\":0,\"fLast\":0,\"fBits2\":0,\"fTimeDisplay\":false,\"fTimeFormat\":\"\",\"fLabels\":null,\"fModLabs\":null},\"fZaxis\":{\"_typename\":\"TAxis\",\"fUniqueID\":0,\"fBits\":0,\"fName\":\"zaxis\",\"fTitle\":\"\",\"fNdivisions\":510,\"fAxisColor\":1,\"fLabelColor\":1,\"fLabelFont\":42,\"fLabelOffset\":0.005,\"fLabelSize\":0.035,\"fTickLength\":0.03,\"fTitleOffset\":1,\"fTitleSize\":0.035,\"fTitleColor\":1,\"fTitleFont\":42,\"fNbins\":1,\"fXmin\":0,\"fXmax\":1,\"fXbins\":[],\"fFirst\":0,\"fLast\":0,\"fBits2\":0,\"fTimeDisplay\":false,\"fTimeFormat\":\"\",\"fLabels\":null,\"fModLabs\":null},\"fBarOffset\":0,\"fBarWidth\":1000,\"fEntries\":1,\"fTsumw\":0,\"fTsumw2\":0,\"fTsumwx\":0,\"fTsumwx2\":0,\"fMaximum\":22.1372188422171,\"fMinimum\":-1111,\"fNormFactor\":0,\"fContour\":[],\"fSumw2\":[],\"fOption\":\"\",\"fFunctions\":{\"_typename\":\"TList\",\"name\":\"TList\",\"arr\":[],\"opt\":[]},\"fBufferSize\":0,\"fBuffer\":[],\"fBinStatErrOpt\":0,\"fStatOverflows\":2,\"fArray\":{\"$arr\":\"Float64\",\"len\":102,\"p\":1,\"v\":22.1372188422171}}},{\"_typename\":\"TWebSnapshot\",\"fUniqueID\":0,\"fBits\":0,\"fObjectID\":\"\",\"fOption\":\"p\",\"fKind\":1,\"fSnapshot\":{\"_typename\":\"RooHist\",\"fUniqueID\":0,\"fBits\":1032,\"fName\":\"h_dh\",\"fTitle\":\"Histogram of dh_plot__x\",\"fLineColor\":1,\"fLineStyle\":1,\"fLineWidth\":1,\"fFillColor\":0,\"fFillStyle\":1000,\"fMarkerColor\":1,\"fMarkerStyle\":8,\"fMarkerSize\":1,\"fNpoints\":25,\"fX\":{\"$arr\":\"Float64\",\"len\":25,\"v\":[-9.6,-8.8,-8,-7.2,-6.4,-5.6,-4.8,-4,-3.2,-2.4,-1.6,-0.799999999999999,1.4432899320127e-15,0.8,1.6,2.4,3.2,4,4.8,5.6,6.4,7.2,8,8.8,9.6]},\"fY\":{\"$arr\":\"Float64\",\"len\":25,\"p\":2,\"v\":[1,0,2,0,1,7,6,7,10,16,15,8,3,5,5,5,3,5,1]},\"fFunctions\":{\"_typename\":\"TList\",\"name\":\"TList\",\"arr\":[],\"opt\":[]},\"fHistogram\":{\"_typename\":\"TH1F\",\"fUniqueID\":0,\"fBits\":512,\"fName\":\"h_dh\",\"fTitle\":\"Histogram of dh_plot__x\",\"fLineColor\":602,\"fLineStyle\":1,\"fLineWidth\":1,\"fFillColor\":0,\"fFillStyle\":1001,\"fMarkerColor\":1,\"fMarkerStyle\":1,\"fMarkerSize\":1,\"fNcells\":102,\"fXaxis\":{\"_typename\":\"TAxis\",\"fUniqueID\":0,\"fBits\":0,\"fName\":\"xaxis\",\"fTitle\":\"\",\"fNdivisions\":510,\"fAxisColor\":1,\"fLabelColor\":1,\"fLabelFont\":42,\"fLabelOffset\":0.005,\"fLabelSize\":0.035,\"fTickLength\":0.03,\"fTitleOffset\":1,\"fTitleSize\":0.035,\"fTitleColor\":1,\"fTitleFont\":42,\"fNbins\":100,\"fXmin\":-12,\"fXmax\":12,\"fXbins\":[],\"fFirst\":0,\"fLast\":0,\"fBits2\":0,\"fTimeDisplay\":false,\"fTimeFormat\":\"\",\"fLabels\":null,\"fModLabs\":null},\"fYaxis\":{\"_typename\":\"TAxis\",\"fUniqueID\":0,\"fBits\":0,\"fName\":\"yaxis\",\"fTitle\":\"\",\"fNdivisions\":510,\"fAxisColor\":1,\"fLabelColor\":1,\"fLabelFont\":42,\"fLabelOffset\":0.005,\"fLabelSize\":0.035,\"fTickLength\":0.03,\"fTitleOffset\":0,\"fTitleSize\":0.035,\"fTitleColor\":1,\"fTitleFont\":42,\"fNbins\":1,\"fXmin\":0,\"fXmax\":23.1913721204179,\"fXbins\":[],\"fFirst\":0,\"fLast\":0,\"fBits2\":0,\"fTimeDisplay\":false,\"fTimeFormat\":\"\",\"fLabels\":null,\"fModLabs\":null},\"fZaxis\":{\"_typename\":\"TAxis\",\"fUniqueID\":0,\"fBits\":0,\"fName\":\"zaxis\",\"fTitle\":\"\",\"fNdivisions\":510,\"fAxisColor\":1,\"fLabelColor\":1,\"fLabelFont\":42,\"fLabelOffset\":0.005,\"fLabelSize\":0.035,\"fTickLength\":0.03,\"fTitleOffset\":1,\"fTitleSize\":0.035,\"fTitleColor\":1,\"fTitleFont\":42,\"fNbins\":1,\"fXmin\":0,\"fXmax\":1,\"fXbins\":[],\"fFirst\":0,\"fLast\":0,\"fBits2\":0,\"fTimeDisplay\":false,\"fTimeFormat\":\"\",\"fLabels\":null,\"fModLabs\":null},\"fBarOffset\":0,\"fBarWidth\":1000,\"fEntries\":0,\"fTsumw\":0,\"fTsumw2\":0,\"fTsumwx\":0,\"fTsumwx2\":0,\"fMaximum\":23.1913721204179,\"fMinimum\":0,\"fNormFactor\":0,\"fContour\":[],\"fSumw2\":[],\"fOption\":\"\",\"fFunctions\":{\"_typename\":\"TList\",\"name\":\"TList\",\"arr\":[],\"opt\":[]},\"fBufferSize\":0,\"fBuffer\":[],\"fBinStatErrOpt\":0,\"fStatOverflows\":2,\"fArray\":{\"$arr\":\"Float32\",\"len\":102}},\"fMinimum\":-1111,\"fMaximum\":-1111,\"fOption\":\"\",\"fEXlow\":{\"$arr\":\"Float64\",\"len\":25,\"v\":0.4,\"n\":25},\"fEXhigh\":{\"$arr\":\"Float64\",\"len\":25,\"v\":0.4,\"n\":25},\"fEYlow\":{\"$arr\":\"Float64\",\"len\":25,\"p\":2,\"v\":[0.82724622097655,0,1.29181456018103,0,0.82724622097655,2.58147045606626,2.37993137929577,2.58147045606626,3.10869443936164,3.95780102940381,3.82938009857506,2.76838605646272,1.63270468610957,2.15969114440678,2.15969114440678,2.15969114440678,1.63270468610957,2.15969114440678,0.82724622097655]},\"fEYhigh\":{\"$arr\":\"Float64\",\"len\":25,\"v\":[1.14787446444932,1.14787446444932,2.29952655911586,1.14787446444932,2.63785962345524,1.14787446444932,2.29952655911586,3.77028072043409,3.58364154598457,3.77028072043409,4.26694976100939,5.08306556401624,4.95873843272062,3.94514151986907,2.9181858328834,3.38247265214689,3.38247265214689,3.38247265214689,2.9181858328834,3.38247265214689,2.29952655911586,1.14787446444932,1.14787446444932,1.14787446444932,1.14787446444932]},\"_yAxisLabel\":\"Events \\/ ( 0.8 )\",\"_ymin\":0,\"_ymax\":21.0830655640162,\"_normValue\":0,\"_nominalBinWidth\":0.8,\"_nSigma\":1,\"_entries\":100,\"_rawEntries\":-1,\"_originalWeights\":{\"$arr\":\"Float64\",\"len\":25,\"p\":2,\"v\":[1,0,2,0,1,7,6,7,10,16,15,8,3,5,5,5,3,5,1]}}},{\"_typename\":\"TWebSnapshot\",\"fUniqueID\":0,\"fBits\":0,\"fObjectID\":\"\",\"fOption\":\"l\",\"fKind\":1,\"fSnapshot\":{\"_typename\":\"RooCurve\",\"fUniqueID\":0,\"fBits\":525320,\"fName\":\"gauss_Norm[x]\",\"fTitle\":\"Projection of gauss\",\"fLineColor\":600,\"fLineStyle\":1,\"fLineWidth\":3,\"fFillColor\":0,\"fFillStyle\":1000,\"fMarkerColor\":1,\"fMarkerStyle\":1,\"fMarkerSize\":1,\"fNpoints\":106,\"fX\":{\"$arr\":\"Float64\",\"len\":106,\"v\":[-10.2002,-10.2,-10,-9.8,-9.6,-9.4,-9.2,-9,-8.8,-8.6,-8.4,-8.2,-8,-7.8,-7.6,-7.4,-7.2,-7,-6.8,-6.6,-6.4,-6.2,-6,-5.8,-5.6,-5.4,-5.2,-5,-4.8,-4.6,-4.4,-4.2,-4,-3.8,-3.6,-3.4,-3.2,-3,-2.8,-2.6,-2.4,-2.2,-2,-1.8,-1.6,-1.4,-1.2,-1,-0.799999999999999,-0.6,-0.399999999999999,-0.199999999999999,0,0.200000000000001,0.4,0.600000000000001,0.800000000000001,1,1.2,1.4,1.6,1.8,2,2.2,2.4,2.6,2.8,3,3.2,3.4,3.6,3.8,4,4.2,4.4,4.6,4.8,5,5.2,5.4,5.6,5.8,6,6.2,6.4,6.6,6.8,7,7.2,7.4,7.6,7.8,8,8.2,8.4,8.6,8.8,9,9.2,9.4,9.6,9.8,10,10,10.2,10.2002]},\"fY\":{\"$arr\":\"Float64\",\"len\":106,\"p\":1,\"v\":[0.0375927078818407,0.0375927078818407,0.0471608500044148,0.0588909879988937,0.0731990187441801,0.0905630166588589,0.111528459646363,0.136712973748394,0.166810336513204,0.202593444916549,0.244915923651446,0.29471202605154,0.352994465347904,0.4208498109916,0.499431095985539,0.589947308960426,0.693649491152141,0.811813225009756,0.945717388681379,1.0966191589856,1.26572537351573,1.45416050789422,1.66293168328719,1.89289128722287,2.14469796143725,2.4187768767302,2.71528036864337,3.03405014062273,3.37458234450885,3.7359969133117,4.11701254066896,4.51592866884453,4.93061575807353,5.35851496220814,5.79664812926956,6.24163878382238,6.68974443718196,7.13690022038855,7.57877345538582,8.01082838599204,8.42839989787422,8.82677468271802,9.2012779632676,9.54736360940916,9.86070525598782,10.1372858932001,10.3734833496665,10.5661491323543,10.7126782278586,10.8110677031929,10.8599622637809,10.858685320217,10.8072545683567,10.7063815812314,10.5574554259422,10.3625108328043,10.1241819363407,9.84564305813114,9.53053839196113,9.18290276713922,8.80707589489509,8.40761263825332,7.98919188495545,7.55652654756724,7.11427707075803,6.66697060252327,6.21892769660029,5.77419807259889,5.33650658500326,4.9092101593479,4.49526606038068,4.09721147865177,3.71715407266922,3.35677279516233,3.01732807299304,2.69968020682698,2.40431471182624,2.13137323452162,1.8806886512466,1.65182297544227,1.44410676838202,1.25667885275879,1.08852526270509,0.938516518478201,0.80544248071478,0.6880442098635,0.585042424026293,0.495162306941331,0.417154562406968,0.349812738531896,0.291986952517137,0.242594233123846,0.200625763503102,0.165151352498252,0.135321489426314,0.110367347775825,0.0895990996389556,0.0724028876115982,0.0582367769557969,0.0466259805325444,0.037157614690933,0.0294752079939608,0.0294752079939608,0.0294752079939608]},\"fFunctions\":{\"_typename\":\"TList\",\"name\":\"TList\",\"arr\":[],\"opt\":[]},\"fHistogram\":{\"_typename\":\"TH1F\",\"fUniqueID\":0,\"fBits\":512,\"fName\":\"gauss_Norm[x]\",\"fTitle\":\"Projection of gauss\",\"fLineColor\":602,\"fLineStyle\":1,\"fLineWidth\":1,\"fFillColor\":0,\"fFillStyle\":1001,\"fMarkerColor\":1,\"fMarkerStyle\":1,\"fMarkerSize\":1,\"fNcells\":108,\"fXaxis\":{\"_typename\":\"TAxis\",\"fUniqueID\":0,\"fBits\":0,\"fName\":\"xaxis\",\"fTitle\":\"\",\"fNdivisions\":510,\"fAxisColor\":1,\"fLabelColor\":1,\"fLabelFont\":42,\"fLabelOffset\":0.005,\"fLabelSize\":0.035,\"fTickLength\":0.03,\"fTitleOffset\":1,\"fTitleSize\":0.035,\"fTitleColor\":1,\"fTitleFont\":42,\"fNbins\":106,\"fXmin\":-12.24024,\"fXmax\":12.24024,\"fXbins\":[],\"fFirst\":0,\"fLast\":0,\"fBits2\":0,\"fTimeDisplay\":false,\"fTimeFormat\":\"\",\"fLabels\":null,\"fModLabs\":null},\"fYaxis\":{\"_typename\":\"TAxis\",\"fUniqueID\":0,\"fBits\":0,\"fName\":\"yaxis\",\"fTitle\":\"\",\"fNdivisions\":510,\"fAxisColor\":1,\"fLabelColor\":1,\"fLabelFont\":42,\"fLabelOffset\":0.005,\"fLabelSize\":0.035,\"fTickLength\":0.03,\"fTitleOffset\":0,\"fTitleSize\":0.035,\"fTitleColor\":1,\"fTitleFont\":42,\"fNbins\":1,\"fXmin\":0,\"fXmax\":11.9459584901589,\"fXbins\":[],\"fFirst\":0,\"fLast\":0,\"fBits2\":0,\"fTimeDisplay\":false,\"fTimeFormat\":\"\",\"fLabels\":null,\"fModLabs\":null},\"fZaxis\":{\"_typename\":\"TAxis\",\"fUniqueID\":0,\"fBits\":0,\"fName\":\"zaxis\",\"fTitle\":\"\",\"fNdivisions\":510,\"fAxisColor\":1,\"fLabelColor\":1,\"fLabelFont\":42,\"fLabelOffset\":0.005,\"fLabelSize\":0.035,\"fTickLength\":0.03,\"fTitleOffset\":1,\"fTitleSize\":0.035,\"fTitleColor\":1,\"fTitleFont\":42,\"fNbins\":1,\"fXmin\":0,\"fXmax\":1,\"fXbins\":[],\"fFirst\":0,\"fLast\":0,\"fBits2\":0,\"fTimeDisplay\":false,\"fTimeFormat\":\"\",\"fLabels\":null,\"fModLabs\":null},\"fBarOffset\":0,\"fBarWidth\":1000,\"fEntries\":0,\"fTsumw\":0,\"fTsumw2\":0,\"fTsumwx\":0,\"fTsumwx2\":0,\"fMaximum\":11.9459584901589,\"fMinimum\":0,\"fNormFactor\":0,\"fContour\":[],\"fSumw2\":[],\"fOption\":\"\",\"fFunctions\":{\"_typename\":\"TList\",\"name\":\"TList\",\"arr\":[],\"opt\":[]},\"fBufferSize\":0,\"fBuffer\":[],\"fBinStatErrOpt\":0,\"fStatOverflows\":2,\"fArray\":{\"$arr\":\"Float32\",\"len\":108}},\"fMinimum\":-1111,\"fMaximum\":-1111,\"fOption\":\"\",\"_yAxisLabel\":\"Projection of gauss\",\"_ymin\":0,\"_ymax\":10.8599622637809,\"_normValue\":0}},{\"_typename\":\"TWebSnapshot\",\"fUniqueID\":0,\"fBits\":0,\"fObjectID\":\"\",\"fOption\":\"AXISSAME\",\"fKind\":1,\"fSnapshot\":{\"$ref\":19}},{\"_typename\":\"TWebSnapshot\",\"fUniqueID\":0,\"fBits\":0,\"fObjectID\":\"\",\"fOption\":\"blNDC\",\"fKind\":1,\"fSnapshot\":{\"_typename\":\"TPaveText\",\"fUniqueID\":0,\"fBits\":9,\"fLineColor\":1,\"fLineStyle\":1,\"fLineWidth\":1,\"fFillColor\":0,\"fFillStyle\":0,\"fX1\":-10.0000001291434,\"fY1\":23.2440800750261,\"fX2\":8.66666667660077,\"fY2\":24.7660139157857,\"fX1NDC\":0.15,\"fY1NDC\":0.940000003948808,\"fX2NDC\":0.85,\"fY2NDC\":0.995000004768372,\"fBorderSize\":0,\"fInit\":1,\"fShadowColor\":1,\"fCornerRadius\":0,\"fOption\":\"blNDC\",\"fName\":\"title\",\"fTextAngle\":0,\"fTextSize\":0,\"fTextAlign\":22,\"fTextColor\":1,\"fTextFont\":42,\"fLabel\":\"\",\"fLongest\":36,\"fMargin\":0.05,\"fLines\":{\"_typename\":\"TList\",\"name\":\"TList\",\"arr\":[{\"_typename\":\"TLatex\",\"fUniqueID\":0,\"fBits\":0,\"fName\":\"\",\"fTitle\":\"Imported TH1 with Poisson error bars\",\"fTextAngle\":0,\"fTextSize\":0,\"fTextAlign\":0,\"fTextColor\":0,\"fTextFont\":0,\"fX\":0,\"fY\":0,\"fLineColor\":1,\"fLineStyle\":1,\"fLineWidth\":2,\"fLimitFactorSize\":3,\"fOriginSize\":0.0467500016093254}],\"opt\":[\"\"]}}}]},{\"_typename\":\"TPadWebSnapshot\",\"fUniqueID\":0,\"fBits\":0,\"fObjectID\":\"\",\"fOption\":\"\",\"fKind\":3,\"fSnapshot\":{\"_typename\":\"TPad\",\"fUniqueID\":0,\"fBits\":9,\"fLineColor\":1,\"fLineStyle\":1,\"fLineWidth\":1,\"fFillColor\":0,\"fFillStyle\":1001,\"fLeftMargin\":0.15,\"fRightMargin\":0.1,\"fBottomMargin\":0.1,\"fTopMargin\":0.1,\"fXfile\":2,\"fYfile\":2,\"fAfile\":1,\"fXstat\":0.99,\"fYstat\":0.99,\"fAstat\":2,\"fFrameFillColor\":0,\"fFrameLineColor\":1,\"fFrameFillStyle\":1001,\"fFrameLineStyle\":1,\"fFrameLineWidth\":1,\"fFrameBorderSize\":1,\"fFrameBorderMode\":0,\"fX1\":-14.0000001589457,\"fY1\":-2.62500019557775,\"fX2\":12.6666667064031,\"fY2\":23.6250001955778,\"fXtoAbsPixelk\":505.802000650555,\"fXtoPixelk\":163.842000873178,\"fXtoPixel\":11.7029999295026,\"fYtoAbsPixelk\":341.223997929335,\"fYtoPixelk\":333.50399810189,\"fYtoPixel\":-14.1165712313652,\"fUtoAbsPixelk\":341.959999777377,\"fUtoPixelk\":0,\"fUtoPixel\":312.080000445247,\"fVtoAbsPixelk\":378.280000172555,\"fVtoPixelk\":370.560000345111,\"fVtoPixel\":-370.560000345111,\"fAbsPixeltoXk\":-43.2198584719681,\"fPixeltoXk\":-14.0000001589457,\"fPixeltoX\":0.0854481761961782,\"fAbsPixeltoYk\":24.1718751909939,\"fPixeltoYk\":-2.62500019557775,\"fPixeltoY\":-0.0708387315595539,\"fXlowNDC\":0.343333333109816,\"fYlowNDC\":0.509999999776483,\"fXUpNDC\":0.656666666890184,\"fYUpNDC\":0.990000000223517,\"fWNDC\":0.313333333780368,\"fHNDC\":0.480000000447035,\"fAbsXlowNDC\":0.343333333109816,\"fAbsYlowNDC\":0.509999999776483,\"fAbsWNDC\":0.313333333780368,\"fAbsHNDC\":0.480000000447035,\"fUxmin\":-10,\"fUymin\":0,\"fUxmax\":10,\"fUymax\":21,\"fTheta\":30,\"fPhi\":30,\"fAspectRatio\":0,\"fNumber\":2,\"fTickx\":0,\"fTicky\":0,\"fLogx\":0,\"fLogy\":0,\"fLogz\":0,\"fPadPaint\":0,\"fCrosshair\":0,\"fCrosshairPos\":0,\"fBorderSize\":2,\"fBorderMode\":0,\"fModified\":false,\"fGridx\":false,\"fGridy\":false,\"fAbsCoord\":false,\"fEditable\":true,\"fFixedAspectRatio\":false,\"fPrimitives\":{\"_typename\":\"TList\",\"name\":\"TList\",\"arr\":[],\"opt\":[]},\"fExecs\":{\"_typename\":\"TList\",\"name\":\"TList\",\"arr\":[],\"opt\":[]},\"fName\":\"rf102_dataimport_2\",\"fTitle\":\"rf102_dataimport_2\",\"fNumPaletteColor\":0,\"fNextPaletteColor\":0},\"fActive\":false,\"fReadOnly\":true,\"fWithoutPrimitives\":false,\"fHasExecs\":true,\"fPrimitives\":[{\"_typename\":\"TWebSnapshot\",\"fUniqueID\":0,\"fBits\":0,\"fObjectID\":\"\",\"fOption\":\"\",\"fKind\":1,\"fSnapshot\":{\"_typename\":\"TFrame\",\"fUniqueID\":0,\"fBits\":8,\"fLineColor\":1,\"fLineStyle\":1,\"fLineWidth\":1,\"fFillColor\":0,\"fFillStyle\":1001,\"fX1\":-10,\"fY1\":0,\"fX2\":10,\"fY2\":21,\"fBorderSize\":1,\"fBorderMode\":0}},{\"_typename\":\"TWebSnapshot\",\"fUniqueID\":0,\"fBits\":0,\"fObjectID\":\"\",\"fOption\":\"FUNC\",\"fKind\":1,\"fSnapshot\":{\"_typename\":\"TH1D\",\"fUniqueID\":0,\"fBits\":520,\"fName\":\"frame_x_7f03ed154650\",\"fTitle\":\"Imported TH1 with internal errors\",\"fLineColor\":602,\"fLineStyle\":1,\"fLineWidth\":1,\"fFillColor\":0,\"fFillStyle\":1001,\"fMarkerColor\":1,\"fMarkerStyle\":1,\"fMarkerSize\":1,\"fNcells\":102,\"fXaxis\":{\"_typename\":\"TAxis\",\"fUniqueID\":0,\"fBits\":0,\"fName\":\"xaxis\",\"fTitle\":\"x\",\"fNdivisions\":510,\"fAxisColor\":1,\"fLabelColor\":1,\"fLabelFont\":42,\"fLabelOffset\":0.005,\"fLabelSize\":0.035,\"fTickLength\":0.03,\"fTitleOffset\":1,\"fTitleSize\":0.035,\"fTitleColor\":1,\"fTitleFont\":42,\"fNbins\":100,\"fXmin\":-10,\"fXmax\":10,\"fXbins\":[],\"fFirst\":0,\"fLast\":0,\"fBits2\":0,\"fTimeDisplay\":false,\"fTimeFormat\":\"\",\"fLabels\":null,\"fModLabs\":null},\"fYaxis\":{\"_typename\":\"TAxis\",\"fUniqueID\":0,\"fBits\":0,\"fName\":\"yaxis\",\"fTitle\":\"Events \\/ ( 0.8 )\",\"fNdivisions\":510,\"fAxisColor\":1,\"fLabelColor\":1,\"fLabelFont\":42,\"fLabelOffset\":0.005,\"fLabelSize\":0.035,\"fTickLength\":0.03,\"fTitleOffset\":1.4,\"fTitleSize\":0.035,\"fTitleColor\":1,\"fTitleFont\":42,\"fNbins\":1,\"fXmin\":0,\"fXmax\":1,\"fXbins\":[],\"fFirst\":0,\"fLast\":0,\"fBits2\":0,\"fTimeDisplay\":false,\"fTimeFormat\":\"\",\"fLabels\":null,\"fModLabs\":null},\"fZaxis\":{\"_typename\":\"TAxis\",\"fUniqueID\":0,\"fBits\":0,\"fName\":\"zaxis\",\"fTitle\":\"\",\"fNdivisions\":510,\"fAxisColor\":1,\"fLabelColor\":1,\"fLabelFont\":42,\"fLabelOffset\":0.005,\"fLabelSize\":0.035,\"fTickLength\":0.03,\"fTitleOffset\":1,\"fTitleSize\":0.035,\"fTitleColor\":1,\"fTitleFont\":42,\"fNbins\":1,\"fXmin\":0,\"fXmax\":1,\"fXbins\":[],\"fFirst\":0,\"fLast\":0,\"fBits2\":0,\"fTimeDisplay\":false,\"fTimeFormat\":\"\",\"fLabels\":null,\"fModLabs\":null},\"fBarOffset\":0,\"fBarWidth\":1000,\"fEntries\":1,\"fTsumw\":0,\"fTsumw2\":0,\"fTsumwx\":0,\"fTsumwx2\":0,\"fMaximum\":21,\"fMinimum\":-1111,\"fNormFactor\":0,\"fContour\":[],\"fSumw2\":[],\"fOption\":\"\",\"fFunctions\":{\"_typename\":\"TList\",\"name\":\"TList\",\"arr\":[],\"opt\":[]},\"fBufferSize\":0,\"fBuffer\":[],\"fBinStatErrOpt\":0,\"fStatOverflows\":2,\"fArray\":{\"$arr\":\"Float64\",\"len\":102,\"p\":1,\"v\":21}}},{\"_typename\":\"TWebSnapshot\",\"fUniqueID\":0,\"fBits\":0,\"fObjectID\":\"\",\"fOption\":\"p\",\"fKind\":1,\"fSnapshot\":{\"_typename\":\"RooHist\",\"fUniqueID\":0,\"fBits\":1032,\"fName\":\"h_dh\",\"fTitle\":\"Histogram of dh_plot__x\",\"fLineColor\":1,\"fLineStyle\":1,\"fLineWidth\":1,\"fFillColor\":0,\"fFillStyle\":1000,\"fMarkerColor\":1,\"fMarkerStyle\":8,\"fMarkerSize\":1,\"fNpoints\":25,\"fX\":{\"$arr\":\"Float64\",\"len\":25,\"v\":[-9.6,-8.8,-8,-7.2,-6.4,-5.6,-4.8,-4,-3.2,-2.4,-1.6,-0.799999999999999,1.4432899320127e-15,0.8,1.6,2.4,3.2,4,4.8,5.6,6.4,7.2,8,8.8,9.6]},\"fY\":{\"$arr\":\"Float64\",\"len\":25,\"p\":2,\"v\":[1,0,2,0,1,7,6,7,10,16,15,8,3,5,5,5,3,5,1]},\"fFunctions\":{\"_typename\":\"TList\",\"name\":\"TList\",\"arr\":[],\"opt\":[]},\"fHistogram\":{\"_typename\":\"TH1F\",\"fUniqueID\":0,\"fBits\":512,\"fName\":\"h_dh\",\"fTitle\":\"Histogram of dh_plot__x\",\"fLineColor\":602,\"fLineStyle\":1,\"fLineWidth\":1,\"fFillColor\":0,\"fFillStyle\":1001,\"fMarkerColor\":1,\"fMarkerStyle\":1,\"fMarkerSize\":1,\"fNcells\":102,\"fXaxis\":{\"_typename\":\"TAxis\",\"fUniqueID\":0,\"fBits\":0,\"fName\":\"xaxis\",\"fTitle\":\"\",\"fNdivisions\":510,\"fAxisColor\":1,\"fLabelColor\":1,\"fLabelFont\":42,\"fLabelOffset\":0.005,\"fLabelSize\":0.035,\"fTickLength\":0.03,\"fTitleOffset\":1,\"fTitleSize\":0.035,\"fTitleColor\":1,\"fTitleFont\":42,\"fNbins\":100,\"fXmin\":-12,\"fXmax\":12,\"fXbins\":[],\"fFirst\":0,\"fLast\":0,\"fBits2\":0,\"fTimeDisplay\":false,\"fTimeFormat\":\"\",\"fLabels\":null,\"fModLabs\":null},\"fYaxis\":{\"_typename\":\"TAxis\",\"fUniqueID\":0,\"fBits\":0,\"fName\":\"yaxis\",\"fTitle\":\"\",\"fNdivisions\":510,\"fAxisColor\":1,\"fLabelColor\":1,\"fLabelFont\":42,\"fLabelOffset\":0.005,\"fLabelSize\":0.035,\"fTickLength\":0.03,\"fTitleOffset\":0,\"fTitleSize\":0.035,\"fTitleColor\":1,\"fTitleFont\":42,\"fNbins\":1,\"fXmin\":0,\"fXmax\":22,\"fXbins\":[],\"fFirst\":0,\"fLast\":0,\"fBits2\":0,\"fTimeDisplay\":false,\"fTimeFormat\":\"\",\"fLabels\":null,\"fModLabs\":null},\"fZaxis\":{\"_typename\":\"TAxis\",\"fUniqueID\":0,\"fBits\":0,\"fName\":\"zaxis\",\"fTitle\":\"\",\"fNdivisions\":510,\"fAxisColor\":1,\"fLabelColor\":1,\"fLabelFont\":42,\"fLabelOffset\":0.005,\"fLabelSize\":0.035,\"fTickLength\":0.03,\"fTitleOffset\":1,\"fTitleSize\":0.035,\"fTitleColor\":1,\"fTitleFont\":42,\"fNbins\":1,\"fXmin\":0,\"fXmax\":1,\"fXbins\":[],\"fFirst\":0,\"fLast\":0,\"fBits2\":0,\"fTimeDisplay\":false,\"fTimeFormat\":\"\",\"fLabels\":null,\"fModLabs\":null},\"fBarOffset\":0,\"fBarWidth\":1000,\"fEntries\":0,\"fTsumw\":0,\"fTsumw2\":0,\"fTsumwx\":0,\"fTsumwx2\":0,\"fMaximum\":22,\"fMinimum\":0,\"fNormFactor\":0,\"fContour\":[],\"fSumw2\":[],\"fOption\":\"\",\"fFunctions\":{\"_typename\":\"TList\",\"name\":\"TList\",\"arr\":[],\"opt\":[]},\"fBufferSize\":0,\"fBuffer\":[],\"fBinStatErrOpt\":0,\"fStatOverflows\":2,\"fArray\":{\"$arr\":\"Float32\",\"len\":102}},\"fMinimum\":-1111,\"fMaximum\":-1111,\"fOption\":\"\",\"fEXlow\":{\"$arr\":\"Float64\",\"len\":25,\"v\":0.4,\"n\":25},\"fEXhigh\":{\"$arr\":\"Float64\",\"len\":25,\"v\":0.4,\"n\":25},\"fEYlow\":{\"$arr\":\"Float64\",\"len\":25,\"p\":2,\"v\":[1,0,1.4142135623731,0,1,2.64575131106459,2.44948974278318,2.64575131106459,3.16227766016838,4,3.87298334620742,2.82842712474619,1.73205080756888,2.23606797749979,2.23606797749979,2.23606797749979,1.73205080756888,2.23606797749979,1]},\"fEYhigh\":{\"$arr\":\"Float64\",\"len\":25,\"p\":2,\"v\":[1,0,1.4142135623731,0,1,2.64575131106459,2.44948974278318,2.64575131106459,3.16227766016838,4,3.87298334620742,2.82842712474619,1.73205080756888,2.23606797749979,2.23606797749979,2.23606797749979,1.73205080756888,2.23606797749979,1]},\"_yAxisLabel\":\"Events \\/ ( 0.8 )\",\"_ymin\":0,\"_ymax\":20,\"_normValue\":0,\"_nominalBinWidth\":0.8,\"_nSigma\":1,\"_entries\":100,\"_rawEntries\":-1,\"_originalWeights\":{\"$arr\":\"Float64\",\"len\":25,\"p\":2,\"v\":[1,0,2,0,1,7,6,7,10,16,15,8,3,5,5,5,3,5,1]}}},{\"_typename\":\"TWebSnapshot\",\"fUniqueID\":0,\"fBits\":0,\"fObjectID\":\"\",\"fOption\":\"l\",\"fKind\":1,\"fSnapshot\":{\"_typename\":\"RooCurve\",\"fUniqueID\":0,\"fBits\":525320,\"fName\":\"gauss_Norm[x]\",\"fTitle\":\"Projection of gauss\",\"fLineColor\":600,\"fLineStyle\":1,\"fLineWidth\":3,\"fFillColor\":0,\"fFillStyle\":1000,\"fMarkerColor\":1,\"fMarkerStyle\":1,\"fMarkerSize\":1,\"fNpoints\":106,\"fX\":{\"$arr\":\"Float64\",\"len\":106,\"v\":[-10.2002,-10.2,-10,-9.8,-9.6,-9.4,-9.2,-9,-8.8,-8.6,-8.4,-8.2,-8,-7.8,-7.6,-7.4,-7.2,-7,-6.8,-6.6,-6.4,-6.2,-6,-5.8,-5.6,-5.4,-5.2,-5,-4.8,-4.6,-4.4,-4.2,-4,-3.8,-3.6,-3.4,-3.2,-3,-2.8,-2.6,-2.4,-2.2,-2,-1.8,-1.6,-1.4,-1.2,-1,-0.799999999999999,-0.6,-0.399999999999999,-0.199999999999999,0,0.200000000000001,0.4,0.600000000000001,0.800000000000001,1,1.2,1.4,1.6,1.8,2,2.2,2.4,2.6,2.8,3,3.2,3.4,3.6,3.8,4,4.2,4.4,4.6,4.8,5,5.2,5.4,5.6,5.8,6,6.2,6.4,6.6,6.8,7,7.2,7.4,7.6,7.8,8,8.2,8.4,8.6,8.8,9,9.2,9.4,9.6,9.8,10,10,10.2,10.2002]},\"fY\":{\"$arr\":\"Float64\",\"len\":106,\"p\":1,\"v\":[0.0375927078818407,0.0375927078818407,0.0471608500044148,0.0588909879988937,0.0731990187441801,0.0905630166588589,0.111528459646363,0.136712973748394,0.166810336513204,0.202593444916549,0.244915923651446,0.29471202605154,0.352994465347904,0.4208498109916,0.499431095985539,0.589947308960426,0.693649491152141,0.811813225009756,0.945717388681379,1.0966191589856,1.26572537351573,1.45416050789422,1.66293168328719,1.89289128722287,2.14469796143725,2.4187768767302,2.71528036864337,3.03405014062273,3.37458234450885,3.7359969133117,4.11701254066896,4.51592866884453,4.93061575807353,5.35851496220814,5.79664812926956,6.24163878382238,6.68974443718196,7.13690022038855,7.57877345538582,8.01082838599204,8.42839989787422,8.82677468271802,9.2012779632676,9.54736360940916,9.86070525598782,10.1372858932001,10.3734833496665,10.5661491323543,10.7126782278586,10.8110677031929,10.8599622637809,10.858685320217,10.8072545683567,10.7063815812314,10.5574554259422,10.3625108328043,10.1241819363407,9.84564305813114,9.53053839196113,9.18290276713922,8.80707589489509,8.40761263825332,7.98919188495545,7.55652654756724,7.11427707075803,6.66697060252327,6.21892769660029,5.77419807259889,5.33650658500326,4.9092101593479,4.49526606038068,4.09721147865177,3.71715407266922,3.35677279516233,3.01732807299304,2.69968020682698,2.40431471182624,2.13137323452162,1.8806886512466,1.65182297544227,1.44410676838202,1.25667885275879,1.08852526270509,0.938516518478201,0.80544248071478,0.6880442098635,0.585042424026293,0.495162306941331,0.417154562406968,0.349812738531896,0.291986952517137,0.242594233123846,0.200625763503102,0.165151352498252,0.135321489426314,0.110367347775825,0.0895990996389556,0.0724028876115982,0.0582367769557969,0.0466259805325444,0.037157614690933,0.0294752079939608,0.0294752079939608,0.0294752079939608]},\"fFunctions\":{\"_typename\":\"TList\",\"name\":\"TList\",\"arr\":[],\"opt\":[]},\"fHistogram\":{\"_typename\":\"TH1F\",\"fUniqueID\":0,\"fBits\":512,\"fName\":\"gauss_Norm[x]\",\"fTitle\":\"Projection of gauss\",\"fLineColor\":602,\"fLineStyle\":1,\"fLineWidth\":1,\"fFillColor\":0,\"fFillStyle\":1001,\"fMarkerColor\":1,\"fMarkerStyle\":1,\"fMarkerSize\":1,\"fNcells\":108,\"fXaxis\":{\"_typename\":\"TAxis\",\"fUniqueID\":0,\"fBits\":0,\"fName\":\"xaxis\",\"fTitle\":\"\",\"fNdivisions\":510,\"fAxisColor\":1,\"fLabelColor\":1,\"fLabelFont\":42,\"fLabelOffset\":0.005,\"fLabelSize\":0.035,\"fTickLength\":0.03,\"fTitleOffset\":1,\"fTitleSize\":0.035,\"fTitleColor\":1,\"fTitleFont\":42,\"fNbins\":106,\"fXmin\":-12.24024,\"fXmax\":12.24024,\"fXbins\":[],\"fFirst\":0,\"fLast\":0,\"fBits2\":0,\"fTimeDisplay\":false,\"fTimeFormat\":\"\",\"fLabels\":null,\"fModLabs\":null},\"fYaxis\":{\"_typename\":\"TAxis\",\"fUniqueID\":0,\"fBits\":0,\"fName\":\"yaxis\",\"fTitle\":\"\",\"fNdivisions\":510,\"fAxisColor\":1,\"fLabelColor\":1,\"fLabelFont\":42,\"fLabelOffset\":0.005,\"fLabelSize\":0.035,\"fTickLength\":0.03,\"fTitleOffset\":0,\"fTitleSize\":0.035,\"fTitleColor\":1,\"fTitleFont\":42,\"fNbins\":1,\"fXmin\":0,\"fXmax\":11.9459584901589,\"fXbins\":[],\"fFirst\":0,\"fLast\":0,\"fBits2\":0,\"fTimeDisplay\":false,\"fTimeFormat\":\"\",\"fLabels\":null,\"fModLabs\":null},\"fZaxis\":{\"_typename\":\"TAxis\",\"fUniqueID\":0,\"fBits\":0,\"fName\":\"zaxis\",\"fTitle\":\"\",\"fNdivisions\":510,\"fAxisColor\":1,\"fLabelColor\":1,\"fLabelFont\":42,\"fLabelOffset\":0.005,\"fLabelSize\":0.035,\"fTickLength\":0.03,\"fTitleOffset\":1,\"fTitleSize\":0.035,\"fTitleColor\":1,\"fTitleFont\":42,\"fNbins\":1,\"fXmin\":0,\"fXmax\":1,\"fXbins\":[],\"fFirst\":0,\"fLast\":0,\"fBits2\":0,\"fTimeDisplay\":false,\"fTimeFormat\":\"\",\"fLabels\":null,\"fModLabs\":null},\"fBarOffset\":0,\"fBarWidth\":1000,\"fEntries\":0,\"fTsumw\":0,\"fTsumw2\":0,\"fTsumwx\":0,\"fTsumwx2\":0,\"fMaximum\":11.9459584901589,\"fMinimum\":0,\"fNormFactor\":0,\"fContour\":[],\"fSumw2\":[],\"fOption\":\"\",\"fFunctions\":{\"_typename\":\"TList\",\"name\":\"TList\",\"arr\":[],\"opt\":[]},\"fBufferSize\":0,\"fBuffer\":[],\"fBinStatErrOpt\":0,\"fStatOverflows\":2,\"fArray\":{\"$arr\":\"Float32\",\"len\":108}},\"fMinimum\":-1111,\"fMaximum\":-1111,\"fOption\":\"\",\"_yAxisLabel\":\"Projection of gauss\",\"_ymin\":0,\"_ymax\":10.8599622637809,\"_normValue\":0}},{\"_typename\":\"TWebSnapshot\",\"fUniqueID\":0,\"fBits\":0,\"fObjectID\":\"\",\"fOption\":\"AXISSAME\",\"fKind\":1,\"fSnapshot\":{\"$ref\":52}},{\"_typename\":\"TWebSnapshot\",\"fUniqueID\":0,\"fBits\":0,\"fObjectID\":\"\",\"fOption\":\"blNDC\",\"fKind\":1,\"fSnapshot\":{\"_typename\":\"TPaveText\",\"fUniqueID\":0,\"fBits\":9,\"fLineColor\":1,\"fLineStyle\":1,\"fLineWidth\":1,\"fFillColor\":0,\"fFillStyle\":0,\"fX1\":-10.0000001291434,\"fY1\":22.0500002757646,\"fX2\":8.66666667660077,\"fY2\":23.4937503187917,\"fX1NDC\":0.15,\"fY1NDC\":0.940000003948808,\"fX2NDC\":0.85,\"fY2NDC\":0.995000004768372,\"fBorderSize\":0,\"fInit\":1,\"fShadowColor\":1,\"fCornerRadius\":0,\"fOption\":\"blNDC\",\"fName\":\"title\",\"fTextAngle\":0,\"fTextSize\":0,\"fTextAlign\":22,\"fTextColor\":1,\"fTextFont\":42,\"fLabel\":\"\",\"fLongest\":33,\"fMargin\":0.05,\"fLines\":{\"_typename\":\"TList\",\"name\":\"TList\",\"arr\":[{\"_typename\":\"TLatex\",\"fUniqueID\":0,\"fBits\":0,\"fName\":\"\",\"fTitle\":\"Imported TH1 with internal errors\",\"fTextAngle\":0,\"fTextSize\":0,\"fTextAlign\":0,\"fTextColor\":0,\"fTextFont\":0,\"fX\":0,\"fY\":0,\"fLineColor\":1,\"fLineStyle\":1,\"fLineWidth\":2,\"fLimitFactorSize\":3,\"fOriginSize\":0.0467500016093254}],\"opt\":[\"\"]}}}]},{\"_typename\":\"TPadWebSnapshot\",\"fUniqueID\":0,\"fBits\":0,\"fObjectID\":\"\",\"fOption\":\"\",\"fKind\":3,\"fSnapshot\":{\"_typename\":\"TPad\",\"fUniqueID\":0,\"fBits\":9,\"fLineColor\":1,\"fLineStyle\":1,\"fLineWidth\":1,\"fFillColor\":0,\"fFillStyle\":1001,\"fLeftMargin\":0.1,\"fRightMargin\":0.1,\"fBottomMargin\":0.1,\"fTopMargin\":0.1,\"fXfile\":2,\"fYfile\":2,\"fAfile\":1,\"fXstat\":0.99,\"fYstat\":0.99,\"fAstat\":2,\"fFrameFillColor\":0,\"fFrameLineColor\":1,\"fFrameFillStyle\":1001,\"fFrameLineStyle\":1,\"fFrameLineWidth\":1,\"fFrameBorderSize\":1,\"fFrameBorderMode\":0,\"fX1\":0,\"fY1\":0,\"fX2\":1,\"fY2\":1,\"fXtoAbsPixelk\":673.959999777377,\"fXtoPixelk\":0,\"fXtoPixel\":312.080000445247,\"fYtoAbsPixelk\":378.280000172555,\"fYtoPixelk\":370.560000345111,\"fYtoPixel\":-370.560000345111,\"fUtoAbsPixelk\":673.959999777377,\"fUtoPixelk\":0,\"fUtoPixel\":312.080000445247,\"fVtoAbsPixelk\":378.280000172555,\"fVtoPixelk\":370.560000345111,\"fVtoPixel\":-370.560000345111,\"fAbsPixeltoXk\":-2.15957446429067,\"fPixeltoXk\":0,\"fPixeltoX\":0.00320430658348274,\"fAbsPixeltoYk\":1.02083333284827,\"fPixeltoYk\":0,\"fPixeltoY\":-0.00269861830491331,\"fXlowNDC\":0.676666666443149,\"fYlowNDC\":0.509999999776483,\"fXUpNDC\":0.990000000223517,\"fYUpNDC\":0.990000000223517,\"fWNDC\":0.313333333780368,\"fHNDC\":0.480000000447035,\"fAbsXlowNDC\":0.676666666443149,\"fAbsYlowNDC\":0.509999999776483,\"fAbsWNDC\":0.313333333780368,\"fAbsHNDC\":0.480000000447035,\"fUxmin\":0,\"fUymin\":0,\"fUxmax\":1,\"fUymax\":1,\"fTheta\":30,\"fPhi\":30,\"fAspectRatio\":0,\"fNumber\":3,\"fTickx\":0,\"fTicky\":0,\"fLogx\":0,\"fLogy\":0,\"fLogz\":0,\"fPadPaint\":0,\"fCrosshair\":0,\"fCrosshairPos\":0,\"fBorderSize\":2,\"fBorderMode\":0,\"fModified\":false,\"fGridx\":false,\"fGridy\":false,\"fAbsCoord\":false,\"fEditable\":true,\"fFixedAspectRatio\":false,\"fPrimitives\":{\"_typename\":\"TList\",\"name\":\"TList\",\"arr\":[],\"opt\":[]},\"fExecs\":{\"_typename\":\"TList\",\"name\":\"TList\",\"arr\":[],\"opt\":[]},\"fName\":\"rf102_dataimport_3\",\"fTitle\":\"rf102_dataimport_3\",\"fNumPaletteColor\":0,\"fNextPaletteColor\":0},\"fActive\":false,\"fReadOnly\":true,\"fWithoutPrimitives\":false,\"fHasExecs\":true,\"fPrimitives\":[]},{\"_typename\":\"TPadWebSnapshot\",\"fUniqueID\":0,\"fBits\":0,\"fObjectID\":\"\",\"fOption\":\"\",\"fKind\":3,\"fSnapshot\":{\"_typename\":\"TPad\",\"fUniqueID\":0,\"fBits\":9,\"fLineColor\":1,\"fLineStyle\":1,\"fLineWidth\":1,\"fFillColor\":0,\"fFillStyle\":1001,\"fLeftMargin\":0.15,\"fRightMargin\":0.1,\"fBottomMargin\":0.1,\"fTopMargin\":0.1,\"fXfile\":2,\"fYfile\":2,\"fAfile\":1,\"fXstat\":0.99,\"fYstat\":0.99,\"fAstat\":2,\"fFrameFillColor\":0,\"fFrameLineColor\":1,\"fFrameFillStyle\":1001,\"fFrameLineStyle\":1,\"fFrameLineWidth\":1,\"fFrameBorderSize\":1,\"fFrameBorderMode\":0,\"fX1\":-14.0000001589457,\"fY1\":-0.77676194843922,\"fX2\":12.6666667064031,\"fY2\":6.99085707296679,\"fXtoAbsPixelk\":173.802000650555,\"fXtoPixelk\":163.842000873178,\"fXtoPixel\":11.7029999295026,\"fYtoAbsPixelk\":727.223997929335,\"fYtoPixelk\":333.50399810189,\"fYtoPixel\":-47.705738312335,\"fUtoAbsPixelk\":9.95999977737665,\"fUtoPixelk\":0,\"fUtoPixel\":312.080000445247,\"fVtoAbsPixelk\":764.280000172555,\"fVtoPixelk\":370.560000345111,\"fVtoPixel\":-370.560000345111,\"fAbsPixeltoXk\":-14.8510639748369,\"fPixeltoXk\":-14.0000001589457,\"fPixeltoX\":0.0854481761961782,\"fAbsPixeltoYk\":15.2439522719073,\"fPixeltoYk\":-0.77676194843922,\"fPixeltoY\":-0.0209618388767591,\"fXlowNDC\":0.00999999977648258,\"fYlowNDC\":0.00999999977648258,\"fXUpNDC\":0.323333333556851,\"fYUpNDC\":0.490000000223517,\"fWNDC\":0.313333333780368,\"fHNDC\":0.480000000447035,\"fAbsXlowNDC\":0.00999999977648258,\"fAbsYlowNDC\":0.00999999977648258,\"fAbsWNDC\":0.313333333780368,\"fAbsHNDC\":0.480000000447035,\"fUxmin\":-10,\"fUymin\":0,\"fUxmax\":10,\"fUymax\":6.21409512452757,\"fTheta\":30,\"fPhi\":30,\"fAspectRatio\":0,\"fNumber\":4,\"fTickx\":0,\"fTicky\":0,\"fLogx\":0,\"fLogy\":0,\"fLogz\":0,\"fPadPaint\":0,\"fCrosshair\":0,\"fCrosshairPos\":0,\"fBorderSize\":2,\"fBorderMode\":0,\"fModified\":false,\"fGridx\":false,\"fGridy\":false,\"fAbsCoord\":false,\"fEditable\":true,\"fFixedAspectRatio\":false,\"fPrimitives\":{\"_typename\":\"TList\",\"name\":\"TList\",\"arr\":[],\"opt\":[]},\"fExecs\":{\"_typename\":\"TList\",\"name\":\"TList\",\"arr\":[],\"opt\":[]},\"fName\":\"rf102_dataimport_4\",\"fTitle\":\"rf102_dataimport_4\",\"fNumPaletteColor\":0,\"fNextPaletteColor\":0},\"fActive\":false,\"fReadOnly\":true,\"fWithoutPrimitives\":false,\"fHasExecs\":true,\"fPrimitives\":[{\"_typename\":\"TWebSnapshot\",\"fUniqueID\":0,\"fBits\":0,\"fObjectID\":\"\",\"fOption\":\"\",\"fKind\":1,\"fSnapshot\":{\"_typename\":\"TFrame\",\"fUniqueID\":0,\"fBits\":8,\"fLineColor\":1,\"fLineStyle\":1,\"fLineWidth\":1,\"fFillColor\":0,\"fFillStyle\":1001,\"fX1\":-10,\"fY1\":0,\"fX2\":10,\"fY2\":6.21409512452757,\"fBorderSize\":1,\"fBorderMode\":0}},{\"_typename\":\"TWebSnapshot\",\"fUniqueID\":0,\"fBits\":0,\"fObjectID\":\"\",\"fOption\":\"FUNC\",\"fKind\":1,\"fSnapshot\":{\"_typename\":\"TH1D\",\"fUniqueID\":0,\"fBits\":520,\"fName\":\"frame_y_7f03ed652fb0\",\"fTitle\":\"Unbinned data shown in default frame binning\",\"fLineColor\":602,\"fLineStyle\":1,\"fLineWidth\":1,\"fFillColor\":0,\"fFillStyle\":1001,\"fMarkerColor\":1,\"fMarkerStyle\":1,\"fMarkerSize\":1,\"fNcells\":102,\"fXaxis\":{\"_typename\":\"TAxis\",\"fUniqueID\":0,\"fBits\":0,\"fName\":\"xaxis\",\"fTitle\":\"y\",\"fNdivisions\":510,\"fAxisColor\":1,\"fLabelColor\":1,\"fLabelFont\":42,\"fLabelOffset\":0.005,\"fLabelSize\":0.035,\"fTickLength\":0.03,\"fTitleOffset\":1,\"fTitleSize\":0.035,\"fTitleColor\":1,\"fTitleFont\":42,\"fNbins\":100,\"fXmin\":-10,\"fXmax\":10,\"fXbins\":[],\"fFirst\":0,\"fLast\":0,\"fBits2\":0,\"fTimeDisplay\":false,\"fTimeFormat\":\"\",\"fLabels\":null,\"fModLabs\":null},\"fYaxis\":{\"_typename\":\"TAxis\",\"fUniqueID\":0,\"fBits\":0,\"fName\":\"yaxis\",\"fTitle\":\"Events \\/ ( 0.2 )\",\"fNdivisions\":510,\"fAxisColor\":1,\"fLabelColor\":1,\"fLabelFont\":42,\"fLabelOffset\":0.005,\"fLabelSize\":0.035,\"fTickLength\":0.03,\"fTitleOffset\":1.4,\"fTitleSize\":0.035,\"fTitleColor\":1,\"fTitleFont\":42,\"fNbins\":1,\"fXmin\":0,\"fXmax\":1,\"fXbins\":[],\"fFirst\":0,\"fLast\":0,\"fBits2\":0,\"fTimeDisplay\":false,\"fTimeFormat\":\"\",\"fLabels\":null,\"fModLabs\":null},\"fZaxis\":{\"_typename\":\"TAxis\",\"fUniqueID\":0,\"fBits\":0,\"fName\":\"zaxis\",\"fTitle\":\"\",\"fNdivisions\":510,\"fAxisColor\":1,\"fLabelColor\":1,\"fLabelFont\":42,\"fLabelOffset\":0.005,\"fLabelSize\":0.035,\"fTickLength\":0.03,\"fTitleOffset\":1,\"fTitleSize\":0.035,\"fTitleColor\":1,\"fTitleFont\":42,\"fNbins\":1,\"fXmin\":0,\"fXmax\":1,\"fXbins\":[],\"fFirst\":0,\"fLast\":0,\"fBits2\":0,\"fTimeDisplay\":false,\"fTimeFormat\":\"\",\"fLabels\":null,\"fModLabs\":null},\"fBarOffset\":0,\"fBarWidth\":1000,\"fEntries\":1,\"fTsumw\":0,\"fTsumw2\":0,\"fTsumwx\":0,\"fTsumwx2\":0,\"fMaximum\":6.21409512452757,\"fMinimum\":-1111,\"fNormFactor\":0,\"fContour\":[],\"fSumw2\":[],\"fOption\":\"\",\"fFunctions\":{\"_typename\":\"TList\",\"name\":\"TList\",\"arr\":[],\"opt\":[]},\"fBufferSize\":0,\"fBuffer\":[],\"fBinStatErrOpt\":0,\"fStatOverflows\":2,\"fArray\":{\"$arr\":\"Float64\",\"len\":102,\"p\":1,\"v\":6.21409512452757}}},{\"_typename\":\"TWebSnapshot\",\"fUniqueID\":0,\"fBits\":0,\"fObjectID\":\"\",\"fOption\":\"p\",\"fKind\":1,\"fSnapshot\":{\"_typename\":\"RooHist\",\"fUniqueID\":0,\"fBits\":1032,\"fName\":\"h_ds\",\"fTitle\":\"Histogram of ds_plot__y\",\"fLineColor\":1,\"fLineStyle\":1,\"fLineWidth\":1,\"fFillColor\":0,\"fFillStyle\":1000,\"fMarkerColor\":1,\"fMarkerStyle\":8,\"fMarkerSize\":1,\"fNpoints\":100,\"fX\":{\"$arr\":\"Float64\",\"len\":100,\"v\":[-9.9,-9.7,-9.5,-9.3,-9.1,-8.9,-8.7,-8.5,-8.3,-8.1,-7.9,-7.7,-7.5,-7.3,-7.1,-6.9,-6.7,-6.5,-6.3,-6.1,-5.9,-5.7,-5.5,-5.3,-5.1,-4.9,-4.7,-4.5,-4.3,-4.1,-3.9,-3.7,-3.5,-3.3,-3.1,-2.9,-2.7,-2.5,-2.3,-2.1,-1.9,-1.7,-1.5,-1.3,-1.1,-0.9,-0.699999999999999,-0.5,-0.299999999999999,-0.0999999999999993,0.1,0.300000000000001,0.5,0.700000000000001,0.900000000000001,1.1,1.3,1.5,1.7,1.9,2.1,2.3,2.5,2.7,2.9,3.1,3.3,3.5,3.7,3.9,4.1,4.3,4.5,4.7,4.9,5.1,5.3,5.5,5.7,5.9,6.1,6.3,6.5,6.7,6.9,7.1,7.3,7.5,7.7,7.9,8.1,8.3,8.5,8.7,8.9,9.1,9.3,9.5,9.7,9.9]},\"fY\":{\"$arr\":\"Float64\",\"len\":100,\"v\":[1,0,0,0,0,0,0,0,1,0,0,1,1,0,2,0,2,1,1,1,0,0,0,0,0,0,2,0,0,0,0,2,0,1,1,0,1,0,1,1,1,2,0,0,2,1,0,2,0,3,1,0,1,0,1,0,0,0,2,0,0,3,0,1,2,1,0,1,1,0,0,0,0,1,0,1,0,3,0,0,1,1,0,1,0,1,0,0,1,0,1,1,1,0,0,2,0,2,0,2]},\"fFunctions\":{\"_typename\":\"TList\",\"name\":\"TList\",\"arr\":[],\"opt\":[]},\"fHistogram\":{\"_typename\":\"TH1F\",\"fUniqueID\":0,\"fBits\":512,\"fName\":\"h_ds\",\"fTitle\":\"Histogram of ds_plot__y\",\"fLineColor\":602,\"fLineStyle\":1,\"fLineWidth\":1,\"fFillColor\":0,\"fFillStyle\":1001,\"fMarkerColor\":1,\"fMarkerStyle\":1,\"fMarkerSize\":1,\"fNcells\":102,\"fXaxis\":{\"_typename\":\"TAxis\",\"fUniqueID\":0,\"fBits\":0,\"fName\":\"xaxis\",\"fTitle\":\"\",\"fNdivisions\":510,\"fAxisColor\":1,\"fLabelColor\":1,\"fLabelFont\":42,\"fLabelOffset\":0.005,\"fLabelSize\":0.035,\"fTickLength\":0.03,\"fTitleOffset\":1,\"fTitleSize\":0.035,\"fTitleColor\":1,\"fTitleFont\":42,\"fNbins\":100,\"fXmin\":-12,\"fXmax\":12,\"fXbins\":[],\"fFirst\":0,\"fLast\":0,\"fBits2\":0,\"fTimeDisplay\":false,\"fTimeFormat\":\"\",\"fLabels\":null,\"fModLabs\":null},\"fYaxis\":{\"_typename\":\"TAxis\",\"fUniqueID\":0,\"fBits\":0,\"fName\":\"yaxis\",\"fTitle\":\"\",\"fNdivisions\":510,\"fAxisColor\":1,\"fLabelColor\":1,\"fLabelFont\":42,\"fLabelOffset\":0.005,\"fLabelSize\":0.035,\"fTickLength\":0.03,\"fTitleOffset\":0,\"fTitleSize\":0.035,\"fTitleColor\":1,\"fTitleFont\":42,\"fNbins\":1,\"fXmin\":0,\"fXmax\":6.51000441617174,\"fXbins\":[],\"fFirst\":0,\"fLast\":0,\"fBits2\":0,\"fTimeDisplay\":false,\"fTimeFormat\":\"\",\"fLabels\":null,\"fModLabs\":null},\"fZaxis\":{\"_typename\":\"TAxis\",\"fUniqueID\":0,\"fBits\":0,\"fName\":\"zaxis\",\"fTitle\":\"\",\"fNdivisions\":510,\"fAxisColor\":1,\"fLabelColor\":1,\"fLabelFont\":42,\"fLabelOffset\":0.005,\"fLabelSize\":0.035,\"fTickLength\":0.03,\"fTitleOffset\":1,\"fTitleSize\":0.035,\"fTitleColor\":1,\"fTitleFont\":42,\"fNbins\":1,\"fXmin\":0,\"fXmax\":1,\"fXbins\":[],\"fFirst\":0,\"fLast\":0,\"fBits2\":0,\"fTimeDisplay\":false,\"fTimeFormat\":\"\",\"fLabels\":null,\"fModLabs\":null},\"fBarOffset\":0,\"fBarWidth\":1000,\"fEntries\":0,\"fTsumw\":0,\"fTsumw2\":0,\"fTsumwx\":0,\"fTsumwx2\":0,\"fMaximum\":6.51000441617174,\"fMinimum\":0,\"fNormFactor\":0,\"fContour\":[],\"fSumw2\":[],\"fOption\":\"\",\"fFunctions\":{\"_typename\":\"TList\",\"name\":\"TList\",\"arr\":[],\"opt\":[]},\"fBufferSize\":0,\"fBuffer\":[],\"fBinStatErrOpt\":0,\"fStatOverflows\":2,\"fArray\":{\"$arr\":\"Float32\",\"len\":102}},\"fMinimum\":-1111,\"fMaximum\":-1111,\"fOption\":\"\",\"fEXlow\":{\"$arr\":\"Float64\",\"len\":100,\"v\":0.1,\"n\":100},\"fEXhigh\":{\"$arr\":\"Float64\",\"len\":100,\"v\":0.1,\"n\":100},\"fEYlow\":{\"$arr\":\"Float64\",\"len\":100,\"v\":[0.82724622097655,0,0,0,0,0,0,0,0.82724622097655,0,0,0.82724622097655,0.82724622097655,0,1.29181456018103,0,1.29181456018103,0.82724622097655,0.82724622097655,0.82724622097655,0,0,0,0,0,0,1.29181456018103,0,0,0,0,1.29181456018103,0,0.82724622097655,0.82724622097655,0,0.82724622097655,0,0.82724622097655,0.82724622097655,0.82724622097655,1.29181456018103,0,0,1.29181456018103,0.82724622097655,0,1.29181456018103,0,1.63270468610957,0.82724622097655,0,0.82724622097655,0,0.82724622097655,0,0,0,1.29181456018103,0,0,1.63270468610957,0,0.82724622097655,1.29181456018103,0.82724622097655,0,0.82724622097655,0.82724622097655,0,0,0,0,0.82724622097655,0,0.82724622097655,0,1.63270468610957,0,0,0.82724622097655,0.82724622097655,0,0.82724622097655,0,0.82724622097655,0,0,0.82724622097655,0,0.82724622097655,0.82724622097655,0.82724622097655,0,0,1.29181456018103,0,1.29181456018103,0,1.29181456018103]},\"fEYhigh\":{\"$arr\":\"Float64\",\"len\":100,\"v\":2.29952655911586,\"v1\":1.14787446444932,\"n1\":7,\"v2\":[2.29952655911586,1.14787446444932,1.14787446444932,2.29952655911586,2.29952655911586,1.14787446444932,2.63785962345524,1.14787446444932,2.63785962345524,2.29952655911586,2.29952655911586,2.29952655911586],\"v3\":1.14787446444932,\"n3\":6,\"v4\":[2.63785962345524,1.14787446444932,1.14787446444932,1.14787446444932,1.14787446444932,2.63785962345524,1.14787446444932,2.29952655911586,2.29952655911586,1.14787446444932,2.29952655911586,1.14787446444932,2.29952655911586,2.29952655911586,2.29952655911586,2.63785962345524,1.14787446444932,1.14787446444932,2.63785962345524,2.29952655911586,1.14787446444932,2.63785962345524,1.14787446444932,2.9181858328834,2.29952655911586,1.14787446444932,2.29952655911586,1.14787446444932,2.29952655911586,1.14787446444932,1.14787446444932,1.14787446444932,2.63785962345524,1.14787446444932,1.14787446444932,2.9181858328834,1.14787446444932,2.29952655911586,2.63785962345524,2.29952655911586,1.14787446444932,2.29952655911586,2.29952655911586,1.14787446444932,1.14787446444932,1.14787446444932,1.14787446444932,2.29952655911586,1.14787446444932,2.29952655911586,1.14787446444932,2.9181858328834,1.14787446444932,1.14787446444932,2.29952655911586,2.29952655911586,1.14787446444932,2.29952655911586,1.14787446444932,2.29952655911586,1.14787446444932,1.14787446444932,2.29952655911586,1.14787446444932,2.29952655911586,2.29952655911586,2.29952655911586,1.14787446444932,1.14787446444932,2.63785962345524,1.14787446444932,2.63785962345524,1.14787446444932,2.63785962345524]},\"_yAxisLabel\":\"Events \\/ ( 0.2 )\",\"_ymin\":0,\"_ymax\":5.9181858328834,\"_normValue\":0,\"_nominalBinWidth\":0.2,\"_nSigma\":1,\"_entries\":64,\"_rawEntries\":-1,\"_originalWeights\":{\"$arr\":\"Float64\",\"len\":100,\"v\":[1,0,0,0,0,0,0,0,1,0,0,1,1,0,2,0,2,1,1,1,0,0,0,0,0,0,2,0,0,0,0,2,0,1,1,0,1,0,1,1,1,2,0,0,2,1,0,2,0,3,1,0,1,0,1,0,0,0,2,0,0,3,0,1,2,1,0,1,1,0,0,0,0,1,0,1,0,3,0,0,1,1,0,1,0,1,0,0,1,0,1,1,1,0,0,2,0,2,0,2]}}},{\"_typename\":\"TWebSnapshot\",\"fUniqueID\":0,\"fBits\":0,\"fObjectID\":\"\",\"fOption\":\"AXISSAME\",\"fKind\":1,\"fSnapshot\":{\"$ref\":89}},{\"_typename\":\"TWebSnapshot\",\"fUniqueID\":0,\"fBits\":0,\"fObjectID\":\"\",\"fOption\":\"blNDC\",\"fKind\":1,\"fSnapshot\":{\"_typename\":\"TPaveText\",\"fUniqueID\":0,\"fBits\":9,\"fLineColor\":1,\"fLineStyle\":1,\"fLineWidth\":1,\"fFillColor\":0,\"fFillStyle\":0,\"fX1\":-10.0000001291434,\"fY1\":6.52479996235526,\"fX2\":8.66666667660077,\"fY2\":6.95201901489865,\"fX1NDC\":0.15,\"fY1NDC\":0.940000003948808,\"fX2NDC\":0.85,\"fY2NDC\":0.995000004768372,\"fBorderSize\":0,\"fInit\":1,\"fShadowColor\":1,\"fCornerRadius\":0,\"fOption\":\"blNDC\",\"fName\":\"title\",\"fTextAngle\":0,\"fTextSize\":0,\"fTextAlign\":22,\"fTextColor\":1,\"fTextFont\":42,\"fLabel\":\"\",\"fLongest\":44,\"fMargin\":0.05,\"fLines\":{\"_typename\":\"TList\",\"name\":\"TList\",\"arr\":[{\"_typename\":\"TLatex\",\"fUniqueID\":0,\"fBits\":0,\"fName\":\"\",\"fTitle\":\"Unbinned data shown in default frame binning\",\"fTextAngle\":0,\"fTextSize\":0,\"fTextAlign\":0,\"fTextColor\":0,\"fTextFont\":0,\"fX\":0,\"fY\":0,\"fLineColor\":1,\"fLineStyle\":1,\"fLineWidth\":2,\"fLimitFactorSize\":3,\"fOriginSize\":0.0467500016093254}],\"opt\":[\"\"]}}}]},{\"_typename\":\"TPadWebSnapshot\",\"fUniqueID\":0,\"fBits\":0,\"fObjectID\":\"\",\"fOption\":\"\",\"fKind\":3,\"fSnapshot\":{\"_typename\":\"TPad\",\"fUniqueID\":0,\"fBits\":9,\"fLineColor\":1,\"fLineStyle\":1,\"fLineWidth\":1,\"fFillColor\":0,\"fFillStyle\":1001,\"fLeftMargin\":0.15,\"fRightMargin\":0.1,\"fBottomMargin\":0.1,\"fTopMargin\":0.1,\"fXfile\":2,\"fYfile\":2,\"fAfile\":1,\"fXstat\":0.99,\"fYstat\":0.99,\"fAstat\":2,\"fFrameFillColor\":0,\"fFrameLineColor\":1,\"fFrameFillStyle\":1001,\"fFrameLineStyle\":1,\"fFrameLineWidth\":1,\"fFrameBorderSize\":1,\"fFrameBorderMode\":0,\"fX1\":-14.0000001589457,\"fY1\":-1.25785304662783,\"fX2\":12.6666667064031,\"fY2\":11.3206766699116,\"fXtoAbsPixelk\":505.802000650555,\"fXtoPixelk\":163.842000873178,\"fXtoPixel\":11.7029999295026,\"fYtoAbsPixelk\":727.223997929335,\"fYtoPixelk\":333.50399810189,\"fYtoPixel\":-29.4597229323124,\"fUtoAbsPixelk\":341.959999777377,\"fUtoPixelk\":0,\"fUtoPixel\":312.080000445247,\"fVtoAbsPixelk\":764.280000172555,\"fVtoPixelk\":370.560000345111,\"fVtoPixel\":-370.560000345111,\"fAbsPixeltoXk\":-43.2198584719681,\"fPixeltoXk\":-14.0000001589457,\"fPixeltoX\":0.0854481761961782,\"fAbsPixeltoYk\":24.6853644754306,\"fPixeltoYk\":-1.25785304662783,\"fPixeltoY\":-0.0339446505419495,\"fXlowNDC\":0.343333333109816,\"fYlowNDC\":0.00999999977648258,\"fXUpNDC\":0.656666666890184,\"fYUpNDC\":0.490000000223517,\"fWNDC\":0.313333333780368,\"fHNDC\":0.480000000447035,\"fAbsXlowNDC\":0.343333333109816,\"fAbsYlowNDC\":0.00999999977648258,\"fAbsWNDC\":0.313333333780368,\"fAbsHNDC\":0.480000000447035,\"fUxmin\":-10,\"fUymin\":0,\"fUxmax\":10,\"fUymax\":10.0628236232838,\"fTheta\":30,\"fPhi\":30,\"fAspectRatio\":0,\"fNumber\":5,\"fTickx\":0,\"fTicky\":0,\"fLogx\":0,\"fLogy\":0,\"fLogz\":0,\"fPadPaint\":0,\"fCrosshair\":0,\"fCrosshairPos\":0,\"fBorderSize\":2,\"fBorderMode\":0,\"fModified\":false,\"fGridx\":false,\"fGridy\":false,\"fAbsCoord\":false,\"fEditable\":true,\"fFixedAspectRatio\":false,\"fPrimitives\":{\"_typename\":\"TList\",\"name\":\"TList\",\"arr\":[],\"opt\":[]},\"fExecs\":{\"_typename\":\"TList\",\"name\":\"TList\",\"arr\":[],\"opt\":[]},\"fName\":\"rf102_dataimport_5\",\"fTitle\":\"rf102_dataimport_5\",\"fNumPaletteColor\":0,\"fNextPaletteColor\":0},\"fActive\":false,\"fReadOnly\":true,\"fWithoutPrimitives\":false,\"fHasExecs\":true,\"fPrimitives\":[{\"_typename\":\"TWebSnapshot\",\"fUniqueID\":0,\"fBits\":0,\"fObjectID\":\"\",\"fOption\":\"\",\"fKind\":1,\"fSnapshot\":{\"_typename\":\"TFrame\",\"fUniqueID\":0,\"fBits\":8,\"fLineColor\":1,\"fLineStyle\":1,\"fLineWidth\":1,\"fFillColor\":0,\"fFillStyle\":1001,\"fX1\":-10,\"fY1\":0,\"fX2\":10,\"fY2\":10.0628236232838,\"fBorderSize\":1,\"fBorderMode\":0}},{\"_typename\":\"TWebSnapshot\",\"fUniqueID\":0,\"fBits\":0,\"fObjectID\":\"\",\"fOption\":\"FUNC\",\"fKind\":1,\"fSnapshot\":{\"_typename\":\"TH1D\",\"fUniqueID\":0,\"fBits\":520,\"fName\":\"frame_y_7f03ed669e50\",\"fTitle\":\"Unbinned data shown with custom binning\",\"fLineColor\":602,\"fLineStyle\":1,\"fLineWidth\":1,\"fFillColor\":0,\"fFillStyle\":1001,\"fMarkerColor\":1,\"fMarkerStyle\":1,\"fMarkerSize\":1,\"fNcells\":102,\"fXaxis\":{\"_typename\":\"TAxis\",\"fUniqueID\":0,\"fBits\":0,\"fName\":\"xaxis\",\"fTitle\":\"y\",\"fNdivisions\":510,\"fAxisColor\":1,\"fLabelColor\":1,\"fLabelFont\":42,\"fLabelOffset\":0.005,\"fLabelSize\":0.035,\"fTickLength\":0.03,\"fTitleOffset\":1,\"fTitleSize\":0.035,\"fTitleColor\":1,\"fTitleFont\":42,\"fNbins\":100,\"fXmin\":-10,\"fXmax\":10,\"fXbins\":[],\"fFirst\":0,\"fLast\":0,\"fBits2\":0,\"fTimeDisplay\":false,\"fTimeFormat\":\"\",\"fLabels\":null,\"fModLabs\":null},\"fYaxis\":{\"_typename\":\"TAxis\",\"fUniqueID\":0,\"fBits\":0,\"fName\":\"yaxis\",\"fTitle\":\"Events \\/ ( 1 )\",\"fNdivisions\":510,\"fAxisColor\":1,\"fLabelColor\":1,\"fLabelFont\":42,\"fLabelOffset\":0.005,\"fLabelSize\":0.035,\"fTickLength\":0.03,\"fTitleOffset\":1.4,\"fTitleSize\":0.035,\"fTitleColor\":1,\"fTitleFont\":42,\"fNbins\":1,\"fXmin\":0,\"fXmax\":1,\"fXbins\":[],\"fFirst\":0,\"fLast\":0,\"fBits2\":0,\"fTimeDisplay\":false,\"fTimeFormat\":\"\",\"fLabels\":null,\"fModLabs\":null},\"fZaxis\":{\"_typename\":\"TAxis\",\"fUniqueID\":0,\"fBits\":0,\"fName\":\"zaxis\",\"fTitle\":\"\",\"fNdivisions\":510,\"fAxisColor\":1,\"fLabelColor\":1,\"fLabelFont\":42,\"fLabelOffset\":0.005,\"fLabelSize\":0.035,\"fTickLength\":0.03,\"fTitleOffset\":1,\"fTitleSize\":0.035,\"fTitleColor\":1,\"fTitleFont\":42,\"fNbins\":1,\"fXmin\":0,\"fXmax\":1,\"fXbins\":[],\"fFirst\":0,\"fLast\":0,\"fBits2\":0,\"fTimeDisplay\":false,\"fTimeFormat\":\"\",\"fLabels\":null,\"fModLabs\":null},\"fBarOffset\":0,\"fBarWidth\":1000,\"fEntries\":1,\"fTsumw\":0,\"fTsumw2\":0,\"fTsumwx\":0,\"fTsumwx2\":0,\"fMaximum\":10.0628236232838,\"fMinimum\":-1111,\"fNormFactor\":0,\"fContour\":[],\"fSumw2\":[],\"fOption\":\"\",\"fFunctions\":{\"_typename\":\"TList\",\"name\":\"TList\",\"arr\":[],\"opt\":[]},\"fBufferSize\":0,\"fBuffer\":[],\"fBinStatErrOpt\":0,\"fStatOverflows\":2,\"fArray\":{\"$arr\":\"Float64\",\"len\":102,\"p\":1,\"v\":10.0628236232838}}},{\"_typename\":\"TWebSnapshot\",\"fUniqueID\":0,\"fBits\":0,\"fObjectID\":\"\",\"fOption\":\"p\",\"fKind\":1,\"fSnapshot\":{\"_typename\":\"RooHist\",\"fUniqueID\":0,\"fBits\":1032,\"fName\":\"h_ds\",\"fTitle\":\"Histogram of ds_plot__y\",\"fLineColor\":1,\"fLineStyle\":1,\"fLineWidth\":1,\"fFillColor\":0,\"fFillStyle\":1000,\"fMarkerColor\":1,\"fMarkerStyle\":8,\"fMarkerSize\":1,\"fNpoints\":20,\"fX\":{\"$arr\":\"Float64\",\"len\":20,\"v\":[-9.5,-8.5,-7.5,-6.5,-5.5,-4.5,-3.5,-2.5,-1.5,-0.5,0.5,1.5,2.5,3.5,4.5,5.5,6.5,7.5,8.5,9.5]},\"fY\":{\"$arr\":\"Float64\",\"len\":20,\"v\":[1,1,4,5,0,2,4,3,5,6,3,2,6,3,1,4,3,2,3,6]},\"fFunctions\":{\"_typename\":\"TList\",\"name\":\"TList\",\"arr\":[],\"opt\":[]},\"fHistogram\":{\"_typename\":\"TH1F\",\"fUniqueID\":0,\"fBits\":512,\"fName\":\"h_ds\",\"fTitle\":\"Histogram of ds_plot__y\",\"fLineColor\":602,\"fLineStyle\":1,\"fLineWidth\":1,\"fFillColor\":0,\"fFillStyle\":1001,\"fMarkerColor\":1,\"fMarkerStyle\":1,\"fMarkerSize\":1,\"fNcells\":102,\"fXaxis\":{\"_typename\":\"TAxis\",\"fUniqueID\":0,\"fBits\":0,\"fName\":\"xaxis\",\"fTitle\":\"\",\"fNdivisions\":510,\"fAxisColor\":1,\"fLabelColor\":1,\"fLabelFont\":42,\"fLabelOffset\":0.005,\"fLabelSize\":0.035,\"fTickLength\":0.03,\"fTitleOffset\":1,\"fTitleSize\":0.035,\"fTitleColor\":1,\"fTitleFont\":42,\"fNbins\":100,\"fXmin\":-12,\"fXmax\":12,\"fXbins\":[],\"fFirst\":0,\"fLast\":0,\"fBits2\":0,\"fTimeDisplay\":false,\"fTimeFormat\":\"\",\"fLabels\":null,\"fModLabs\":null},\"fYaxis\":{\"_typename\":\"TAxis\",\"fUniqueID\":0,\"fBits\":0,\"fName\":\"yaxis\",\"fTitle\":\"\",\"fNdivisions\":510,\"fAxisColor\":1,\"fLabelColor\":1,\"fLabelFont\":42,\"fLabelOffset\":0.005,\"fLabelSize\":0.035,\"fTickLength\":0.03,\"fTitleOffset\":0,\"fTitleSize\":0.035,\"fTitleColor\":1,\"fTitleFont\":42,\"fNbins\":1,\"fXmin\":0,\"fXmax\":10.542005700583,\"fXbins\":[],\"fFirst\":0,\"fLast\":0,\"fBits2\":0,\"fTimeDisplay\":false,\"fTimeFormat\":\"\",\"fLabels\":null,\"fModLabs\":null},\"fZaxis\":{\"_typename\":\"TAxis\",\"fUniqueID\":0,\"fBits\":0,\"fName\":\"zaxis\",\"fTitle\":\"\",\"fNdivisions\":510,\"fAxisColor\":1,\"fLabelColor\":1,\"fLabelFont\":42,\"fLabelOffset\":0.005,\"fLabelSize\":0.035,\"fTickLength\":0.03,\"fTitleOffset\":1,\"fTitleSize\":0.035,\"fTitleColor\":1,\"fTitleFont\":42,\"fNbins\":1,\"fXmin\":0,\"fXmax\":1,\"fXbins\":[],\"fFirst\":0,\"fLast\":0,\"fBits2\":0,\"fTimeDisplay\":false,\"fTimeFormat\":\"\",\"fLabels\":null,\"fModLabs\":null},\"fBarOffset\":0,\"fBarWidth\":1000,\"fEntries\":0,\"fTsumw\":0,\"fTsumw2\":0,\"fTsumwx\":0,\"fTsumwx2\":0,\"fMaximum\":10.542005700583,\"fMinimum\":0,\"fNormFactor\":0,\"fContour\":[],\"fSumw2\":[],\"fOption\":\"\",\"fFunctions\":{\"_typename\":\"TList\",\"name\":\"TList\",\"arr\":[],\"opt\":[]},\"fBufferSize\":0,\"fBuffer\":[],\"fBinStatErrOpt\":0,\"fStatOverflows\":2,\"fArray\":{\"$arr\":\"Float32\",\"len\":102}},\"fMinimum\":-1111,\"fMaximum\":-1111,\"fOption\":\"\",\"fEXlow\":{\"$arr\":\"Float64\",\"len\":20,\"v\":0.5,\"n\":20},\"fEXhigh\":{\"$arr\":\"Float64\",\"len\":20,\"v\":0.5,\"n\":20},\"fEYlow\":{\"$arr\":\"Float64\",\"len\":20,\"v\":[0.82724622097655,0.82724622097655,1.91433918622288,2.15969114440678,0,1.29181456018103,1.91433918622288,1.63270468610957,2.15969114440678,2.37993137929577,1.63270468610957,1.29181456018103,2.37993137929577,1.63270468610957,0.82724622097655,1.91433918622288,1.63270468610957,1.29181456018103,1.63270468610957,2.37993137929577]},\"fEYhigh\":{\"$arr\":\"Float64\",\"len\":20,\"v\":[2.29952655911586,2.29952655911586,3.16275317226094,3.38247265214689,1.14787446444932,2.63785962345524,3.16275317226094,2.9181858328834,3.38247265214689,3.58364154598457,2.9181858328834,2.63785962345524,3.58364154598457,2.9181858328834,2.29952655911586,3.16275317226094,2.9181858328834,2.63785962345524,2.9181858328834,3.58364154598457]},\"_yAxisLabel\":\"Events \\/ ( 1 )\",\"_ymin\":0,\"_ymax\":9.58364154598457,\"_normValue\":0,\"_nominalBinWidth\":1,\"_nSigma\":1,\"_entries\":64,\"_rawEntries\":-1,\"_originalWeights\":{\"$arr\":\"Float64\",\"len\":20,\"v\":[1,1,4,5,0,2,4,3,5,6,3,2,6,3,1,4,3,2,3,6]}}},{\"_typename\":\"TWebSnapshot\",\"fUniqueID\":0,\"fBits\":0,\"fObjectID\":\"\",\"fOption\":\"AXISSAME\",\"fKind\":1,\"fSnapshot\":{\"$ref\":114}},{\"_typename\":\"TWebSnapshot\",\"fUniqueID\":0,\"fBits\":0,\"fObjectID\":\"\",\"fOption\":\"blNDC\",\"fKind\":1,\"fSnapshot\":{\"_typename\":\"TPaveText\",\"fUniqueID\":0,\"fBits\":9,\"fLineColor\":1,\"fLineStyle\":1,\"fLineWidth\":1,\"fFillColor\":0,\"fFillStyle\":0,\"fX1\":-10.0000001291434,\"fY1\":10.5659649365895,\"fX2\":8.66666667660077,\"fY2\":11.257784081308,\"fX1NDC\":0.15,\"fY1NDC\":0.940000003948808,\"fX2NDC\":0.85,\"fY2NDC\":0.995000004768372,\"fBorderSize\":0,\"fInit\":1,\"fShadowColor\":1,\"fCornerRadius\":0,\"fOption\":\"blNDC\",\"fName\":\"title\",\"fTextAngle\":0,\"fTextSize\":0,\"fTextAlign\":22,\"fTextColor\":1,\"fTextFont\":42,\"fLabel\":\"\",\"fLongest\":39,\"fMargin\":0.05,\"fLines\":{\"_typename\":\"TList\",\"name\":\"TList\",\"arr\":[{\"_typename\":\"TLatex\",\"fUniqueID\":0,\"fBits\":0,\"fName\":\"\",\"fTitle\":\"Unbinned data shown with custom binning\",\"fTextAngle\":0,\"fTextSize\":0,\"fTextAlign\":0,\"fTextColor\":0,\"fTextFont\":0,\"fX\":0,\"fY\":0,\"fLineColor\":1,\"fLineStyle\":1,\"fLineWidth\":2,\"fLimitFactorSize\":3,\"fOriginSize\":0.0467500016093254}],\"opt\":[\"\"]}}}]},{\"_typename\":\"TPadWebSnapshot\",\"fUniqueID\":0,\"fBits\":0,\"fObjectID\":\"\",\"fOption\":\"\",\"fKind\":3,\"fSnapshot\":{\"_typename\":\"TPad\",\"fUniqueID\":0,\"fBits\":9,\"fLineColor\":1,\"fLineStyle\":1,\"fLineWidth\":1,\"fFillColor\":0,\"fFillStyle\":1001,\"fLeftMargin\":0.15,\"fRightMargin\":0.1,\"fBottomMargin\":0.1,\"fTopMargin\":0.1,\"fXfile\":2,\"fYfile\":2,\"fAfile\":1,\"fXstat\":0.99,\"fYstat\":0.99,\"fAstat\":2,\"fFrameFillColor\":0,\"fFrameLineColor\":1,\"fFrameFillStyle\":1001,\"fFrameLineStyle\":1,\"fFrameLineWidth\":1,\"fFrameBorderSize\":1,\"fFrameBorderMode\":0,\"fX1\":-14.0000001589457,\"fY1\":-1.25785304662783,\"fX2\":12.6666667064031,\"fY2\":11.3206766699116,\"fXtoAbsPixelk\":837.802000650555,\"fXtoPixelk\":163.842000873178,\"fXtoPixel\":11.7029999295026,\"fYtoAbsPixelk\":727.223997929335,\"fYtoPixelk\":333.50399810189,\"fYtoPixel\":-29.4597229323124,\"fUtoAbsPixelk\":673.959999777377,\"fUtoPixelk\":0,\"fUtoPixel\":312.080000445247,\"fVtoAbsPixelk\":764.280000172555,\"fVtoPixelk\":370.560000345111,\"fVtoPixel\":-370.560000345111,\"fAbsPixeltoXk\":-71.5886529690992,\"fPixeltoXk\":-14.0000001589457,\"fPixeltoX\":0.0854481761961782,\"fAbsPixeltoYk\":24.6853644754306,\"fPixeltoYk\":-1.25785304662783,\"fPixeltoY\":-0.0339446505419495,\"fXlowNDC\":0.676666666443149,\"fYlowNDC\":0.00999999977648258,\"fXUpNDC\":0.990000000223517,\"fYUpNDC\":0.490000000223517,\"fWNDC\":0.313333333780368,\"fHNDC\":0.480000000447035,\"fAbsXlowNDC\":0.676666666443149,\"fAbsYlowNDC\":0.00999999977648258,\"fAbsWNDC\":0.313333333780368,\"fAbsHNDC\":0.480000000447035,\"fUxmin\":-10,\"fUymin\":0,\"fUxmax\":10,\"fUymax\":10.0628236232838,\"fTheta\":30,\"fPhi\":30,\"fAspectRatio\":0,\"fNumber\":6,\"fTickx\":0,\"fTicky\":0,\"fLogx\":0,\"fLogy\":0,\"fLogz\":0,\"fPadPaint\":0,\"fCrosshair\":0,\"fCrosshairPos\":0,\"fBorderSize\":2,\"fBorderMode\":0,\"fModified\":false,\"fGridx\":false,\"fGridy\":false,\"fAbsCoord\":false,\"fEditable\":true,\"fFixedAspectRatio\":false,\"fPrimitives\":{\"_typename\":\"TList\",\"name\":\"TList\",\"arr\":[],\"opt\":[]},\"fExecs\":{\"_typename\":\"TList\",\"name\":\"TList\",\"arr\":[],\"opt\":[]},\"fName\":\"rf102_dataimport_6\",\"fTitle\":\"rf102_dataimport_6\",\"fNumPaletteColor\":0,\"fNextPaletteColor\":0},\"fActive\":false,\"fReadOnly\":true,\"fWithoutPrimitives\":false,\"fHasExecs\":true,\"fPrimitives\":[{\"_typename\":\"TWebSnapshot\",\"fUniqueID\":0,\"fBits\":0,\"fObjectID\":\"\",\"fOption\":\"\",\"fKind\":1,\"fSnapshot\":{\"_typename\":\"TFrame\",\"fUniqueID\":0,\"fBits\":8,\"fLineColor\":1,\"fLineStyle\":1,\"fLineWidth\":1,\"fFillColor\":0,\"fFillStyle\":1001,\"fX1\":-10,\"fY1\":0,\"fX2\":10,\"fY2\":10.0628236232838,\"fBorderSize\":1,\"fBorderMode\":0}},{\"_typename\":\"TWebSnapshot\",\"fUniqueID\":0,\"fBits\":0,\"fObjectID\":\"\",\"fOption\":\"FUNC\",\"fKind\":1,\"fSnapshot\":{\"_typename\":\"TH1D\",\"fUniqueID\":0,\"fBits\":520,\"fName\":\"frame_y_7f03ed646160\",\"fTitle\":\"Unbinned data read back from ASCII file\",\"fLineColor\":602,\"fLineStyle\":1,\"fLineWidth\":1,\"fFillColor\":0,\"fFillStyle\":1001,\"fMarkerColor\":1,\"fMarkerStyle\":1,\"fMarkerSize\":1,\"fNcells\":102,\"fXaxis\":{\"_typename\":\"TAxis\",\"fUniqueID\":0,\"fBits\":0,\"fName\":\"xaxis\",\"fTitle\":\"y\",\"fNdivisions\":510,\"fAxisColor\":1,\"fLabelColor\":1,\"fLabelFont\":42,\"fLabelOffset\":0.005,\"fLabelSize\":0.035,\"fTickLength\":0.03,\"fTitleOffset\":1,\"fTitleSize\":0.035,\"fTitleColor\":1,\"fTitleFont\":42,\"fNbins\":100,\"fXmin\":-10,\"fXmax\":10,\"fXbins\":[],\"fFirst\":0,\"fLast\":0,\"fBits2\":0,\"fTimeDisplay\":false,\"fTimeFormat\":\"\",\"fLabels\":null,\"fModLabs\":null},\"fYaxis\":{\"_typename\":\"TAxis\",\"fUniqueID\":0,\"fBits\":0,\"fName\":\"yaxis\",\"fTitle\":\"Events \\/ ( 1 )\",\"fNdivisions\":510,\"fAxisColor\":1,\"fLabelColor\":1,\"fLabelFont\":42,\"fLabelOffset\":0.005,\"fLabelSize\":0.035,\"fTickLength\":0.03,\"fTitleOffset\":0,\"fTitleSize\":0.035,\"fTitleColor\":1,\"fTitleFont\":42,\"fNbins\":1,\"fXmin\":0,\"fXmax\":1,\"fXbins\":[],\"fFirst\":0,\"fLast\":0,\"fBits2\":0,\"fTimeDisplay\":false,\"fTimeFormat\":\"\",\"fLabels\":null,\"fModLabs\":null},\"fZaxis\":{\"_typename\":\"TAxis\",\"fUniqueID\":0,\"fBits\":0,\"fName\":\"zaxis\",\"fTitle\":\"\",\"fNdivisions\":510,\"fAxisColor\":1,\"fLabelColor\":1,\"fLabelFont\":42,\"fLabelOffset\":0.005,\"fLabelSize\":0.035,\"fTickLength\":0.03,\"fTitleOffset\":1,\"fTitleSize\":0.035,\"fTitleColor\":1,\"fTitleFont\":42,\"fNbins\":1,\"fXmin\":0,\"fXmax\":1,\"fXbins\":[],\"fFirst\":0,\"fLast\":0,\"fBits2\":0,\"fTimeDisplay\":false,\"fTimeFormat\":\"\",\"fLabels\":null,\"fModLabs\":null},\"fBarOffset\":0,\"fBarWidth\":1000,\"fEntries\":1,\"fTsumw\":0,\"fTsumw2\":0,\"fTsumwx\":0,\"fTsumwx2\":0,\"fMaximum\":10.0628236232838,\"fMinimum\":-1111,\"fNormFactor\":0,\"fContour\":[],\"fSumw2\":[],\"fOption\":\"\",\"fFunctions\":{\"_typename\":\"TList\",\"name\":\"TList\",\"arr\":[],\"opt\":[]},\"fBufferSize\":0,\"fBuffer\":[],\"fBinStatErrOpt\":0,\"fStatOverflows\":2,\"fArray\":{\"$arr\":\"Float64\",\"len\":102,\"p\":1,\"v\":10.0628236232838}}},{\"_typename\":\"TWebSnapshot\",\"fUniqueID\":0,\"fBits\":0,\"fObjectID\":\"\",\"fOption\":\"p\",\"fKind\":1,\"fSnapshot\":{\"_typename\":\"RooHist\",\"fUniqueID\":0,\"fBits\":1032,\"fName\":\"h_ds\",\"fTitle\":\"Histogram of ds_plot__y\",\"fLineColor\":1,\"fLineStyle\":1,\"fLineWidth\":1,\"fFillColor\":0,\"fFillStyle\":1000,\"fMarkerColor\":1,\"fMarkerStyle\":8,\"fMarkerSize\":1,\"fNpoints\":20,\"fX\":{\"$arr\":\"Float64\",\"len\":20,\"v\":[-9.5,-8.5,-7.5,-6.5,-5.5,-4.5,-3.5,-2.5,-1.5,-0.5,0.5,1.5,2.5,3.5,4.5,5.5,6.5,7.5,8.5,9.5]},\"fY\":{\"$arr\":\"Float64\",\"len\":20,\"v\":[1,1,4,5,0,2,4,3,5,6,3,2,6,3,1,4,3,2,3,6]},\"fFunctions\":{\"_typename\":\"TList\",\"name\":\"TList\",\"arr\":[],\"opt\":[]},\"fHistogram\":{\"_typename\":\"TH1F\",\"fUniqueID\":0,\"fBits\":512,\"fName\":\"h_ds\",\"fTitle\":\"Histogram of ds_plot__y\",\"fLineColor\":602,\"fLineStyle\":1,\"fLineWidth\":1,\"fFillColor\":0,\"fFillStyle\":1001,\"fMarkerColor\":1,\"fMarkerStyle\":1,\"fMarkerSize\":1,\"fNcells\":102,\"fXaxis\":{\"_typename\":\"TAxis\",\"fUniqueID\":0,\"fBits\":0,\"fName\":\"xaxis\",\"fTitle\":\"\",\"fNdivisions\":510,\"fAxisColor\":1,\"fLabelColor\":1,\"fLabelFont\":42,\"fLabelOffset\":0.005,\"fLabelSize\":0.035,\"fTickLength\":0.03,\"fTitleOffset\":1,\"fTitleSize\":0.035,\"fTitleColor\":1,\"fTitleFont\":42,\"fNbins\":100,\"fXmin\":-12,\"fXmax\":12,\"fXbins\":[],\"fFirst\":0,\"fLast\":0,\"fBits2\":0,\"fTimeDisplay\":false,\"fTimeFormat\":\"\",\"fLabels\":null,\"fModLabs\":null},\"fYaxis\":{\"_typename\":\"TAxis\",\"fUniqueID\":0,\"fBits\":0,\"fName\":\"yaxis\",\"fTitle\":\"\",\"fNdivisions\":510,\"fAxisColor\":1,\"fLabelColor\":1,\"fLabelFont\":42,\"fLabelOffset\":0.005,\"fLabelSize\":0.035,\"fTickLength\":0.03,\"fTitleOffset\":0,\"fTitleSize\":0.035,\"fTitleColor\":1,\"fTitleFont\":42,\"fNbins\":1,\"fXmin\":0,\"fXmax\":10.542005700583,\"fXbins\":[],\"fFirst\":0,\"fLast\":0,\"fBits2\":0,\"fTimeDisplay\":false,\"fTimeFormat\":\"\",\"fLabels\":null,\"fModLabs\":null},\"fZaxis\":{\"_typename\":\"TAxis\",\"fUniqueID\":0,\"fBits\":0,\"fName\":\"zaxis\",\"fTitle\":\"\",\"fNdivisions\":510,\"fAxisColor\":1,\"fLabelColor\":1,\"fLabelFont\":42,\"fLabelOffset\":0.005,\"fLabelSize\":0.035,\"fTickLength\":0.03,\"fTitleOffset\":1,\"fTitleSize\":0.035,\"fTitleColor\":1,\"fTitleFont\":42,\"fNbins\":1,\"fXmin\":0,\"fXmax\":1,\"fXbins\":[],\"fFirst\":0,\"fLast\":0,\"fBits2\":0,\"fTimeDisplay\":false,\"fTimeFormat\":\"\",\"fLabels\":null,\"fModLabs\":null},\"fBarOffset\":0,\"fBarWidth\":1000,\"fEntries\":0,\"fTsumw\":0,\"fTsumw2\":0,\"fTsumwx\":0,\"fTsumwx2\":0,\"fMaximum\":10.542005700583,\"fMinimum\":0,\"fNormFactor\":0,\"fContour\":[],\"fSumw2\":[],\"fOption\":\"\",\"fFunctions\":{\"_typename\":\"TList\",\"name\":\"TList\",\"arr\":[],\"opt\":[]},\"fBufferSize\":0,\"fBuffer\":[],\"fBinStatErrOpt\":0,\"fStatOverflows\":2,\"fArray\":{\"$arr\":\"Float32\",\"len\":102}},\"fMinimum\":-1111,\"fMaximum\":-1111,\"fOption\":\"\",\"fEXlow\":{\"$arr\":\"Float64\",\"len\":20,\"v\":0.5,\"n\":20},\"fEXhigh\":{\"$arr\":\"Float64\",\"len\":20,\"v\":0.5,\"n\":20},\"fEYlow\":{\"$arr\":\"Float64\",\"len\":20,\"v\":[0.82724622097655,0.82724622097655,1.91433918622288,2.15969114440678,0,1.29181456018103,1.91433918622288,1.63270468610957,2.15969114440678,2.37993137929577,1.63270468610957,1.29181456018103,2.37993137929577,1.63270468610957,0.82724622097655,1.91433918622288,1.63270468610957,1.29181456018103,1.63270468610957,2.37993137929577]},\"fEYhigh\":{\"$arr\":\"Float64\",\"len\":20,\"v\":[2.29952655911586,2.29952655911586,3.16275317226094,3.38247265214689,1.14787446444932,2.63785962345524,3.16275317226094,2.9181858328834,3.38247265214689,3.58364154598457,2.9181858328834,2.63785962345524,3.58364154598457,2.9181858328834,2.29952655911586,3.16275317226094,2.9181858328834,2.63785962345524,2.9181858328834,3.58364154598457]},\"_yAxisLabel\":\"Events \\/ ( 1 )\",\"_ymin\":0,\"_ymax\":9.58364154598457,\"_normValue\":0,\"_nominalBinWidth\":1,\"_nSigma\":1,\"_entries\":64,\"_rawEntries\":-1,\"_originalWeights\":{\"$arr\":\"Float64\",\"len\":20,\"v\":[1,1,4,5,0,2,4,3,5,6,3,2,6,3,1,4,3,2,3,6]}}},{\"_typename\":\"TWebSnapshot\",\"fUniqueID\":0,\"fBits\":0,\"fObjectID\":\"\",\"fOption\":\"p\",\"fKind\":1,\"fSnapshot\":{\"_typename\":\"RooHist\",\"fUniqueID\":0,\"fBits\":1032,\"fName\":\"h_dataset\",\"fTitle\":\"Histogram of dataset_plot__y\",\"fLineColor\":1,\"fLineStyle\":1,\"fLineWidth\":1,\"fFillColor\":0,\"fFillStyle\":1000,\"fMarkerColor\":632,\"fMarkerStyle\":5,\"fMarkerSize\":1,\"fNpoints\":20,\"fX\":{\"$arr\":\"Float64\",\"len\":20,\"v\":[-9.5,-8.5,-7.5,-6.5,-5.5,-4.5,-3.5,-2.5,-1.5,-0.5,0.5,1.5,2.5,3.5,4.5,5.5,6.5,7.5,8.5,9.5]},\"fY\":{\"$arr\":\"Float64\",\"len\":20,\"v\":[1,1,4,5,0,2,4,3,5,6,3,2,6,3,1,4,3,2,3,6]},\"fFunctions\":{\"_typename\":\"TList\",\"name\":\"TList\",\"arr\":[],\"opt\":[]},\"fHistogram\":{\"_typename\":\"TH1F\",\"fUniqueID\":0,\"fBits\":512,\"fName\":\"h_dataset\",\"fTitle\":\"Histogram of dataset_plot__y\",\"fLineColor\":602,\"fLineStyle\":1,\"fLineWidth\":1,\"fFillColor\":0,\"fFillStyle\":1001,\"fMarkerColor\":1,\"fMarkerStyle\":1,\"fMarkerSize\":1,\"fNcells\":102,\"fXaxis\":{\"_typename\":\"TAxis\",\"fUniqueID\":0,\"fBits\":0,\"fName\":\"xaxis\",\"fTitle\":\"\",\"fNdivisions\":510,\"fAxisColor\":1,\"fLabelColor\":1,\"fLabelFont\":42,\"fLabelOffset\":0.005,\"fLabelSize\":0.035,\"fTickLength\":0.03,\"fTitleOffset\":1,\"fTitleSize\":0.035,\"fTitleColor\":1,\"fTitleFont\":42,\"fNbins\":100,\"fXmin\":-12,\"fXmax\":12,\"fXbins\":[],\"fFirst\":0,\"fLast\":0,\"fBits2\":0,\"fTimeDisplay\":false,\"fTimeFormat\":\"\",\"fLabels\":null,\"fModLabs\":null},\"fYaxis\":{\"_typename\":\"TAxis\",\"fUniqueID\":0,\"fBits\":0,\"fName\":\"yaxis\",\"fTitle\":\"\",\"fNdivisions\":510,\"fAxisColor\":1,\"fLabelColor\":1,\"fLabelFont\":42,\"fLabelOffset\":0.005,\"fLabelSize\":0.035,\"fTickLength\":0.03,\"fTitleOffset\":0,\"fTitleSize\":0.035,\"fTitleColor\":1,\"fTitleFont\":42,\"fNbins\":1,\"fXmin\":0,\"fXmax\":10.542005700583,\"fXbins\":[],\"fFirst\":0,\"fLast\":0,\"fBits2\":0,\"fTimeDisplay\":false,\"fTimeFormat\":\"\",\"fLabels\":null,\"fModLabs\":null},\"fZaxis\":{\"_typename\":\"TAxis\",\"fUniqueID\":0,\"fBits\":0,\"fName\":\"zaxis\",\"fTitle\":\"\",\"fNdivisions\":510,\"fAxisColor\":1,\"fLabelColor\":1,\"fLabelFont\":42,\"fLabelOffset\":0.005,\"fLabelSize\":0.035,\"fTickLength\":0.03,\"fTitleOffset\":1,\"fTitleSize\":0.035,\"fTitleColor\":1,\"fTitleFont\":42,\"fNbins\":1,\"fXmin\":0,\"fXmax\":1,\"fXbins\":[],\"fFirst\":0,\"fLast\":0,\"fBits2\":0,\"fTimeDisplay\":false,\"fTimeFormat\":\"\",\"fLabels\":null,\"fModLabs\":null},\"fBarOffset\":0,\"fBarWidth\":1000,\"fEntries\":0,\"fTsumw\":0,\"fTsumw2\":0,\"fTsumwx\":0,\"fTsumwx2\":0,\"fMaximum\":10.542005700583,\"fMinimum\":0,\"fNormFactor\":0,\"fContour\":[],\"fSumw2\":[],\"fOption\":\"\",\"fFunctions\":{\"_typename\":\"TList\",\"name\":\"TList\",\"arr\":[],\"opt\":[]},\"fBufferSize\":0,\"fBuffer\":[],\"fBinStatErrOpt\":0,\"fStatOverflows\":2,\"fArray\":{\"$arr\":\"Float32\",\"len\":102}},\"fMinimum\":-1111,\"fMaximum\":-1111,\"fOption\":\"\",\"fEXlow\":{\"$arr\":\"Float64\",\"len\":20,\"v\":0.5,\"n\":20},\"fEXhigh\":{\"$arr\":\"Float64\",\"len\":20,\"v\":0.5,\"n\":20},\"fEYlow\":{\"$arr\":\"Float64\",\"len\":20,\"v\":[0.82724622097655,0.82724622097655,1.91433918622288,2.15969114440678,0,1.29181456018103,1.91433918622288,1.63270468610957,2.15969114440678,2.37993137929577,1.63270468610957,1.29181456018103,2.37993137929577,1.63270468610957,0.82724622097655,1.91433918622288,1.63270468610957,1.29181456018103,1.63270468610957,2.37993137929577]},\"fEYhigh\":{\"$arr\":\"Float64\",\"len\":20,\"v\":[2.29952655911586,2.29952655911586,3.16275317226094,3.38247265214689,1.14787446444932,2.63785962345524,3.16275317226094,2.9181858328834,3.38247265214689,3.58364154598457,2.9181858328834,2.63785962345524,3.58364154598457,2.9181858328834,2.29952655911586,3.16275317226094,2.9181858328834,2.63785962345524,2.9181858328834,3.58364154598457]},\"_yAxisLabel\":\"Events \\/ ( 1 )\",\"_ymin\":0,\"_ymax\":9.58364154598457,\"_normValue\":0,\"_nominalBinWidth\":1,\"_nSigma\":1,\"_entries\":64,\"_rawEntries\":-1,\"_originalWeights\":{\"$arr\":\"Float64\",\"len\":20,\"v\":[1,1,4,5,0,2,4,3,5,6,3,2,6,3,1,4,3,2,3,6]}}},{\"_typename\":\"TWebSnapshot\",\"fUniqueID\":0,\"fBits\":0,\"fObjectID\":\"\",\"fOption\":\"AXISSAME\",\"fKind\":1,\"fSnapshot\":{\"$ref\":139}},{\"_typename\":\"TWebSnapshot\",\"fUniqueID\":0,\"fBits\":0,\"fObjectID\":\"\",\"fOption\":\"blNDC\",\"fKind\":1,\"fSnapshot\":{\"_typename\":\"TPaveText\",\"fUniqueID\":0,\"fBits\":9,\"fLineColor\":1,\"fLineStyle\":1,\"fLineWidth\":1,\"fFillColor\":0,\"fFillStyle\":0,\"fX1\":-10.0000001291434,\"fY1\":10.5659649365895,\"fX2\":8.66666667660077,\"fY2\":11.257784081308,\"fX1NDC\":0.15,\"fY1NDC\":0.940000003948808,\"fX2NDC\":0.85,\"fY2NDC\":0.995000004768372,\"fBorderSize\":0,\"fInit\":1,\"fShadowColor\":1,\"fCornerRadius\":0,\"fOption\":\"blNDC\",\"fName\":\"title\",\"fTextAngle\":0,\"fTextSize\":0,\"fTextAlign\":22,\"fTextColor\":1,\"fTextFont\":42,\"fLabel\":\"\",\"fLongest\":39,\"fMargin\":0.05,\"fLines\":{\"_typename\":\"TList\",\"name\":\"TList\",\"arr\":[{\"_typename\":\"TLatex\",\"fUniqueID\":0,\"fBits\":0,\"fName\":\"\",\"fTitle\":\"Unbinned data read back from ASCII file\",\"fTextAngle\":0,\"fTextSize\":0,\"fTextAlign\":0,\"fTextColor\":0,\"fTextFont\":0,\"fX\":0,\"fY\":0,\"fLineColor\":1,\"fLineStyle\":1,\"fLineWidth\":2,\"fLimitFactorSize\":3,\"fOriginSize\":0.0467500016093254}],\"opt\":[\"\"]}}}]}],\"fScripts\":\"\",\"fHighlightConnect\":false,\"fFixedSize\":false});\n",
       "   Core.settings.HandleKeys = false;\n",
       "   Core.draw(\"root_plot_1733134811702\", obj, \"\");\n",
       "}\n",
       "\n",
       "function script_load_root_plot_1733134811702(src, on_error) {\n",
       "    let script = document.createElement('script');\n",
       "    script.src = src;\n",
       "    script.onload = function() { display_root_plot_1733134811702(JSROOT); };\n",
       "    script.onerror = function() { script.remove(); on_error(); };\n",
       "    document.head.appendChild(script);\n",
       "}\n",
       "\n",
       "if (typeof requirejs !== 'undefined') {\n",
       "\n",
       "    // We are in jupyter notebooks, use require.js which should be configured already\n",
       "    requirejs.config({\n",
       "       paths: { 'JSRootCore' : [ 'build/jsroot', 'https://root.cern/js/7.7.4/build/jsroot', 'https://jsroot.gsi.de/7.7.4/build/jsroot' ] }\n",
       "    })(['JSRootCore'],  function(Core) {\n",
       "       display_root_plot_1733134811702(Core);\n",
       "    });\n",
       "\n",
       "} else if (typeof JSROOT !== 'undefined') {\n",
       "\n",
       "   // JSROOT already loaded, just use it\n",
       "   display_root_plot_1733134811702(JSROOT);\n",
       "\n",
       "} else {\n",
       "\n",
       "    // We are in jupyterlab without require.js, directly loading jsroot\n",
       "    // Jupyterlab might be installed in a different base_url so we need to know it.\n",
       "    try {\n",
       "        var base_url = JSON.parse(document.getElementById('jupyter-config-data').innerHTML).baseUrl;\n",
       "    } catch(_) {\n",
       "        var base_url = '/';\n",
       "    }\n",
       "\n",
       "    // Try loading a local version of requirejs and fallback to cdn if not possible.\n",
       "    script_load_root_plot_1733134811702(base_url + 'static/build/jsroot.js', function(){\n",
       "        console.error('Fail to load JSROOT locally, please check your jupyter_notebook_config.py file');\n",
       "        script_load_root_plot_1733134811702('https://root.cern/js/7.7.4/build/jsroot.js', function(){\n",
       "            document.getElementById(\"root_plot_1733134811702\").innerHTML = \"Failed to load JSROOT\";\n",
       "        });\n",
       "    });\n",
       "}\n",
       "\n",
       "</script>\n"
      ],
      "text/plain": [
       "<IPython.core.display.HTML object>"
      ]
     },
     "metadata": {},
     "output_type": "display_data"
    }
   ],
   "source": [
    "%jsroot on\n",
    "gROOT->GetListOfCanvases()->Draw()"
   ]
  }
 ],
 "metadata": {
  "kernelspec": {
   "display_name": "ROOT C++",
   "language": "c++",
   "name": "root"
  },
  "language_info": {
   "codemirror_mode": "text/x-c++src",
   "file_extension": ".C",
   "mimetype": " text/x-c++src",
   "name": "c++"
  }
 },
 "nbformat": 4,
 "nbformat_minor": 5
}
