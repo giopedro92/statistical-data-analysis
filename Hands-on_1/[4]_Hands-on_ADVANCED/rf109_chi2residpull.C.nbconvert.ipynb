{
 "cells": [
  {
   "cell_type": "markdown",
   "id": "eef1cac3",
   "metadata": {},
   "source": [
    "# rf109_chi2residpull\n",
    "Basic functionality: Calculating chi^2 from histograms and curves in RooPlots, making\n",
    "histogram of residual and pull distributions\n",
    "\n",
    "\n",
    "\n",
    "\n",
    "**Author:** Wouter Verkerke  \n",
    "<i><small>This notebook tutorial was automatically generated with <a href= \"https://github.com/root-project/root/blob/master/documentation/doxygen/converttonotebook.py\">ROOTBOOK-izer</a> from the macro found in the ROOT repository  on Tuesday, December 03, 2024 at 10:18 AM.</small></i>"
   ]
  },
  {
   "cell_type": "code",
   "execution_count": null,
   "id": "b0a9874a",
   "metadata": {
    "collapsed": false
   },
   "outputs": [],
   "source": [
    "%%cpp -d\n",
    "#include \"RooRealVar.h\"\n",
    "#include \"RooDataSet.h\"\n",
    "#include \"RooGaussian.h\"\n",
    "#include \"TCanvas.h\"\n",
    "#include \"TAxis.h\"\n",
    "#include \"RooPlot.h\"\n",
    "#include \"RooHist.h\"\n",
    "using namespace RooFit;"
   ]
  },
  {
   "cell_type": "markdown",
   "id": "d4fed45a",
   "metadata": {},
   "source": [
    "Setup model\n",
    "---------------------"
   ]
  },
  {
   "cell_type": "markdown",
   "id": "2862931b",
   "metadata": {},
   "source": [
    "Create observables"
   ]
  },
  {
   "cell_type": "code",
   "execution_count": null,
   "id": "7af89068",
   "metadata": {
    "collapsed": false
   },
   "outputs": [],
   "source": [
    "RooRealVar x(\"x\", \"x\", -10, 10);"
   ]
  },
  {
   "cell_type": "markdown",
   "id": "76f60215",
   "metadata": {},
   "source": [
    "Create Gaussian"
   ]
  },
  {
   "cell_type": "code",
   "execution_count": null,
   "id": "e1048066",
   "metadata": {
    "collapsed": false
   },
   "outputs": [],
   "source": [
    "RooRealVar sigma(\"sigma\", \"sigma\", 3, 0.1, 10);\n",
    "RooRealVar mean(\"mean\", \"mean\", 0, -10, 10);\n",
    "RooGaussian gauss(\"gauss\", \"gauss\", x, 0.0, sigma);"
   ]
  },
  {
   "cell_type": "markdown",
   "id": "4b88c6cc",
   "metadata": {},
   "source": [
    "Generate a sample of 1000 events with sigma=3"
   ]
  },
  {
   "cell_type": "code",
   "execution_count": null,
   "id": "10729da3",
   "metadata": {
    "collapsed": false
   },
   "outputs": [],
   "source": [
    "std::unique_ptr<RooDataSet> data{gauss.generate(x, 10000)};"
   ]
  },
  {
   "cell_type": "markdown",
   "id": "d3a05fb3",
   "metadata": {},
   "source": [
    "Change sigma to 3.15"
   ]
  },
  {
   "cell_type": "code",
   "execution_count": null,
   "id": "acd71c89",
   "metadata": {
    "collapsed": false
   },
   "outputs": [],
   "source": [
    "sigma.setVal(3.15);"
   ]
  },
  {
   "cell_type": "markdown",
   "id": "f32cf8cf",
   "metadata": {},
   "source": [
    "Plot data and slightly distorted model\n",
    "---------------------------------------------------------------------------"
   ]
  },
  {
   "cell_type": "markdown",
   "id": "78ae9d98",
   "metadata": {},
   "source": [
    "Overlay projection of gauss with sigma=3.15 on data with sigma=3.0"
   ]
  },
  {
   "cell_type": "code",
   "execution_count": null,
   "id": "52386b88",
   "metadata": {
    "collapsed": false
   },
   "outputs": [],
   "source": [
    "RooPlot *frame1 = x.frame(Title(\"Data with distorted Gaussian pdf\"), Bins(40));\n",
    "data->plotOn(frame1, DataError(RooAbsData::SumW2));\n",
    "gauss.plotOn(frame1);"
   ]
  },
  {
   "cell_type": "markdown",
   "id": "e8e71962",
   "metadata": {},
   "source": [
    "Calculate chi^2\n",
    "------------------------------"
   ]
  },
  {
   "cell_type": "markdown",
   "id": "e94f7cc2",
   "metadata": {},
   "source": [
    "Show the chi^2 of the curve w.r.t. the histogram\n",
    "If multiple curves or datasets live in the frame you can specify\n",
    "the name of the relevant curve and/or dataset in chiSquare()"
   ]
  },
  {
   "cell_type": "code",
   "execution_count": null,
   "id": "56ad54f0",
   "metadata": {
    "collapsed": false
   },
   "outputs": [],
   "source": [
    "cout << \"chi^2 = \" << frame1->chiSquare() << endl;"
   ]
  },
  {
   "cell_type": "markdown",
   "id": "719630bb",
   "metadata": {},
   "source": [
    "Show residual and pull dists\n",
    "-------------------------------------------------------"
   ]
  },
  {
   "cell_type": "markdown",
   "id": "3296b06f",
   "metadata": {},
   "source": [
    "Construct a histogram with the residuals of the data w.r.t. the curve"
   ]
  },
  {
   "cell_type": "code",
   "execution_count": null,
   "id": "2387e8fa",
   "metadata": {
    "collapsed": false
   },
   "outputs": [],
   "source": [
    "RooHist *hresid = frame1->residHist();"
   ]
  },
  {
   "cell_type": "markdown",
   "id": "7fbbf364",
   "metadata": {},
   "source": [
    "Construct a histogram with the pulls of the data w.r.t the curve"
   ]
  },
  {
   "cell_type": "code",
   "execution_count": null,
   "id": "6f8517bc",
   "metadata": {
    "collapsed": false
   },
   "outputs": [],
   "source": [
    "RooHist *hpull = frame1->pullHist();"
   ]
  },
  {
   "cell_type": "markdown",
   "id": "c5bbe42e",
   "metadata": {},
   "source": [
    "Create a new frame to draw the residual distribution and add the distribution to the frame"
   ]
  },
  {
   "cell_type": "code",
   "execution_count": null,
   "id": "63b1cdc0",
   "metadata": {
    "collapsed": false
   },
   "outputs": [],
   "source": [
    "RooPlot *frame2 = x.frame(Title(\"Residual Distribution\"));\n",
    "frame2->addPlotable(hresid, \"P\");"
   ]
  },
  {
   "cell_type": "markdown",
   "id": "755f510d",
   "metadata": {},
   "source": [
    "Create a new frame to draw the pull distribution and add the distribution to the frame"
   ]
  },
  {
   "cell_type": "code",
   "execution_count": null,
   "id": "91c20043",
   "metadata": {
    "collapsed": false
   },
   "outputs": [],
   "source": [
    "RooPlot *frame3 = x.frame(Title(\"Pull Distribution\"));\n",
    "frame3->addPlotable(hpull, \"P\");\n",
    "\n",
    "TCanvas *c = new TCanvas(\"rf109_chi2residpull\", \"rf109_chi2residpull\", 900, 300);\n",
    "c->Divide(3);\n",
    "c->cd(1);\n",
    "gPad->SetLeftMargin(0.15);\n",
    "frame1->GetYaxis()->SetTitleOffset(1.6);\n",
    "frame1->Draw();\n",
    "c->cd(2);\n",
    "gPad->SetLeftMargin(0.15);\n",
    "frame2->GetYaxis()->SetTitleOffset(1.6);\n",
    "frame2->Draw();\n",
    "c->cd(3);\n",
    "gPad->SetLeftMargin(0.15);\n",
    "frame3->GetYaxis()->SetTitleOffset(1.6);\n",
    "frame3->Draw();"
   ]
  },
  {
   "cell_type": "markdown",
   "id": "8e2934ff",
   "metadata": {},
   "source": [
    "Draw all canvases "
   ]
  },
  {
   "cell_type": "code",
   "execution_count": null,
   "id": "a0f7dea5",
   "metadata": {
    "collapsed": false
   },
   "outputs": [],
   "source": [
    "%jsroot on\n",
    "gROOT->GetListOfCanvases()->Draw()"
   ]
  }
 ],
 "metadata": {
  "kernelspec": {
   "display_name": "ROOT C++",
   "language": "c++",
   "name": "root"
  },
  "language_info": {
   "codemirror_mode": "text/x-c++src",
   "file_extension": ".C",
   "mimetype": " text/x-c++src",
   "name": "c++"
  }
 },
 "nbformat": 4,
 "nbformat_minor": 5
}
