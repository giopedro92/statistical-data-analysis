{
 "cells": [
  {
   "cell_type": "code",
   "execution_count": null,
   "metadata": {},
   "outputs": [],
   "source": [
    "import ROOT\n",
    "\n",
    "# S e t u p   m o d e l\n",
    "# ---------------------\n",
    "\n",
    "# Declare variables x,mean,sigma with associated name, title, initial value and allowed range\n",
    "\n",
    "# Build gaussian pdf in terms of x,mean and sigma\n",
    "\n",
    "# Construct plot frame in 'x'\n",
    "\n",
    "# P l o t   m o d e l   a n d   c h a n g e   p a r a m e t e r   v a l u e s\n",
    "# ---------------------------------------------------------------------------\n",
    "\n",
    "# Plot gauss in frame (i.e. in x)\n",
    "\n",
    "# Change the value of sigma to 3 \n",
    "\n",
    "# Plot gauss in frame (i.e. in x) and draw frame on canvas\n",
    "\n",
    "# G e n e r a t e   e v e n t s\n",
    "# -----------------------------\n",
    "\n",
    "# Generate a dataset of 1000 events in x from gauss\n",
    "\n",
    "# Make a second plot frame in x and draw both the\n",
    "# data and the pdf in the frame\n",
    "\n",
    "# F i t   m o d e l   t o   d a t a\n",
    "# -----------------------------\n",
    "\n",
    "# Fit pdf to data\n",
    "\n",
    "# Print values of mean and sigma (that now reflect fitted values and errors)\n",
    "\n",
    "# Draw all frames on a canvas"
   ]
  },
  {
   "cell_type": "code",
   "execution_count": null,
   "metadata": {},
   "outputs": [],
   "source": []
  }
 ],
 "metadata": {
  "kernelspec": {
   "display_name": "Python 3",
   "language": "python",
   "name": "python3"
  },
  "language_info": {
   "codemirror_mode": {
    "name": "ipython",
    "version": 3
   },
   "file_extension": ".py",
   "mimetype": "text/x-python",
   "name": "python",
   "nbconvert_exporter": "python",
   "pygments_lexer": "ipython3",
   "version": "3.10.12"
  }
 },
 "nbformat": 4,
 "nbformat_minor": 2
}
